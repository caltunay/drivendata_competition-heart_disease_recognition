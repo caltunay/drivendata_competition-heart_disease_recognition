{
  "nbformat": 4,
  "nbformat_minor": 0,
  "metadata": {
    "colab": {
      "name": "Heart Disease Prediction - Take 2 .ipynb",
      "version": "0.3.2",
      "provenance": [],
      "include_colab_link": true
    },
    "kernelspec": {
      "name": "python3",
      "display_name": "Python 3"
    }
  },
  "cells": [
    {
      "cell_type": "markdown",
      "metadata": {
        "id": "view-in-github",
        "colab_type": "text"
      },
      "source": [
        "<a href=\"https://colab.research.google.com/github/caltunay/drivendata_competition-heart_disease_recognition/blob/master/94%25%20Accuracy%20-%20RFC%20-%20Heart_Disease_Prediction_Take_2_.ipynb\" target=\"_parent\"><img src=\"https://colab.research.google.com/assets/colab-badge.svg\" alt=\"Open In Colab\"/></a>"
      ]
    },
    {
      "cell_type": "code",
      "metadata": {
        "id": "uXWG-RHAL29V",
        "colab_type": "code",
        "colab": {}
      },
      "source": [
        "import pandas as pd\n",
        "import numpy as np"
      ],
      "execution_count": 0,
      "outputs": []
    },
    {
      "cell_type": "code",
      "metadata": {
        "id": "IVVh7UT2PKYX",
        "colab_type": "code",
        "outputId": "dec6022b-0e64-42b0-b2bd-066ad56d107f",
        "colab": {
          "base_uri": "https://localhost:8080/",
          "height": 35
        }
      },
      "source": [
        "x_train = pd.read_csv('train_values.csv')\n",
        "y_train = pd.read_csv('train_labels.csv')\n",
        "\n",
        "x_test = pd.read_csv('test_values.csv')\n",
        "\n",
        "print(x_train.shape, y_train.shape, x_t)"
      ],
      "execution_count": 0,
      "outputs": [
        {
          "output_type": "stream",
          "text": [
            "(180, 14) (180, 2) (90, 14)\n"
          ],
          "name": "stdout"
        }
      ]
    },
    {
      "cell_type": "code",
      "metadata": {
        "id": "iI2egj39PhC9",
        "colab_type": "code",
        "outputId": "cd9cc2c8-5942-4019-c079-f0652b080f88",
        "colab": {
          "base_uri": "https://localhost:8080/",
          "height": 363
        }
      },
      "source": [
        "x_train.info()"
      ],
      "execution_count": 0,
      "outputs": [
        {
          "output_type": "stream",
          "text": [
            "<class 'pandas.core.frame.DataFrame'>\n",
            "RangeIndex: 180 entries, 0 to 179\n",
            "Data columns (total 14 columns):\n",
            "patient_id                              180 non-null object\n",
            "slope_of_peak_exercise_st_segment       180 non-null int64\n",
            "thal                                    180 non-null object\n",
            "resting_blood_pressure                  180 non-null int64\n",
            "chest_pain_type                         180 non-null int64\n",
            "num_major_vessels                       180 non-null int64\n",
            "fasting_blood_sugar_gt_120_mg_per_dl    180 non-null int64\n",
            "resting_ekg_results                     180 non-null int64\n",
            "serum_cholesterol_mg_per_dl             180 non-null int64\n",
            "oldpeak_eq_st_depression                180 non-null float64\n",
            "sex                                     180 non-null int64\n",
            "age                                     180 non-null int64\n",
            "max_heart_rate_achieved                 180 non-null int64\n",
            "exercise_induced_angina                 180 non-null int64\n",
            "dtypes: float64(1), int64(11), object(2)\n",
            "memory usage: 19.8+ KB\n"
          ],
          "name": "stdout"
        }
      ]
    },
    {
      "cell_type": "code",
      "metadata": {
        "id": "JAUfmjKcSSY_",
        "colab_type": "code",
        "outputId": "7414ba1a-a84f-4898-8d56-69f97513b8c3",
        "colab": {
          "base_uri": "https://localhost:8080/",
          "height": 290
        }
      },
      "source": [
        "x_train.nunique().sort_values()"
      ],
      "execution_count": 0,
      "outputs": [
        {
          "output_type": "execute_result",
          "data": {
            "text/plain": [
              "fasting_blood_sugar_gt_120_mg_per_dl      2\n",
              "sex                                       2\n",
              "exercise_induced_angina                   2\n",
              "slope_of_peak_exercise_st_segment         3\n",
              "thal                                      3\n",
              "resting_ekg_results                       3\n",
              "chest_pain_type                           4\n",
              "num_major_vessels                         4\n",
              "oldpeak_eq_st_depression                 34\n",
              "resting_blood_pressure                   36\n",
              "age                                      40\n",
              "max_heart_rate_achieved                  73\n",
              "serum_cholesterol_mg_per_dl             118\n",
              "patient_id                              180\n",
              "dtype: int64"
            ]
          },
          "metadata": {
            "tags": []
          },
          "execution_count": 8
        }
      ]
    },
    {
      "cell_type": "markdown",
      "metadata": {
        "id": "j6Epc_BFSVbg",
        "colab_type": "text"
      },
      "source": [
        "There are 14 columns in the dataset, where the patient_id column is a unique and random identifier. The remaining 13 features are described in the section below.\n",
        "\n",
        "* slope_of_peak_exercise_st_segment (type: int): the slope of the peak exercise ST segment, an electrocardiography read out indicating quality of blood flow to the heart **(categorical ?** )\n",
        "* thal (type: **categorical**): results of thallium stress test measuring blood flow to the heart, with possible values normal, fixed_defect, reversible_defect\n",
        "* resting_blood_pressure (type: int): resting blood pressure \n",
        "* chest_pain_type (type: int): chest pain type (4 values) (**categorical** ? )\n",
        "* num_major_vessels (type: int): number of major vessels (0-3) colored by flourosopy (**categorical** ? )\n",
        "* fasting_blood_sugar_gt_120_mg_per_dl (type: binary): fasting blood sugar > 120 mg/dl (**categorical** ? )\n",
        "* resting_ekg_results (type: int): resting electrocardiographic results (values 0,1,2)   (**categorical** ? )\n",
        "* serum_cholesterol_mg_per_dl (type: int): serum cholestoral in mg/dl \n",
        "* oldpeak_eq_st_depression (type: float): oldpeak = ST depression induced by exercise relative to rest, a measure of abnormality in electrocardiograms\n",
        "* sex (type: binary): 0: female, 1: male (**categorical** ? )\n",
        "* age (type: int): age in years \n",
        "* max_heart_rate_achieved (type: int): maximum heart rate achieved (beats per minute)\n",
        "* exercise_induced_angina (type: binary): exercise-induced chest pain (0: False, 1: True) (**categorical** ? )\n"
      ]
    },
    {
      "cell_type": "code",
      "metadata": {
        "id": "pS72RbVZX2mX",
        "colab_type": "code",
        "outputId": "94cae89f-900d-4b6b-c9fc-5f6a8432a07e",
        "colab": {
          "base_uri": "https://localhost:8080/",
          "height": 35
        }
      },
      "source": [
        "# Categorical values are all integers. Will get them dummied as is \n",
        "\n",
        "category_cols = 'slope_of_peak_exercise_st_segment thal chest_pain_type num_major_vessels fasting_blood_sugar_gt_120_mg_per_dl resting_ekg_results exercise_induced_angina'.split()\n",
        "\n",
        "x_train_dummied = pd.get_dummies(data = x_train, drop_first = True, columns = category_cols, prefix_sep = '|')\n",
        "x_train_dummied.shape"
      ],
      "execution_count": 0,
      "outputs": [
        {
          "output_type": "execute_result",
          "data": {
            "text/plain": [
              "(180, 21)"
            ]
          },
          "metadata": {
            "tags": []
          },
          "execution_count": 19
        }
      ]
    },
    {
      "cell_type": "code",
      "metadata": {
        "id": "uyl1gruFeZq_",
        "colab_type": "code",
        "outputId": "a1e57fe4-8996-463a-8d33-d565d4945489",
        "colab": {
          "base_uri": "https://localhost:8080/",
          "height": 218
        }
      },
      "source": [
        "x_train_dummied.head()\n"
      ],
      "execution_count": 0,
      "outputs": [
        {
          "output_type": "execute_result",
          "data": {
            "text/html": [
              "<div>\n",
              "<style scoped>\n",
              "    .dataframe tbody tr th:only-of-type {\n",
              "        vertical-align: middle;\n",
              "    }\n",
              "\n",
              "    .dataframe tbody tr th {\n",
              "        vertical-align: top;\n",
              "    }\n",
              "\n",
              "    .dataframe thead th {\n",
              "        text-align: right;\n",
              "    }\n",
              "</style>\n",
              "<table border=\"1\" class=\"dataframe\">\n",
              "  <thead>\n",
              "    <tr style=\"text-align: right;\">\n",
              "      <th></th>\n",
              "      <th>patient_id</th>\n",
              "      <th>resting_blood_pressure</th>\n",
              "      <th>serum_cholesterol_mg_per_dl</th>\n",
              "      <th>oldpeak_eq_st_depression</th>\n",
              "      <th>sex</th>\n",
              "      <th>age</th>\n",
              "      <th>max_heart_rate_achieved</th>\n",
              "      <th>slope_of_peak_exercise_st_segment|2</th>\n",
              "      <th>slope_of_peak_exercise_st_segment|3</th>\n",
              "      <th>thal|normal</th>\n",
              "      <th>thal|reversible_defect</th>\n",
              "      <th>chest_pain_type|2</th>\n",
              "      <th>chest_pain_type|3</th>\n",
              "      <th>chest_pain_type|4</th>\n",
              "      <th>num_major_vessels|1</th>\n",
              "      <th>num_major_vessels|2</th>\n",
              "      <th>num_major_vessels|3</th>\n",
              "      <th>fasting_blood_sugar_gt_120_mg_per_dl|1</th>\n",
              "      <th>resting_ekg_results|1</th>\n",
              "      <th>resting_ekg_results|2</th>\n",
              "      <th>exercise_induced_angina|1</th>\n",
              "    </tr>\n",
              "  </thead>\n",
              "  <tbody>\n",
              "    <tr>\n",
              "      <th>0</th>\n",
              "      <td>0z64un</td>\n",
              "      <td>128</td>\n",
              "      <td>308</td>\n",
              "      <td>0.0</td>\n",
              "      <td>1</td>\n",
              "      <td>45</td>\n",
              "      <td>170</td>\n",
              "      <td>0</td>\n",
              "      <td>0</td>\n",
              "      <td>1</td>\n",
              "      <td>0</td>\n",
              "      <td>1</td>\n",
              "      <td>0</td>\n",
              "      <td>0</td>\n",
              "      <td>0</td>\n",
              "      <td>0</td>\n",
              "      <td>0</td>\n",
              "      <td>0</td>\n",
              "      <td>0</td>\n",
              "      <td>1</td>\n",
              "      <td>0</td>\n",
              "    </tr>\n",
              "    <tr>\n",
              "      <th>1</th>\n",
              "      <td>ryoo3j</td>\n",
              "      <td>110</td>\n",
              "      <td>214</td>\n",
              "      <td>1.6</td>\n",
              "      <td>0</td>\n",
              "      <td>54</td>\n",
              "      <td>158</td>\n",
              "      <td>1</td>\n",
              "      <td>0</td>\n",
              "      <td>1</td>\n",
              "      <td>0</td>\n",
              "      <td>0</td>\n",
              "      <td>1</td>\n",
              "      <td>0</td>\n",
              "      <td>0</td>\n",
              "      <td>0</td>\n",
              "      <td>0</td>\n",
              "      <td>0</td>\n",
              "      <td>0</td>\n",
              "      <td>0</td>\n",
              "      <td>0</td>\n",
              "    </tr>\n",
              "    <tr>\n",
              "      <th>2</th>\n",
              "      <td>yt1s1x</td>\n",
              "      <td>125</td>\n",
              "      <td>304</td>\n",
              "      <td>0.0</td>\n",
              "      <td>1</td>\n",
              "      <td>77</td>\n",
              "      <td>162</td>\n",
              "      <td>0</td>\n",
              "      <td>0</td>\n",
              "      <td>1</td>\n",
              "      <td>0</td>\n",
              "      <td>0</td>\n",
              "      <td>0</td>\n",
              "      <td>1</td>\n",
              "      <td>0</td>\n",
              "      <td>0</td>\n",
              "      <td>1</td>\n",
              "      <td>0</td>\n",
              "      <td>0</td>\n",
              "      <td>1</td>\n",
              "      <td>1</td>\n",
              "    </tr>\n",
              "    <tr>\n",
              "      <th>3</th>\n",
              "      <td>l2xjde</td>\n",
              "      <td>152</td>\n",
              "      <td>223</td>\n",
              "      <td>0.0</td>\n",
              "      <td>1</td>\n",
              "      <td>40</td>\n",
              "      <td>181</td>\n",
              "      <td>0</td>\n",
              "      <td>0</td>\n",
              "      <td>0</td>\n",
              "      <td>1</td>\n",
              "      <td>0</td>\n",
              "      <td>0</td>\n",
              "      <td>1</td>\n",
              "      <td>0</td>\n",
              "      <td>0</td>\n",
              "      <td>0</td>\n",
              "      <td>0</td>\n",
              "      <td>0</td>\n",
              "      <td>0</td>\n",
              "      <td>0</td>\n",
              "    </tr>\n",
              "    <tr>\n",
              "      <th>4</th>\n",
              "      <td>oyt4ek</td>\n",
              "      <td>178</td>\n",
              "      <td>270</td>\n",
              "      <td>4.2</td>\n",
              "      <td>1</td>\n",
              "      <td>59</td>\n",
              "      <td>145</td>\n",
              "      <td>0</td>\n",
              "      <td>1</td>\n",
              "      <td>0</td>\n",
              "      <td>1</td>\n",
              "      <td>0</td>\n",
              "      <td>0</td>\n",
              "      <td>0</td>\n",
              "      <td>0</td>\n",
              "      <td>0</td>\n",
              "      <td>0</td>\n",
              "      <td>0</td>\n",
              "      <td>0</td>\n",
              "      <td>1</td>\n",
              "      <td>0</td>\n",
              "    </tr>\n",
              "  </tbody>\n",
              "</table>\n",
              "</div>"
            ],
            "text/plain": [
              "  patient_id  ...  exercise_induced_angina|1\n",
              "0     0z64un  ...                          0\n",
              "1     ryoo3j  ...                          0\n",
              "2     yt1s1x  ...                          1\n",
              "3     l2xjde  ...                          0\n",
              "4     oyt4ek  ...                          0\n",
              "\n",
              "[5 rows x 21 columns]"
            ]
          },
          "metadata": {
            "tags": []
          },
          "execution_count": 20
        }
      ]
    },
    {
      "cell_type": "code",
      "metadata": {
        "id": "F9v8qU4hR0Kj",
        "colab_type": "code",
        "outputId": "6e04582f-8cb0-4659-9e4b-eabdabfb2e6b",
        "colab": {
          "base_uri": "https://localhost:8080/",
          "height": 98
        }
      },
      "source": [
        "x_test_dummied = pd.get_dummies(data = x_test, drop_first = True, columns = category_cols, prefix_sep = '|')\n",
        "x_test_dummied.head(1)"
      ],
      "execution_count": 0,
      "outputs": [
        {
          "output_type": "execute_result",
          "data": {
            "text/html": [
              "<div>\n",
              "<style scoped>\n",
              "    .dataframe tbody tr th:only-of-type {\n",
              "        vertical-align: middle;\n",
              "    }\n",
              "\n",
              "    .dataframe tbody tr th {\n",
              "        vertical-align: top;\n",
              "    }\n",
              "\n",
              "    .dataframe thead th {\n",
              "        text-align: right;\n",
              "    }\n",
              "</style>\n",
              "<table border=\"1\" class=\"dataframe\">\n",
              "  <thead>\n",
              "    <tr style=\"text-align: right;\">\n",
              "      <th></th>\n",
              "      <th>patient_id</th>\n",
              "      <th>resting_blood_pressure</th>\n",
              "      <th>serum_cholesterol_mg_per_dl</th>\n",
              "      <th>oldpeak_eq_st_depression</th>\n",
              "      <th>sex</th>\n",
              "      <th>age</th>\n",
              "      <th>max_heart_rate_achieved</th>\n",
              "      <th>slope_of_peak_exercise_st_segment|2</th>\n",
              "      <th>slope_of_peak_exercise_st_segment|3</th>\n",
              "      <th>thal|normal</th>\n",
              "      <th>thal|reversible_defect</th>\n",
              "      <th>chest_pain_type|2</th>\n",
              "      <th>chest_pain_type|3</th>\n",
              "      <th>chest_pain_type|4</th>\n",
              "      <th>num_major_vessels|1</th>\n",
              "      <th>num_major_vessels|2</th>\n",
              "      <th>num_major_vessels|3</th>\n",
              "      <th>fasting_blood_sugar_gt_120_mg_per_dl|1</th>\n",
              "      <th>resting_ekg_results|1</th>\n",
              "      <th>resting_ekg_results|2</th>\n",
              "      <th>exercise_induced_angina|1</th>\n",
              "    </tr>\n",
              "  </thead>\n",
              "  <tbody>\n",
              "    <tr>\n",
              "      <th>0</th>\n",
              "      <td>olalu7</td>\n",
              "      <td>170</td>\n",
              "      <td>288</td>\n",
              "      <td>0.2</td>\n",
              "      <td>1</td>\n",
              "      <td>59</td>\n",
              "      <td>159</td>\n",
              "      <td>1</td>\n",
              "      <td>0</td>\n",
              "      <td>0</td>\n",
              "      <td>1</td>\n",
              "      <td>0</td>\n",
              "      <td>0</td>\n",
              "      <td>0</td>\n",
              "      <td>0</td>\n",
              "      <td>0</td>\n",
              "      <td>0</td>\n",
              "      <td>0</td>\n",
              "      <td>0</td>\n",
              "      <td>1</td>\n",
              "      <td>0</td>\n",
              "    </tr>\n",
              "  </tbody>\n",
              "</table>\n",
              "</div>"
            ],
            "text/plain": [
              "  patient_id  ...  exercise_induced_angina|1\n",
              "0     olalu7  ...                          0\n",
              "\n",
              "[1 rows x 21 columns]"
            ]
          },
          "metadata": {
            "tags": []
          },
          "execution_count": 104
        }
      ]
    },
    {
      "cell_type": "code",
      "metadata": {
        "id": "SrJ0u9qbSERU",
        "colab_type": "code",
        "colab": {}
      },
      "source": [
        "x_test_dummied = x_test_dummied.drop(labels = 'patient_id', axis = 1)\n"
      ],
      "execution_count": 0,
      "outputs": []
    },
    {
      "cell_type": "code",
      "metadata": {
        "id": "B0nyIyaMwPAH",
        "colab_type": "code",
        "outputId": "96722e67-8a53-496c-c49a-c760b2a733e1",
        "colab": {
          "base_uri": "https://localhost:8080/",
          "height": 218
        }
      },
      "source": [
        "x_train_dummied = x_train_dummied.drop(labels = 'patient_id', axis = 1)\n",
        "\n",
        "x_train_dummied.head()"
      ],
      "execution_count": 0,
      "outputs": [
        {
          "output_type": "execute_result",
          "data": {
            "text/html": [
              "<div>\n",
              "<style scoped>\n",
              "    .dataframe tbody tr th:only-of-type {\n",
              "        vertical-align: middle;\n",
              "    }\n",
              "\n",
              "    .dataframe tbody tr th {\n",
              "        vertical-align: top;\n",
              "    }\n",
              "\n",
              "    .dataframe thead th {\n",
              "        text-align: right;\n",
              "    }\n",
              "</style>\n",
              "<table border=\"1\" class=\"dataframe\">\n",
              "  <thead>\n",
              "    <tr style=\"text-align: right;\">\n",
              "      <th></th>\n",
              "      <th>resting_blood_pressure</th>\n",
              "      <th>serum_cholesterol_mg_per_dl</th>\n",
              "      <th>oldpeak_eq_st_depression</th>\n",
              "      <th>sex</th>\n",
              "      <th>age</th>\n",
              "      <th>max_heart_rate_achieved</th>\n",
              "      <th>slope_of_peak_exercise_st_segment|2</th>\n",
              "      <th>slope_of_peak_exercise_st_segment|3</th>\n",
              "      <th>thal|normal</th>\n",
              "      <th>thal|reversible_defect</th>\n",
              "      <th>chest_pain_type|2</th>\n",
              "      <th>chest_pain_type|3</th>\n",
              "      <th>chest_pain_type|4</th>\n",
              "      <th>num_major_vessels|1</th>\n",
              "      <th>num_major_vessels|2</th>\n",
              "      <th>num_major_vessels|3</th>\n",
              "      <th>fasting_blood_sugar_gt_120_mg_per_dl|1</th>\n",
              "      <th>resting_ekg_results|1</th>\n",
              "      <th>resting_ekg_results|2</th>\n",
              "      <th>exercise_induced_angina|1</th>\n",
              "    </tr>\n",
              "  </thead>\n",
              "  <tbody>\n",
              "    <tr>\n",
              "      <th>0</th>\n",
              "      <td>128</td>\n",
              "      <td>308</td>\n",
              "      <td>0.0</td>\n",
              "      <td>1</td>\n",
              "      <td>45</td>\n",
              "      <td>170</td>\n",
              "      <td>0</td>\n",
              "      <td>0</td>\n",
              "      <td>1</td>\n",
              "      <td>0</td>\n",
              "      <td>1</td>\n",
              "      <td>0</td>\n",
              "      <td>0</td>\n",
              "      <td>0</td>\n",
              "      <td>0</td>\n",
              "      <td>0</td>\n",
              "      <td>0</td>\n",
              "      <td>0</td>\n",
              "      <td>1</td>\n",
              "      <td>0</td>\n",
              "    </tr>\n",
              "    <tr>\n",
              "      <th>1</th>\n",
              "      <td>110</td>\n",
              "      <td>214</td>\n",
              "      <td>1.6</td>\n",
              "      <td>0</td>\n",
              "      <td>54</td>\n",
              "      <td>158</td>\n",
              "      <td>1</td>\n",
              "      <td>0</td>\n",
              "      <td>1</td>\n",
              "      <td>0</td>\n",
              "      <td>0</td>\n",
              "      <td>1</td>\n",
              "      <td>0</td>\n",
              "      <td>0</td>\n",
              "      <td>0</td>\n",
              "      <td>0</td>\n",
              "      <td>0</td>\n",
              "      <td>0</td>\n",
              "      <td>0</td>\n",
              "      <td>0</td>\n",
              "    </tr>\n",
              "    <tr>\n",
              "      <th>2</th>\n",
              "      <td>125</td>\n",
              "      <td>304</td>\n",
              "      <td>0.0</td>\n",
              "      <td>1</td>\n",
              "      <td>77</td>\n",
              "      <td>162</td>\n",
              "      <td>0</td>\n",
              "      <td>0</td>\n",
              "      <td>1</td>\n",
              "      <td>0</td>\n",
              "      <td>0</td>\n",
              "      <td>0</td>\n",
              "      <td>1</td>\n",
              "      <td>0</td>\n",
              "      <td>0</td>\n",
              "      <td>1</td>\n",
              "      <td>0</td>\n",
              "      <td>0</td>\n",
              "      <td>1</td>\n",
              "      <td>1</td>\n",
              "    </tr>\n",
              "    <tr>\n",
              "      <th>3</th>\n",
              "      <td>152</td>\n",
              "      <td>223</td>\n",
              "      <td>0.0</td>\n",
              "      <td>1</td>\n",
              "      <td>40</td>\n",
              "      <td>181</td>\n",
              "      <td>0</td>\n",
              "      <td>0</td>\n",
              "      <td>0</td>\n",
              "      <td>1</td>\n",
              "      <td>0</td>\n",
              "      <td>0</td>\n",
              "      <td>1</td>\n",
              "      <td>0</td>\n",
              "      <td>0</td>\n",
              "      <td>0</td>\n",
              "      <td>0</td>\n",
              "      <td>0</td>\n",
              "      <td>0</td>\n",
              "      <td>0</td>\n",
              "    </tr>\n",
              "    <tr>\n",
              "      <th>4</th>\n",
              "      <td>178</td>\n",
              "      <td>270</td>\n",
              "      <td>4.2</td>\n",
              "      <td>1</td>\n",
              "      <td>59</td>\n",
              "      <td>145</td>\n",
              "      <td>0</td>\n",
              "      <td>1</td>\n",
              "      <td>0</td>\n",
              "      <td>1</td>\n",
              "      <td>0</td>\n",
              "      <td>0</td>\n",
              "      <td>0</td>\n",
              "      <td>0</td>\n",
              "      <td>0</td>\n",
              "      <td>0</td>\n",
              "      <td>0</td>\n",
              "      <td>0</td>\n",
              "      <td>1</td>\n",
              "      <td>0</td>\n",
              "    </tr>\n",
              "  </tbody>\n",
              "</table>\n",
              "</div>"
            ],
            "text/plain": [
              "   resting_blood_pressure  ...  exercise_induced_angina|1\n",
              "0                     128  ...                          0\n",
              "1                     110  ...                          0\n",
              "2                     125  ...                          1\n",
              "3                     152  ...                          0\n",
              "4                     178  ...                          0\n",
              "\n",
              "[5 rows x 20 columns]"
            ]
          },
          "metadata": {
            "tags": []
          },
          "execution_count": 27
        }
      ]
    },
    {
      "cell_type": "code",
      "metadata": {
        "id": "V4lsn4G0g3TA",
        "colab_type": "code",
        "colab": {}
      },
      "source": [
        "from sklearn.linear_model import LogisticRegression\n",
        "from sklearn.ensemble import RandomForestClassifier\n",
        "from sklearn.tree import DecisionTreeClassifier\n",
        "from sklearn.svm import SVC\n",
        "from sklearn.neighbors import KNeighborsClassifier\n",
        "from sklearn.model_selection import GridSearchCV\n",
        "from sklearn.preprocessing import StandardScaler"
      ],
      "execution_count": 0,
      "outputs": []
    },
    {
      "cell_type": "code",
      "metadata": {
        "id": "0W51-tjXvetO",
        "colab_type": "code",
        "colab": {}
      },
      "source": [
        "scaler = StandardScaler()\n",
        "scaled_x = scaler.fit_transform(x_train_dummied)"
      ],
      "execution_count": 0,
      "outputs": []
    },
    {
      "cell_type": "code",
      "metadata": {
        "id": "G3LpvDv4R-0T",
        "colab_type": "code",
        "outputId": "330d5c68-1fac-4425-ba84-fb1b07460371",
        "colab": {
          "base_uri": "https://localhost:8080/",
          "height": 254
        }
      },
      "source": [
        "scaled_x_test_dummied = scaler.transform(x_test_dummied)\n",
        "scaled_x_test_dummied"
      ],
      "execution_count": 0,
      "outputs": [
        {
          "output_type": "execute_result",
          "data": {
            "text/plain": [
              "array([[ 2.28076406,  0.73783356, -0.72435404, ..., -0.07474351,\n",
              "         0.95650071, -0.68074565],\n",
              "       [ 0.39431935, -1.25945294,  0.34876306, ..., -0.07474351,\n",
              "        -1.04547753, -0.68074565],\n",
              "       [-0.66680581, -1.3735836 ,  1.33245373, ..., -0.07474351,\n",
              "         0.95650071,  1.46897745],\n",
              "       ...,\n",
              "       [ 0.98383332, -0.09912459, -0.18779549, ..., -0.07474351,\n",
              "         0.95650071, -0.68074565],\n",
              "       [ 0.39431935, -0.11814637, -0.90320689, ..., -0.07474351,\n",
              "         0.95650071,  1.46897745],\n",
              "       [ 1.10173612, -0.04205926,  0.43818948, ..., -0.07474351,\n",
              "        -1.04547753, -0.68074565]])"
            ]
          },
          "metadata": {
            "tags": []
          },
          "execution_count": 108
        }
      ]
    },
    {
      "cell_type": "code",
      "metadata": {
        "id": "Sow_yaiawwyG",
        "colab_type": "code",
        "colab": {}
      },
      "source": [
        "import seaborn as sns\n",
        "import matplotlib.pyplot as plt\n"
      ],
      "execution_count": 0,
      "outputs": []
    },
    {
      "cell_type": "code",
      "metadata": {
        "id": "i_hZq9GoxCS2",
        "colab_type": "code",
        "outputId": "e9db3f6d-8249-4ae3-e3ac-610a9d230afe",
        "colab": {
          "base_uri": "https://localhost:8080/",
          "height": 35
        }
      },
      "source": [
        "cols = x_train_dummied.columns.tolist()\n",
        "len(cols)"
      ],
      "execution_count": 0,
      "outputs": [
        {
          "output_type": "execute_result",
          "data": {
            "text/plain": [
              "20"
            ]
          },
          "metadata": {
            "tags": []
          },
          "execution_count": 33
        }
      ]
    },
    {
      "cell_type": "code",
      "metadata": {
        "id": "XEt9GjFtw2U-",
        "colab_type": "code",
        "outputId": "91644f07-7ffe-4651-a313-ad13554d3902",
        "colab": {
          "base_uri": "https://localhost:8080/",
          "height": 749
        }
      },
      "source": [
        "n = 1\n",
        "plt.figure(figsize = (20,10))\n",
        "\n",
        "for i in cols:\n",
        "    plt.subplot(4,5,n)\n",
        "    sns.distplot(x_train_dummied[i], hist = False)\n",
        "    n += 1\n",
        "    \n",
        "plt.tight_layout()\n",
        "plt.show()"
      ],
      "execution_count": 0,
      "outputs": [
        {
          "output_type": "display_data",
          "data": {
            "image/png": "[encoded data removed]",
            "text/plain": [
              "<Figure size 1440x720 with 20 Axes>"
            ]
          },
          "metadata": {
            "tags": []
          }
        }
      ]
    },
    {
      "cell_type": "code",
      "metadata": {
        "id": "597MvmhcyzO9",
        "colab_type": "code",
        "colab": {}
      },
      "source": [
        "GridSearchCV()\n",
        "\n",
        "LogisticRegression()\n",
        "RandomForestClassifier()\n",
        "DecisionTreeClassifier()\n",
        "SVC()\n",
        "KNeighborsClassifier()\n",
        "\n",
        "for i in models:\n",
        "    \n",
        "    gs = GridSearchCV()\n",
        "    gs.best_estimator_.fit(x_train,y_train)"
      ],
      "execution_count": 0,
      "outputs": []
    },
    {
      "cell_type": "code",
      "metadata": {
        "id": "w3CH-BF_z35n",
        "colab_type": "code",
        "colab": {}
      },
      "source": [
        "train_labels = y_train.heart_disease_present.values"
      ],
      "execution_count": 0,
      "outputs": []
    },
    {
      "cell_type": "code",
      "metadata": {
        "id": "HUQVEQmey2xV",
        "colab_type": "code",
        "colab": {}
      },
      "source": [
        "# Create regularization penalty space\n",
        "penalty = ['l1', 'l2']\n",
        "\n",
        "# Create regularization hyperparameter space\n",
        "C = np.logspace(-4, 4, 50)\n",
        "\n",
        "# Create hyperparameter options\n",
        "hyperparameters = dict(C=C, penalty=penalty)\n",
        "\n",
        "\n",
        "gs_log = GridSearchCV(LogisticRegression(random_state = 42), param_grid = hyperparameters, cv = 10, verbose = 0)\n",
        "gs_log.fit(scaled_x,train_labels)"
      ],
      "execution_count": 0,
      "outputs": []
    },
    {
      "cell_type": "code",
      "metadata": {
        "id": "6fDpvBOb0Y98",
        "colab_type": "code",
        "colab": {}
      },
      "source": [
        "log_best = gs_log.best_estimator_"
      ],
      "execution_count": 0,
      "outputs": []
    },
    {
      "cell_type": "code",
      "metadata": {
        "id": "Q3LbbZPP18LE",
        "colab_type": "code",
        "colab": {}
      },
      "source": [
        "from sklearn.metrics import log_loss"
      ],
      "execution_count": 0,
      "outputs": []
    },
    {
      "cell_type": "code",
      "metadata": {
        "id": "D_prDWRW1yDc",
        "colab_type": "code",
        "colab": {}
      },
      "source": [
        "pred_proba = log_best.predict_proba(scaled_x)"
      ],
      "execution_count": 0,
      "outputs": []
    },
    {
      "cell_type": "code",
      "metadata": {
        "id": "JCGXeSWK2Ay1",
        "colab_type": "code",
        "outputId": "a5587239-5823-41ad-8a8d-159df0be8874",
        "colab": {
          "base_uri": "https://localhost:8080/",
          "height": 35
        }
      },
      "source": [
        "log_loss(train_labels, pred_proba)"
      ],
      "execution_count": 0,
      "outputs": [
        {
          "output_type": "execute_result",
          "data": {
            "text/plain": [
              "0.3255313251504666"
            ]
          },
          "metadata": {
            "tags": []
          },
          "execution_count": 56
        }
      ]
    },
    {
      "cell_type": "code",
      "metadata": {
        "id": "h-fDSdgo3iAg",
        "colab_type": "code",
        "colab": {}
      },
      "source": [
        "from sklearn.metrics import accuracy_score, precision_score, classification_report, confusion_matrix"
      ],
      "execution_count": 0,
      "outputs": []
    },
    {
      "cell_type": "code",
      "metadata": {
        "id": "EGke883e3pPH",
        "colab_type": "code",
        "colab": {}
      },
      "source": [
        "log_pred = log_best.predict(scaled_x)"
      ],
      "execution_count": 0,
      "outputs": []
    },
    {
      "cell_type": "code",
      "metadata": {
        "id": "6nAE2w0z3uji",
        "colab_type": "code",
        "outputId": "fdcd065c-d64f-45b4-c4aa-c88f544d9671",
        "colab": {
          "base_uri": "https://localhost:8080/",
          "height": 35
        }
      },
      "source": [
        "accuracy_score(train_labels, log_pred)"
      ],
      "execution_count": 0,
      "outputs": [
        {
          "output_type": "execute_result",
          "data": {
            "text/plain": [
              "0.8833333333333333"
            ]
          },
          "metadata": {
            "tags": []
          },
          "execution_count": 59
        }
      ]
    },
    {
      "cell_type": "code",
      "metadata": {
        "id": "rXSgNGHY31jp",
        "colab_type": "code",
        "outputId": "507a7c90-c6d6-4ad8-9a84-ef63a222c86f",
        "colab": {
          "base_uri": "https://localhost:8080/",
          "height": 181
        }
      },
      "source": [
        "print(classification_report(train_labels, log_pred))"
      ],
      "execution_count": 0,
      "outputs": [
        {
          "output_type": "stream",
          "text": [
            "              precision    recall  f1-score   support\n",
            "\n",
            "           0       0.86      0.95      0.90       100\n",
            "           1       0.93      0.80      0.86        80\n",
            "\n",
            "    accuracy                           0.88       180\n",
            "   macro avg       0.89      0.88      0.88       180\n",
            "weighted avg       0.89      0.88      0.88       180\n",
            "\n"
          ],
          "name": "stdout"
        }
      ]
    },
    {
      "cell_type": "code",
      "metadata": {
        "id": "5y6hmr_25MZn",
        "colab_type": "code",
        "outputId": "83c5cb64-ed43-4e3f-e343-23239d3293f4",
        "colab": {
          "base_uri": "https://localhost:8080/",
          "height": 399
        }
      },
      "source": [
        "parameters_rfc = { \n",
        "    'n_estimators': list(range(5,20)),\n",
        "    'max_features': ['auto', 'sqrt', 'log2'],\n",
        "    'max_depth' : list(range(2,8)),\n",
        "    'criterion' :['gini', 'entropy']\n",
        "}\n",
        "\n",
        "gs_rfc = GridSearchCV(RandomForestClassifier(random_state = 42), cv = 10, verbose = 0, param_grid = parameters_rfc)\n",
        "gs_rfc.fit(scaled_x, train_labels)"
      ],
      "execution_count": 0,
      "outputs": [
        {
          "output_type": "execute_result",
          "data": {
            "text/plain": [
              "GridSearchCV(cv=10, error_score='raise-deprecating',\n",
              "             estimator=RandomForestClassifier(bootstrap=True, class_weight=None,\n",
              "                                              criterion='gini', max_depth=None,\n",
              "                                              max_features='auto',\n",
              "                                              max_leaf_nodes=None,\n",
              "                                              min_impurity_decrease=0.0,\n",
              "                                              min_impurity_split=None,\n",
              "                                              min_samples_leaf=1,\n",
              "                                              min_samples_split=2,\n",
              "                                              min_weight_fraction_leaf=0.0,\n",
              "                                              n_estimators='warn', n_jobs=None,\n",
              "                                              oob_score=False, random_state=42,\n",
              "                                              verbose=0, warm_start=False),\n",
              "             iid='warn', n_jobs=None,\n",
              "             param_grid={'criterion': ['gini', 'entropy'],\n",
              "                         'max_depth': [2, 3, 4, 5, 6, 7],\n",
              "                         'max_features': ['auto', 'sqrt', 'log2'],\n",
              "                         'n_estimators': [5, 6, 7, 8, 9, 10, 11, 12, 13, 14, 15,\n",
              "                                          16, 17, 18, 19]},\n",
              "             pre_dispatch='2*n_jobs', refit=True, return_train_score=False,\n",
              "             scoring=None, verbose=0)"
            ]
          },
          "metadata": {
            "tags": []
          },
          "execution_count": 64
        }
      ]
    },
    {
      "cell_type": "code",
      "metadata": {
        "id": "ZczGPrguCMge",
        "colab_type": "code",
        "colab": {}
      },
      "source": [
        "rfc_best = gs_rfc.best_estimator_"
      ],
      "execution_count": 0,
      "outputs": []
    },
    {
      "cell_type": "code",
      "metadata": {
        "id": "JclXoR2OCUU_",
        "colab_type": "code",
        "colab": {}
      },
      "source": [
        "rfc_proba = rfc_best.predict_proba(scaled_x)"
      ],
      "execution_count": 0,
      "outputs": []
    },
    {
      "cell_type": "code",
      "metadata": {
        "id": "5ZLXIAnEU9p7",
        "colab_type": "code",
        "outputId": "d2e478e5-ca73-45f1-e113-a1dad1e0fa4d",
        "colab": {
          "base_uri": "https://localhost:8080/",
          "height": 1000
        }
      },
      "source": [
        "rfc_proba"
      ],
      "execution_count": 0,
      "outputs": [
        {
          "output_type": "execute_result",
          "data": {
            "text/plain": [
              "array([[0.86451895, 0.13548105],\n",
              "       [0.95328989, 0.04671011],\n",
              "       [0.37290521, 0.62709479],\n",
              "       [0.3635294 , 0.6364706 ],\n",
              "       [0.68340578, 0.31659422],\n",
              "       [0.87824919, 0.12175081],\n",
              "       [0.04881313, 0.95118687],\n",
              "       [0.14029395, 0.85970605],\n",
              "       [0.17422138, 0.82577862],\n",
              "       [0.92774641, 0.07225359],\n",
              "       [0.59690254, 0.40309746],\n",
              "       [0.76502826, 0.23497174],\n",
              "       [0.72012986, 0.27987014],\n",
              "       [0.81373566, 0.18626434],\n",
              "       [0.27933396, 0.72066604],\n",
              "       [0.09795261, 0.90204739],\n",
              "       [0.86772308, 0.13227692],\n",
              "       [0.07689225, 0.92310775],\n",
              "       [0.92528284, 0.07471716],\n",
              "       [0.64733205, 0.35266795],\n",
              "       [0.91881764, 0.08118236],\n",
              "       [0.68020608, 0.31979392],\n",
              "       [0.94046056, 0.05953944],\n",
              "       [0.57739335, 0.42260665],\n",
              "       [0.92117484, 0.07882516],\n",
              "       [0.86301246, 0.13698754],\n",
              "       [0.7495651 , 0.2504349 ],\n",
              "       [0.95771748, 0.04228252],\n",
              "       [0.47027245, 0.52972755],\n",
              "       [0.77070782, 0.22929218],\n",
              "       [0.87878654, 0.12121346],\n",
              "       [0.20614871, 0.79385129],\n",
              "       [0.15616582, 0.84383418],\n",
              "       [0.75247685, 0.24752315],\n",
              "       [0.19241267, 0.80758733],\n",
              "       [0.73741591, 0.26258409],\n",
              "       [0.82833604, 0.17166396],\n",
              "       [0.83896093, 0.16103907],\n",
              "       [0.81283219, 0.18716781],\n",
              "       [0.3823288 , 0.6176712 ],\n",
              "       [0.86389189, 0.13610811],\n",
              "       [0.89090113, 0.10909887],\n",
              "       [0.86583984, 0.13416016],\n",
              "       [0.81393305, 0.18606695],\n",
              "       [0.92328593, 0.07671407],\n",
              "       [0.48503592, 0.51496408],\n",
              "       [0.75432102, 0.24567898],\n",
              "       [0.91340617, 0.08659383],\n",
              "       [0.22085964, 0.77914036],\n",
              "       [0.93987459, 0.06012541],\n",
              "       [0.02662605, 0.97337395],\n",
              "       [0.94442932, 0.05557068],\n",
              "       [0.01671777, 0.98328223],\n",
              "       [0.3226859 , 0.6773141 ],\n",
              "       [0.70872236, 0.29127764],\n",
              "       [0.93202703, 0.06797297],\n",
              "       [0.026996  , 0.973004  ],\n",
              "       [0.03065067, 0.96934933],\n",
              "       [0.94209248, 0.05790752],\n",
              "       [0.49247323, 0.50752677],\n",
              "       [0.7617322 , 0.2382678 ],\n",
              "       [0.18569416, 0.81430584],\n",
              "       [0.09827892, 0.90172108],\n",
              "       [0.85904252, 0.14095748],\n",
              "       [0.81711442, 0.18288558],\n",
              "       [0.1406334 , 0.8593666 ],\n",
              "       [0.14152001, 0.85847999],\n",
              "       [0.78414342, 0.21585658],\n",
              "       [0.88797771, 0.11202229],\n",
              "       [0.24259815, 0.75740185],\n",
              "       [0.94209248, 0.05790752],\n",
              "       [0.74485638, 0.25514362],\n",
              "       [0.80540389, 0.19459611],\n",
              "       [0.96803093, 0.03196907],\n",
              "       [0.23660797, 0.76339203],\n",
              "       [0.18929383, 0.81070617],\n",
              "       [0.85377992, 0.14622008],\n",
              "       [0.04239009, 0.95760991],\n",
              "       [0.02135101, 0.97864899],\n",
              "       [0.09231569, 0.90768431],\n",
              "       [0.91385086, 0.08614914],\n",
              "       [0.10956271, 0.89043729],\n",
              "       [0.64929443, 0.35070557],\n",
              "       [0.02916351, 0.97083649],\n",
              "       [0.93921461, 0.06078539],\n",
              "       [0.41456992, 0.58543008],\n",
              "       [0.9474018 , 0.0525982 ],\n",
              "       [0.35246769, 0.64753231],\n",
              "       [0.92576973, 0.07423027],\n",
              "       [0.93084248, 0.06915752],\n",
              "       [0.82721382, 0.17278618],\n",
              "       [0.38200549, 0.61799451],\n",
              "       [0.92578556, 0.07421444],\n",
              "       [0.1168896 , 0.8831104 ],\n",
              "       [0.91406575, 0.08593425],\n",
              "       [0.64173356, 0.35826644],\n",
              "       [0.29672619, 0.70327381],\n",
              "       [0.75612097, 0.24387903],\n",
              "       [0.93156512, 0.06843488],\n",
              "       [0.89860977, 0.10139023],\n",
              "       [0.76183691, 0.23816309],\n",
              "       [0.85065132, 0.14934868],\n",
              "       [0.07824916, 0.92175084],\n",
              "       [0.90285586, 0.09714414],\n",
              "       [0.68479437, 0.31520563],\n",
              "       [0.60832116, 0.39167884],\n",
              "       [0.67729467, 0.32270533],\n",
              "       [0.07422454, 0.92577546],\n",
              "       [0.71232946, 0.28767054],\n",
              "       [0.24922336, 0.75077664],\n",
              "       [0.39886154, 0.60113846],\n",
              "       [0.97550771, 0.02449229],\n",
              "       [0.02013047, 0.97986953],\n",
              "       [0.21337091, 0.78662909],\n",
              "       [0.90027505, 0.09972495],\n",
              "       [0.87394008, 0.12605992],\n",
              "       [0.79141282, 0.20858718],\n",
              "       [0.24775146, 0.75224854],\n",
              "       [0.07422454, 0.92577546],\n",
              "       [0.19633152, 0.80366848],\n",
              "       [0.44903393, 0.55096607],\n",
              "       [0.97550771, 0.02449229],\n",
              "       [0.68222107, 0.31777893],\n",
              "       [0.72284465, 0.27715535],\n",
              "       [0.17624224, 0.82375776],\n",
              "       [0.78403015, 0.21596985],\n",
              "       [0.83517301, 0.16482699],\n",
              "       [0.62221936, 0.37778064],\n",
              "       [0.0422138 , 0.9577862 ],\n",
              "       [0.27260794, 0.72739206],\n",
              "       [0.84725379, 0.15274621],\n",
              "       [0.77267301, 0.22732699],\n",
              "       [0.97377159, 0.02622841],\n",
              "       [0.22264159, 0.77735841],\n",
              "       [0.24802439, 0.75197561],\n",
              "       [0.37011621, 0.62988379],\n",
              "       [0.15647428, 0.84352572],\n",
              "       [0.64716036, 0.35283964],\n",
              "       [0.85831508, 0.14168492],\n",
              "       [0.92528284, 0.07471716],\n",
              "       [0.09192971, 0.90807029],\n",
              "       [0.53733931, 0.46266069],\n",
              "       [0.78253757, 0.21746243],\n",
              "       [0.07831271, 0.92168729],\n",
              "       [0.08357516, 0.91642484],\n",
              "       [0.8525863 , 0.1474137 ],\n",
              "       [0.55335182, 0.44664818],\n",
              "       [0.43838258, 0.56161742],\n",
              "       [0.78904464, 0.21095536],\n",
              "       [0.50250105, 0.49749895],\n",
              "       [0.84122805, 0.15877195],\n",
              "       [0.84727558, 0.15272442],\n",
              "       [0.03560438, 0.96439562],\n",
              "       [0.57276837, 0.42723163],\n",
              "       [0.23446128, 0.76553872],\n",
              "       [0.58033209, 0.41966791],\n",
              "       [0.90197035, 0.09802965],\n",
              "       [0.95725507, 0.04274493],\n",
              "       [0.90027505, 0.09972495],\n",
              "       [0.08531653, 0.91468347],\n",
              "       [0.95102105, 0.04897895],\n",
              "       [0.07761769, 0.92238231],\n",
              "       [0.30248843, 0.69751157],\n",
              "       [0.15058068, 0.84941932],\n",
              "       [0.36269377, 0.63730623],\n",
              "       [0.94026094, 0.05973906],\n",
              "       [0.5585256 , 0.4414744 ],\n",
              "       [0.21830908, 0.78169092],\n",
              "       [0.66642803, 0.33357197],\n",
              "       [0.81419634, 0.18580366],\n",
              "       [0.11201511, 0.88798489],\n",
              "       [0.48645236, 0.51354764],\n",
              "       [0.14381161, 0.85618839],\n",
              "       [0.1745346 , 0.8254654 ],\n",
              "       [0.78374392, 0.21625608],\n",
              "       [0.20277569, 0.79722431],\n",
              "       [0.17028986, 0.82971014],\n",
              "       [0.14947075, 0.85052925],\n",
              "       [0.86618174, 0.13381826],\n",
              "       [0.95337357, 0.04662643]])"
            ]
          },
          "metadata": {
            "tags": []
          },
          "execution_count": 123
        }
      ]
    },
    {
      "cell_type": "code",
      "metadata": {
        "id": "DS3iv23bCfjf",
        "colab_type": "code",
        "outputId": "11d4a1d2-1f5c-45a2-b8a9-d9ccccc4de53",
        "colab": {
          "base_uri": "https://localhost:8080/",
          "height": 35
        }
      },
      "source": [
        "log_loss(train_labels, rfc_proba)"
      ],
      "execution_count": 0,
      "outputs": [
        {
          "output_type": "execute_result",
          "data": {
            "text/plain": [
              "0.26373534224078576"
            ]
          },
          "metadata": {
            "tags": []
          },
          "execution_count": 68
        }
      ]
    },
    {
      "cell_type": "code",
      "metadata": {
        "id": "hJhH1_9tCkXG",
        "colab_type": "code",
        "colab": {}
      },
      "source": [
        "rfc_pred = rfc_best.predict(scaled_x)"
      ],
      "execution_count": 0,
      "outputs": []
    },
    {
      "cell_type": "code",
      "metadata": {
        "id": "QpbH8bo4CphG",
        "colab_type": "code",
        "outputId": "91ea3803-b2cb-46b3-fb23-e820a9477d04",
        "colab": {
          "base_uri": "https://localhost:8080/",
          "height": 181
        }
      },
      "source": [
        "print(classification_report(train_labels, rfc_pred))"
      ],
      "execution_count": 0,
      "outputs": [
        {
          "output_type": "stream",
          "text": [
            "              precision    recall  f1-score   support\n",
            "\n",
            "           0       0.92      0.97      0.94       100\n",
            "           1       0.96      0.89      0.92        80\n",
            "\n",
            "    accuracy                           0.93       180\n",
            "   macro avg       0.94      0.93      0.93       180\n",
            "weighted avg       0.93      0.93      0.93       180\n",
            "\n"
          ],
          "name": "stdout"
        }
      ]
    },
    {
      "cell_type": "code",
      "metadata": {
        "id": "4vbNTjKlEmvW",
        "colab_type": "code",
        "outputId": "55489a13-35f6-4551-90f0-76f732d8e690",
        "colab": {
          "base_uri": "https://localhost:8080/",
          "height": 363
        }
      },
      "source": [
        "depths = np.arange(1, 21)\n",
        "num_leafs = np.arange(1,20)\n",
        "\n",
        "\n",
        "dtc_parameters = {\n",
        "    'max_depth':depths,\n",
        "    'min_samples_leaf':num_leafs}\n",
        "\n",
        "gs_dtc = GridSearchCV(DecisionTreeClassifier(random_state = 42), param_grid = dtc_parameters, verbose = 0, cv = 10, n_jobs = -1)\n",
        "gs_dtc.fit(scaled_x, train_labels)"
      ],
      "execution_count": 0,
      "outputs": [
        {
          "output_type": "execute_result",
          "data": {
            "text/plain": [
              "GridSearchCV(cv=10, error_score='raise-deprecating',\n",
              "             estimator=DecisionTreeClassifier(class_weight=None,\n",
              "                                              criterion='gini', max_depth=None,\n",
              "                                              max_features=None,\n",
              "                                              max_leaf_nodes=None,\n",
              "                                              min_impurity_decrease=0.0,\n",
              "                                              min_impurity_split=None,\n",
              "                                              min_samples_leaf=1,\n",
              "                                              min_samples_split=2,\n",
              "                                              min_weight_fraction_leaf=0.0,\n",
              "                                              presort=False, random_state=42,\n",
              "                                              splitter='best'),\n",
              "             iid='warn', n_jobs=-1,\n",
              "             param_grid={'max_depth': array([ 1,  2,  3,  4,  5,  6,  7,  8,  9, 10, 11, 12, 13, 14, 15, 16, 17,\n",
              "       18, 19, 20]),\n",
              "                         'min_samples_leaf': array([ 1,  2,  3,  4,  5,  6,  7,  8,  9, 10, 11, 12, 13, 14, 15, 16, 17,\n",
              "       18, 19])},\n",
              "             pre_dispatch='2*n_jobs', refit=True, return_train_score=False,\n",
              "             scoring=None, verbose=0)"
            ]
          },
          "metadata": {
            "tags": []
          },
          "execution_count": 73
        }
      ]
    },
    {
      "cell_type": "code",
      "metadata": {
        "id": "90BAbHPzHbdC",
        "colab_type": "code",
        "colab": {}
      },
      "source": [
        "dtc_best = gs_dtc.best_estimator_"
      ],
      "execution_count": 0,
      "outputs": []
    },
    {
      "cell_type": "code",
      "metadata": {
        "id": "yLpge924Hhdp",
        "colab_type": "code",
        "colab": {}
      },
      "source": [
        "dtc_proba = dtc_best.predict_proba(scaled_x)"
      ],
      "execution_count": 0,
      "outputs": []
    },
    {
      "cell_type": "code",
      "metadata": {
        "id": "JjSKfLQfHod4",
        "colab_type": "code",
        "outputId": "5b639e78-8d64-4dcb-d4ac-eeab04c55202",
        "colab": {
          "base_uri": "https://localhost:8080/",
          "height": 35
        }
      },
      "source": [
        "log_loss(train_labels ,dtc_proba)"
      ],
      "execution_count": 0,
      "outputs": [
        {
          "output_type": "execute_result",
          "data": {
            "text/plain": [
              "0.2935173132065225"
            ]
          },
          "metadata": {
            "tags": []
          },
          "execution_count": 79
        }
      ]
    },
    {
      "cell_type": "code",
      "metadata": {
        "id": "qEN-yrTpHtGw",
        "colab_type": "code",
        "colab": {}
      },
      "source": [
        "dtc_pred = dtc_best.predict(scaled_x)"
      ],
      "execution_count": 0,
      "outputs": []
    },
    {
      "cell_type": "code",
      "metadata": {
        "id": "frZlX0NIHv0g",
        "colab_type": "code",
        "outputId": "1f3a1189-0704-4f29-a2c2-82c7b30049e3",
        "colab": {
          "base_uri": "https://localhost:8080/",
          "height": 35
        }
      },
      "source": [
        "print(accuracy_score(train_labels, dtc_pred))"
      ],
      "execution_count": 0,
      "outputs": [
        {
          "output_type": "stream",
          "text": [
            "0.8777777777777778\n"
          ],
          "name": "stdout"
        }
      ]
    },
    {
      "cell_type": "code",
      "metadata": {
        "id": "2Gh004FQH0lA",
        "colab_type": "code",
        "outputId": "558b4318-95f8-4473-feed-60d846c13778",
        "colab": {
          "base_uri": "https://localhost:8080/",
          "height": 181
        }
      },
      "source": [
        "print(classification_report(train_labels, dtc_pred))"
      ],
      "execution_count": 0,
      "outputs": [
        {
          "output_type": "stream",
          "text": [
            "              precision    recall  f1-score   support\n",
            "\n",
            "           0       0.83      0.98      0.90       100\n",
            "           1       0.97      0.75      0.85        80\n",
            "\n",
            "    accuracy                           0.88       180\n",
            "   macro avg       0.90      0.86      0.87       180\n",
            "weighted avg       0.89      0.88      0.88       180\n",
            "\n"
          ],
          "name": "stdout"
        }
      ]
    },
    {
      "cell_type": "code",
      "metadata": {
        "id": "vvKjk8WNIXTH",
        "colab_type": "code",
        "outputId": "975fd13d-382a-4881-9b09-2fbc45fb2f52",
        "colab": {
          "base_uri": "https://localhost:8080/",
          "height": 217
        }
      },
      "source": [
        "Cs = [0.001, 0.01, 0.1, 1, 10]\n",
        "gammas = [0.001, 0.01, 0.1, 1]\n",
        "svc_parameters = {'C': Cs, 'gamma' : gammas}\n",
        "\n",
        "gs_svc = GridSearchCV(SVC(random_state = 42), cv = 10, verbose = 0, param_grid = svc_parameters)\n",
        "gs_svc.fit(scaled_x, train_labels)"
      ],
      "execution_count": 0,
      "outputs": [
        {
          "output_type": "execute_result",
          "data": {
            "text/plain": [
              "GridSearchCV(cv=10, error_score='raise-deprecating',\n",
              "             estimator=SVC(C=1.0, cache_size=200, class_weight=None, coef0=0.0,\n",
              "                           decision_function_shape='ovr', degree=3,\n",
              "                           gamma='auto_deprecated', kernel='rbf', max_iter=-1,\n",
              "                           probability=False, random_state=42, shrinking=True,\n",
              "                           tol=0.001, verbose=False),\n",
              "             iid='warn', n_jobs=None,\n",
              "             param_grid={'C': [0.001, 0.01, 0.1, 1, 10],\n",
              "                         'gamma': [0.001, 0.01, 0.1, 1]},\n",
              "             pre_dispatch='2*n_jobs', refit=True, return_train_score=False,\n",
              "             scoring=None, verbose=0)"
            ]
          },
          "metadata": {
            "tags": []
          },
          "execution_count": 86
        }
      ]
    },
    {
      "cell_type": "code",
      "metadata": {
        "id": "Ji09ZmamLWkM",
        "colab_type": "code",
        "colab": {}
      },
      "source": [
        "svc_best = gs_svc.best_estimator_"
      ],
      "execution_count": 0,
      "outputs": []
    },
    {
      "cell_type": "code",
      "metadata": {
        "id": "p8zEohRMMFkC",
        "colab_type": "code",
        "colab": {}
      },
      "source": [
        "svc_pred = svc_best.predict(scaled_x)"
      ],
      "execution_count": 0,
      "outputs": []
    },
    {
      "cell_type": "code",
      "metadata": {
        "id": "Zk4LJ33KMts_",
        "colab_type": "code",
        "outputId": "8df852a2-3fab-4736-f643-1b1a6613af40",
        "colab": {
          "base_uri": "https://localhost:8080/",
          "height": 35
        }
      },
      "source": [
        "print(accuracy_score(train_labels, svc_pred))"
      ],
      "execution_count": 0,
      "outputs": [
        {
          "output_type": "stream",
          "text": [
            "0.8444444444444444\n"
          ],
          "name": "stdout"
        }
      ]
    },
    {
      "cell_type": "code",
      "metadata": {
        "id": "F7MZS_59MzBw",
        "colab_type": "code",
        "outputId": "c270f4af-aaae-4bc6-de83-3a9ba5093fad",
        "colab": {
          "base_uri": "https://localhost:8080/",
          "height": 181
        }
      },
      "source": [
        "print(classification_report(train_labels, svc_pred))"
      ],
      "execution_count": 0,
      "outputs": [
        {
          "output_type": "stream",
          "text": [
            "              precision    recall  f1-score   support\n",
            "\n",
            "           0       0.83      0.91      0.87       100\n",
            "           1       0.87      0.76      0.81        80\n",
            "\n",
            "    accuracy                           0.84       180\n",
            "   macro avg       0.85      0.84      0.84       180\n",
            "weighted avg       0.85      0.84      0.84       180\n",
            "\n"
          ],
          "name": "stdout"
        }
      ]
    },
    {
      "cell_type": "code",
      "metadata": {
        "id": "YPZXgph2M2Vw",
        "colab_type": "code",
        "outputId": "e1bb5227-fe47-4dcd-f600-5b8d2ccf1207",
        "colab": {
          "base_uri": "https://localhost:8080/",
          "height": 254
        }
      },
      "source": [
        "knc_parameters = {\n",
        "    'n_neighbors':np.arange(5,20),\n",
        "    'leaf_size':np.arange(1,10),\n",
        "    'weights':'uniform distance'.split(),\n",
        "    'algorithm':'auto ball_tree kd_tree brute'.split()\n",
        "}\n",
        "\n",
        "\n",
        "gs_knc = GridSearchCV(KNeighborsClassifier(),verbose = 0, n_jobs = -1, cv = 10, param_grid = knc_parameters)\n",
        "\n",
        "gs_knc.fit(scaled_x, train_labels)"
      ],
      "execution_count": 0,
      "outputs": [
        {
          "output_type": "execute_result",
          "data": {
            "text/plain": [
              "GridSearchCV(cv=10, error_score='raise-deprecating',\n",
              "             estimator=KNeighborsClassifier(algorithm='auto', leaf_size=30,\n",
              "                                            metric='minkowski',\n",
              "                                            metric_params=None, n_jobs=None,\n",
              "                                            n_neighbors=5, p=2,\n",
              "                                            weights='uniform'),\n",
              "             iid='warn', n_jobs=-1,\n",
              "             param_grid={'algorithm': ['auto', 'ball_tree', 'kd_tree', 'brute'],\n",
              "                         'leaf_size': array([1, 2, 3, 4, 5, 6, 7, 8, 9]),\n",
              "                         'n_neighbors': array([ 5,  6,  7,  8,  9, 10, 11, 12, 13, 14, 15, 16, 17, 18, 19]),\n",
              "                         'weights': ['uniform', 'distance']},\n",
              "             pre_dispatch='2*n_jobs', refit=True, return_train_score=False,\n",
              "             scoring=None, verbose=0)"
            ]
          },
          "metadata": {
            "tags": []
          },
          "execution_count": 95
        }
      ]
    },
    {
      "cell_type": "code",
      "metadata": {
        "id": "Y5-1YdLLQ0LM",
        "colab_type": "code",
        "colab": {}
      },
      "source": [
        "knc_best = gs_knc.best_estimator_"
      ],
      "execution_count": 0,
      "outputs": []
    },
    {
      "cell_type": "code",
      "metadata": {
        "id": "vgeOIalLQ2vd",
        "colab_type": "code",
        "colab": {}
      },
      "source": [
        "knc_proba = knc_best.predict_proba(scaled_x)"
      ],
      "execution_count": 0,
      "outputs": []
    },
    {
      "cell_type": "code",
      "metadata": {
        "id": "Ac9O7C4PQ7Ou",
        "colab_type": "code",
        "outputId": "f67d02e5-97b9-4faf-b7c6-421827a4f95e",
        "colab": {
          "base_uri": "https://localhost:8080/",
          "height": 35
        }
      },
      "source": [
        "log_loss(train_labels, knc_proba)"
      ],
      "execution_count": 0,
      "outputs": [
        {
          "output_type": "execute_result",
          "data": {
            "text/plain": [
              "9.992007221626413e-16"
            ]
          },
          "metadata": {
            "tags": []
          },
          "execution_count": 98
        }
      ]
    },
    {
      "cell_type": "code",
      "metadata": {
        "id": "fSQlLqehRIIN",
        "colab_type": "code",
        "colab": {}
      },
      "source": [
        "knc_pred = knc_best.predict(scaled_x)"
      ],
      "execution_count": 0,
      "outputs": []
    },
    {
      "cell_type": "code",
      "metadata": {
        "id": "BNo1KleSRNRl",
        "colab_type": "code",
        "outputId": "5f55da77-4a5d-40c1-9e1c-40abcccfa49a",
        "colab": {
          "base_uri": "https://localhost:8080/",
          "height": 181
        }
      },
      "source": [
        "print(classification_report(train_labels, knc_pred))"
      ],
      "execution_count": 0,
      "outputs": [
        {
          "output_type": "stream",
          "text": [
            "              precision    recall  f1-score   support\n",
            "\n",
            "           0       1.00      1.00      1.00       100\n",
            "           1       1.00      1.00      1.00        80\n",
            "\n",
            "    accuracy                           1.00       180\n",
            "   macro avg       1.00      1.00      1.00       180\n",
            "weighted avg       1.00      1.00      1.00       180\n",
            "\n"
          ],
          "name": "stdout"
        }
      ]
    },
    {
      "cell_type": "code",
      "metadata": {
        "id": "hofBUANnRTll",
        "colab_type": "code",
        "outputId": "559b6370-8452-4d10-fe65-7d371696bed4",
        "colab": {
          "base_uri": "https://localhost:8080/",
          "height": 181
        }
      },
      "source": [
        "knc_pred"
      ],
      "execution_count": 0,
      "outputs": [
        {
          "output_type": "execute_result",
          "data": {
            "text/plain": [
              "array([0, 0, 1, 1, 0, 0, 1, 1, 1, 0, 0, 0, 1, 0, 1, 1, 0, 1, 0, 1, 0, 0,\n",
              "       0, 0, 0, 0, 0, 0, 1, 0, 0, 1, 1, 0, 1, 0, 0, 0, 0, 1, 0, 0, 0, 0,\n",
              "       0, 1, 0, 0, 1, 0, 1, 0, 1, 1, 1, 0, 1, 1, 0, 1, 0, 1, 1, 0, 0, 1,\n",
              "       1, 0, 0, 1, 0, 0, 0, 0, 1, 1, 0, 1, 1, 1, 0, 1, 1, 1, 0, 1, 0, 1,\n",
              "       0, 0, 0, 1, 0, 1, 0, 0, 1, 0, 0, 0, 0, 0, 1, 0, 0, 0, 0, 1, 0, 1,\n",
              "       0, 0, 1, 1, 0, 0, 0, 1, 1, 1, 1, 0, 0, 0, 1, 0, 0, 0, 1, 1, 0, 0,\n",
              "       0, 1, 1, 0, 1, 1, 0, 0, 1, 0, 0, 1, 1, 0, 0, 1, 1, 1, 0, 0, 1, 1,\n",
              "       1, 1, 0, 0, 0, 1, 0, 1, 1, 1, 0, 0, 0, 1, 0, 0, 1, 1, 1, 1, 0, 1,\n",
              "       1, 1, 0, 0])"
            ]
          },
          "metadata": {
            "tags": []
          },
          "execution_count": 102
        }
      ]
    },
    {
      "cell_type": "code",
      "metadata": {
        "id": "KNxFEhD4RoLM",
        "colab_type": "code",
        "colab": {}
      },
      "source": [
        "# KNeighbors Classifier predicts 100% \n",
        "\n",
        "test_label_pred = knc_best.predict(scaled_x_test_dummied)\n",
        "pred_df = pd.DataFrame(test_label_pred)"
      ],
      "execution_count": 0,
      "outputs": []
    },
    {
      "cell_type": "code",
      "metadata": {
        "id": "wlZOC-qwSvgr",
        "colab_type": "code",
        "outputId": "0e02ed78-c700-4229-ea73-97d1534550b3",
        "colab": {
          "base_uri": "https://localhost:8080/",
          "height": 348
        }
      },
      "source": [
        "pred_df.head(10)"
      ],
      "execution_count": 0,
      "outputs": [
        {
          "output_type": "execute_result",
          "data": {
            "text/html": [
              "<div>\n",
              "<style scoped>\n",
              "    .dataframe tbody tr th:only-of-type {\n",
              "        vertical-align: middle;\n",
              "    }\n",
              "\n",
              "    .dataframe tbody tr th {\n",
              "        vertical-align: top;\n",
              "    }\n",
              "\n",
              "    .dataframe thead th {\n",
              "        text-align: right;\n",
              "    }\n",
              "</style>\n",
              "<table border=\"1\" class=\"dataframe\">\n",
              "  <thead>\n",
              "    <tr style=\"text-align: right;\">\n",
              "      <th></th>\n",
              "      <th>0</th>\n",
              "    </tr>\n",
              "  </thead>\n",
              "  <tbody>\n",
              "    <tr>\n",
              "      <th>0</th>\n",
              "      <td>1</td>\n",
              "    </tr>\n",
              "    <tr>\n",
              "      <th>1</th>\n",
              "      <td>0</td>\n",
              "    </tr>\n",
              "    <tr>\n",
              "      <th>2</th>\n",
              "      <td>1</td>\n",
              "    </tr>\n",
              "    <tr>\n",
              "      <th>3</th>\n",
              "      <td>0</td>\n",
              "    </tr>\n",
              "    <tr>\n",
              "      <th>4</th>\n",
              "      <td>1</td>\n",
              "    </tr>\n",
              "    <tr>\n",
              "      <th>5</th>\n",
              "      <td>0</td>\n",
              "    </tr>\n",
              "    <tr>\n",
              "      <th>6</th>\n",
              "      <td>0</td>\n",
              "    </tr>\n",
              "    <tr>\n",
              "      <th>7</th>\n",
              "      <td>1</td>\n",
              "    </tr>\n",
              "    <tr>\n",
              "      <th>8</th>\n",
              "      <td>0</td>\n",
              "    </tr>\n",
              "    <tr>\n",
              "      <th>9</th>\n",
              "      <td>0</td>\n",
              "    </tr>\n",
              "  </tbody>\n",
              "</table>\n",
              "</div>"
            ],
            "text/plain": [
              "   0\n",
              "0  1\n",
              "1  0\n",
              "2  1\n",
              "3  0\n",
              "4  1\n",
              "5  0\n",
              "6  0\n",
              "7  1\n",
              "8  0\n",
              "9  0"
            ]
          },
          "metadata": {
            "tags": []
          },
          "execution_count": 116
        }
      ]
    },
    {
      "cell_type": "code",
      "metadata": {
        "id": "P07yfPvcS0XL",
        "colab_type": "code",
        "colab": {}
      },
      "source": [
        "test_patient_id = x_test[['patient_id']]"
      ],
      "execution_count": 0,
      "outputs": []
    },
    {
      "cell_type": "code",
      "metadata": {
        "id": "1-1IAadgS7M1",
        "colab_type": "code",
        "outputId": "d5f2db97-3d98-4e4f-9f98-e910e279ebaa",
        "colab": {
          "base_uri": "https://localhost:8080/",
          "height": 348
        }
      },
      "source": [
        "test_patient_id.head(10)"
      ],
      "execution_count": 0,
      "outputs": [
        {
          "output_type": "execute_result",
          "data": {
            "text/html": [
              "<div>\n",
              "<style scoped>\n",
              "    .dataframe tbody tr th:only-of-type {\n",
              "        vertical-align: middle;\n",
              "    }\n",
              "\n",
              "    .dataframe tbody tr th {\n",
              "        vertical-align: top;\n",
              "    }\n",
              "\n",
              "    .dataframe thead th {\n",
              "        text-align: right;\n",
              "    }\n",
              "</style>\n",
              "<table border=\"1\" class=\"dataframe\">\n",
              "  <thead>\n",
              "    <tr style=\"text-align: right;\">\n",
              "      <th></th>\n",
              "      <th>patient_id</th>\n",
              "    </tr>\n",
              "  </thead>\n",
              "  <tbody>\n",
              "    <tr>\n",
              "      <th>0</th>\n",
              "      <td>olalu7</td>\n",
              "    </tr>\n",
              "    <tr>\n",
              "      <th>1</th>\n",
              "      <td>z9n6mx</td>\n",
              "    </tr>\n",
              "    <tr>\n",
              "      <th>2</th>\n",
              "      <td>5k4413</td>\n",
              "    </tr>\n",
              "    <tr>\n",
              "      <th>3</th>\n",
              "      <td>mrg7q5</td>\n",
              "    </tr>\n",
              "    <tr>\n",
              "      <th>4</th>\n",
              "      <td>uki4do</td>\n",
              "    </tr>\n",
              "    <tr>\n",
              "      <th>5</th>\n",
              "      <td>kev1sk</td>\n",
              "    </tr>\n",
              "    <tr>\n",
              "      <th>6</th>\n",
              "      <td>9n6let</td>\n",
              "    </tr>\n",
              "    <tr>\n",
              "      <th>7</th>\n",
              "      <td>jxmtyg</td>\n",
              "    </tr>\n",
              "    <tr>\n",
              "      <th>8</th>\n",
              "      <td>51s2ff</td>\n",
              "    </tr>\n",
              "    <tr>\n",
              "      <th>9</th>\n",
              "      <td>wi9mcs</td>\n",
              "    </tr>\n",
              "  </tbody>\n",
              "</table>\n",
              "</div>"
            ],
            "text/plain": [
              "  patient_id\n",
              "0     olalu7\n",
              "1     z9n6mx\n",
              "2     5k4413\n",
              "3     mrg7q5\n",
              "4     uki4do\n",
              "5     kev1sk\n",
              "6     9n6let\n",
              "7     jxmtyg\n",
              "8     51s2ff\n",
              "9     wi9mcs"
            ]
          },
          "metadata": {
            "tags": []
          },
          "execution_count": 118
        }
      ]
    },
    {
      "cell_type": "code",
      "metadata": {
        "id": "dvfdGrtuTDKk",
        "colab_type": "code",
        "colab": {}
      },
      "source": [
        "preds = pd.merge(left = test_patient_id, right = pred_df, left_index = True, right_index = True)"
      ],
      "execution_count": 0,
      "outputs": []
    },
    {
      "cell_type": "code",
      "metadata": {
        "id": "CkOUidzwTTa8",
        "colab_type": "code",
        "colab": {}
      },
      "source": [
        "preds.to_csv('Predictions.csv')"
      ],
      "execution_count": 0,
      "outputs": []
    },
    {
      "cell_type": "code",
      "metadata": {
        "id": "1F5hRnP-U1hD",
        "colab_type": "code",
        "outputId": "5a19d045-4454-43c8-f783-bd6291b025e9",
        "colab": {
          "base_uri": "https://localhost:8080/",
          "height": 198
        }
      },
      "source": [
        "pred_df = pd.DataFrame(rfc_proba)\n",
        "pred_df.head()"
      ],
      "execution_count": 0,
      "outputs": [
        {
          "output_type": "execute_result",
          "data": {
            "text/html": [
              "<div>\n",
              "<style scoped>\n",
              "    .dataframe tbody tr th:only-of-type {\n",
              "        vertical-align: middle;\n",
              "    }\n",
              "\n",
              "    .dataframe tbody tr th {\n",
              "        vertical-align: top;\n",
              "    }\n",
              "\n",
              "    .dataframe thead th {\n",
              "        text-align: right;\n",
              "    }\n",
              "</style>\n",
              "<table border=\"1\" class=\"dataframe\">\n",
              "  <thead>\n",
              "    <tr style=\"text-align: right;\">\n",
              "      <th></th>\n",
              "      <th>0</th>\n",
              "      <th>1</th>\n",
              "    </tr>\n",
              "  </thead>\n",
              "  <tbody>\n",
              "    <tr>\n",
              "      <th>0</th>\n",
              "      <td>0.864519</td>\n",
              "      <td>0.135481</td>\n",
              "    </tr>\n",
              "    <tr>\n",
              "      <th>1</th>\n",
              "      <td>0.953290</td>\n",
              "      <td>0.046710</td>\n",
              "    </tr>\n",
              "    <tr>\n",
              "      <th>2</th>\n",
              "      <td>0.372905</td>\n",
              "      <td>0.627095</td>\n",
              "    </tr>\n",
              "    <tr>\n",
              "      <th>3</th>\n",
              "      <td>0.363529</td>\n",
              "      <td>0.636471</td>\n",
              "    </tr>\n",
              "    <tr>\n",
              "      <th>4</th>\n",
              "      <td>0.683406</td>\n",
              "      <td>0.316594</td>\n",
              "    </tr>\n",
              "  </tbody>\n",
              "</table>\n",
              "</div>"
            ],
            "text/plain": [
              "          0         1\n",
              "0  0.864519  0.135481\n",
              "1  0.953290  0.046710\n",
              "2  0.372905  0.627095\n",
              "3  0.363529  0.636471\n",
              "4  0.683406  0.316594"
            ]
          },
          "metadata": {
            "tags": []
          },
          "execution_count": 126
        }
      ]
    },
    {
      "cell_type": "code",
      "metadata": {
        "id": "5FWNq_DEVOXc",
        "colab_type": "code",
        "colab": {}
      },
      "source": [
        "# preds.head()\n",
        "preds.drop(labels = 0, axis = 1, inplace = True)"
      ],
      "execution_count": 0,
      "outputs": []
    },
    {
      "cell_type": "code",
      "metadata": {
        "id": "xQwAakYvWKbq",
        "colab_type": "code",
        "colab": {}
      },
      "source": [
        "preds.rename({1:'heart_disease_present'}, axis = 1, inplace = True)"
      ],
      "execution_count": 0,
      "outputs": []
    },
    {
      "cell_type": "code",
      "metadata": {
        "id": "j3hfgRPaWUVy",
        "colab_type": "code",
        "outputId": "8ee42247-494a-49e8-8282-fa0366a8d1e6",
        "colab": {
          "base_uri": "https://localhost:8080/",
          "height": 198
        }
      },
      "source": [
        "preds.head()"
      ],
      "execution_count": 0,
      "outputs": [
        {
          "output_type": "execute_result",
          "data": {
            "text/html": [
              "<div>\n",
              "<style scoped>\n",
              "    .dataframe tbody tr th:only-of-type {\n",
              "        vertical-align: middle;\n",
              "    }\n",
              "\n",
              "    .dataframe tbody tr th {\n",
              "        vertical-align: top;\n",
              "    }\n",
              "\n",
              "    .dataframe thead th {\n",
              "        text-align: right;\n",
              "    }\n",
              "</style>\n",
              "<table border=\"1\" class=\"dataframe\">\n",
              "  <thead>\n",
              "    <tr style=\"text-align: right;\">\n",
              "      <th></th>\n",
              "      <th>patient_id</th>\n",
              "      <th>heart_disease_present</th>\n",
              "    </tr>\n",
              "  </thead>\n",
              "  <tbody>\n",
              "    <tr>\n",
              "      <th>0</th>\n",
              "      <td>olalu7</td>\n",
              "      <td>0.135481</td>\n",
              "    </tr>\n",
              "    <tr>\n",
              "      <th>1</th>\n",
              "      <td>z9n6mx</td>\n",
              "      <td>0.046710</td>\n",
              "    </tr>\n",
              "    <tr>\n",
              "      <th>2</th>\n",
              "      <td>5k4413</td>\n",
              "      <td>0.627095</td>\n",
              "    </tr>\n",
              "    <tr>\n",
              "      <th>3</th>\n",
              "      <td>mrg7q5</td>\n",
              "      <td>0.636471</td>\n",
              "    </tr>\n",
              "    <tr>\n",
              "      <th>4</th>\n",
              "      <td>uki4do</td>\n",
              "      <td>0.316594</td>\n",
              "    </tr>\n",
              "  </tbody>\n",
              "</table>\n",
              "</div>"
            ],
            "text/plain": [
              "  patient_id  heart_disease_present\n",
              "0     olalu7               0.135481\n",
              "1     z9n6mx               0.046710\n",
              "2     5k4413               0.627095\n",
              "3     mrg7q5               0.636471\n",
              "4     uki4do               0.316594"
            ]
          },
          "metadata": {
            "tags": []
          },
          "execution_count": 136
        }
      ]
    },
    {
      "cell_type": "code",
      "metadata": {
        "id": "-KRofAn7Wsz5",
        "colab_type": "code",
        "colab": {}
      },
      "source": [
        "preds2 = preds.copy()\n",
        "preds2.set_index('patient_id', inplace = True)"
      ],
      "execution_count": 0,
      "outputs": []
    },
    {
      "cell_type": "code",
      "metadata": {
        "id": "TYmGsmjeWzJK",
        "colab_type": "code",
        "colab": {}
      },
      "source": [
        "preds2.to_csv('Predictions2.csv')"
      ],
      "execution_count": 0,
      "outputs": []
    },
    {
      "cell_type": "code",
      "metadata": {
        "id": "MoTlNaFQVyNa",
        "colab_type": "code",
        "outputId": "baaf0931-5947-4e4a-c8bd-e38b6c300ac4",
        "colab": {
          "base_uri": "https://localhost:8080/",
          "height": 218
        }
      },
      "source": [
        "x_test.head()"
      ],
      "execution_count": 0,
      "outputs": [
        {
          "output_type": "execute_result",
          "data": {
            "text/html": [
              "<div>\n",
              "<style scoped>\n",
              "    .dataframe tbody tr th:only-of-type {\n",
              "        vertical-align: middle;\n",
              "    }\n",
              "\n",
              "    .dataframe tbody tr th {\n",
              "        vertical-align: top;\n",
              "    }\n",
              "\n",
              "    .dataframe thead th {\n",
              "        text-align: right;\n",
              "    }\n",
              "</style>\n",
              "<table border=\"1\" class=\"dataframe\">\n",
              "  <thead>\n",
              "    <tr style=\"text-align: right;\">\n",
              "      <th></th>\n",
              "      <th>patient_id</th>\n",
              "      <th>slope_of_peak_exercise_st_segment</th>\n",
              "      <th>thal</th>\n",
              "      <th>resting_blood_pressure</th>\n",
              "      <th>chest_pain_type</th>\n",
              "      <th>num_major_vessels</th>\n",
              "      <th>fasting_blood_sugar_gt_120_mg_per_dl</th>\n",
              "      <th>resting_ekg_results</th>\n",
              "      <th>serum_cholesterol_mg_per_dl</th>\n",
              "      <th>oldpeak_eq_st_depression</th>\n",
              "      <th>sex</th>\n",
              "      <th>age</th>\n",
              "      <th>max_heart_rate_achieved</th>\n",
              "      <th>exercise_induced_angina</th>\n",
              "    </tr>\n",
              "  </thead>\n",
              "  <tbody>\n",
              "    <tr>\n",
              "      <th>0</th>\n",
              "      <td>olalu7</td>\n",
              "      <td>2</td>\n",
              "      <td>reversible_defect</td>\n",
              "      <td>170</td>\n",
              "      <td>1</td>\n",
              "      <td>0</td>\n",
              "      <td>0</td>\n",
              "      <td>2</td>\n",
              "      <td>288</td>\n",
              "      <td>0.2</td>\n",
              "      <td>1</td>\n",
              "      <td>59</td>\n",
              "      <td>159</td>\n",
              "      <td>0</td>\n",
              "    </tr>\n",
              "    <tr>\n",
              "      <th>1</th>\n",
              "      <td>z9n6mx</td>\n",
              "      <td>1</td>\n",
              "      <td>normal</td>\n",
              "      <td>138</td>\n",
              "      <td>4</td>\n",
              "      <td>0</td>\n",
              "      <td>0</td>\n",
              "      <td>0</td>\n",
              "      <td>183</td>\n",
              "      <td>1.4</td>\n",
              "      <td>0</td>\n",
              "      <td>35</td>\n",
              "      <td>182</td>\n",
              "      <td>0</td>\n",
              "    </tr>\n",
              "    <tr>\n",
              "      <th>2</th>\n",
              "      <td>5k4413</td>\n",
              "      <td>2</td>\n",
              "      <td>reversible_defect</td>\n",
              "      <td>120</td>\n",
              "      <td>4</td>\n",
              "      <td>0</td>\n",
              "      <td>0</td>\n",
              "      <td>2</td>\n",
              "      <td>177</td>\n",
              "      <td>2.5</td>\n",
              "      <td>1</td>\n",
              "      <td>43</td>\n",
              "      <td>120</td>\n",
              "      <td>1</td>\n",
              "    </tr>\n",
              "    <tr>\n",
              "      <th>3</th>\n",
              "      <td>mrg7q5</td>\n",
              "      <td>1</td>\n",
              "      <td>normal</td>\n",
              "      <td>102</td>\n",
              "      <td>3</td>\n",
              "      <td>1</td>\n",
              "      <td>0</td>\n",
              "      <td>0</td>\n",
              "      <td>318</td>\n",
              "      <td>0.0</td>\n",
              "      <td>0</td>\n",
              "      <td>60</td>\n",
              "      <td>160</td>\n",
              "      <td>0</td>\n",
              "    </tr>\n",
              "    <tr>\n",
              "      <th>4</th>\n",
              "      <td>uki4do</td>\n",
              "      <td>2</td>\n",
              "      <td>normal</td>\n",
              "      <td>138</td>\n",
              "      <td>4</td>\n",
              "      <td>1</td>\n",
              "      <td>0</td>\n",
              "      <td>2</td>\n",
              "      <td>166</td>\n",
              "      <td>3.6</td>\n",
              "      <td>1</td>\n",
              "      <td>61</td>\n",
              "      <td>125</td>\n",
              "      <td>1</td>\n",
              "    </tr>\n",
              "  </tbody>\n",
              "</table>\n",
              "</div>"
            ],
            "text/plain": [
              "  patient_id  ...  exercise_induced_angina\n",
              "0     olalu7  ...                        0\n",
              "1     z9n6mx  ...                        0\n",
              "2     5k4413  ...                        1\n",
              "3     mrg7q5  ...                        0\n",
              "4     uki4do  ...                        1\n",
              "\n",
              "[5 rows x 14 columns]"
            ]
          },
          "metadata": {
            "tags": []
          },
          "execution_count": 130
        }
      ]
    }
  ]
}