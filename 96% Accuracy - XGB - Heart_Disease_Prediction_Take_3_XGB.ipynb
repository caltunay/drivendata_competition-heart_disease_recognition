{
  "nbformat": 4,
  "nbformat_minor": 0,
  "metadata": {
    "colab": {
      "name": "Heart Disease Prediction - Take 3 - XGB.ipynb",
      "version": "0.3.2",
      "provenance": [],
      "include_colab_link": true
    },
    "kernelspec": {
      "name": "python3",
      "display_name": "Python 3"
    },
    "accelerator": "TPU"
  },
  "cells": [
    {
      "cell_type": "markdown",
      "metadata": {
        "id": "view-in-github",
        "colab_type": "text"
      },
      "source": [
        "<a href=\"https://colab.research.google.com/github/caltunay/drivendata_competition-heart_disease_recognition/blob/master/96%25%20Accuracy%20-%20XGB%20-%20Heart_Disease_Prediction_Take_3_XGB.ipynb\" target=\"_parent\"><img src=\"https://colab.research.google.com/assets/colab-badge.svg\" alt=\"Open In Colab\"/></a>"
      ]
    },
    {
      "cell_type": "code",
      "metadata": {
        "id": "vPrFxgBoJaH4",
        "colab_type": "code",
        "colab": {}
      },
      "source": [
        "import numpy as np\n",
        "import pandas as pd\n",
        "import matplotlib.pyplot as plt\n",
        "import seaborn as sns\n",
        "from sklearn.metrics import classification_report, precision_score, accuracy_score\n",
        "from sklearn.ensemble import RandomForestClassifier\n",
        "from sklearn.preprocessing import StandardScaler, MinMaxScaler\n",
        "from sklearn.model_selection import GridSearchCV"
      ],
      "execution_count": 0,
      "outputs": []
    },
    {
      "cell_type": "code",
      "metadata": {
        "id": "4ocXI-a6K2JG",
        "colab_type": "code",
        "colab": {}
      },
      "source": [
        "train_val = pd.read_csv('train_values.csv')\n",
        "train_lab = pd.read_csv('train_labels.csv')\n",
        "\n",
        "test_val = pd.read_csv('test_values.csv')"
      ],
      "execution_count": 0,
      "outputs": []
    },
    {
      "cell_type": "code",
      "metadata": {
        "id": "c8bdNU55QNja",
        "colab_type": "code",
        "colab": {}
      },
      "source": [
        "train_val"
      ],
      "execution_count": 0,
      "outputs": []
    },
    {
      "cell_type": "markdown",
      "metadata": {
        "id": "NSYIdX1wQ0yc",
        "colab_type": "text"
      },
      "source": [
        "There are 14 columns in the dataset, where the patient_id column is a unique and random identifier. The remaining 13 features are described in the section below.\n",
        "\n",
        "* **(Categorical)** slope_of_peak_exercise_st_segment (type: int): the slope of the peak exercise ST segment, an electrocardiography read out indicating quality of blood flow to the heart  \n",
        "\n",
        "        -- Value 1: upsloping   -- Value 2: flat  -- Value 3: downsloping \n",
        "*  **(Categorical)** thal (type: categorical): results of thallium stress test measuring blood flow to the heart, with possible values normal, fixed_defect, reversible_defect\n",
        "*resting_blood_pressure (type: int): resting blood pressure\n",
        "* **(Categorical)**  chest_pain_type (type: int): chest pain type (4 values)\n",
        "     -- Value 1: typical angina -- Value 2: atypical angina -- Value 3: non-anginal pain -- Value 4: asymptomatic \n",
        "* **(Categorical)** num_major_vessels (type: int): number of major vessels (0-3) colored by flourosopy\n",
        "* **(Categorical)** fasting_blood_sugar_gt_120_mg_per_dl (type: binary): fasting blood sugar > 120 mg/dl\n",
        "* **(Categorical)** resting_ekg_results (type: int): resting electrocardiographic results (values 0,1,2)\n",
        "        -- Value 0: normal  -- Value 1: having ST-T wave abnormality (T wave inversions and/or ST elevation or depression of > 0.05 mV)  -- Value 2: showing probable or definite left ventricular hypertrophy by Estes' criteria \n",
        "*serum_cholesterol_mg_per_dl (type: int): serum cholestoral in mg/dl\n",
        "*oldpeak_eq_st_depression (type: float): oldpeak = ST depression induced by exercise relative to rest, a measure of abnormality in electrocardiograms\n",
        "* **(Categorical)**  sex (type: binary): 0: female, 1: male\n",
        "*age (type: int): age in years\n",
        "*max_heart_rate_achieved (type: int): maximum heart rate achieved (beats per minute)\n",
        "***(Categorical)** exercise_induced_angina (type: binary): exercise-induced chest pain (0: False, 1: True)"
      ]
    },
    {
      "cell_type": "code",
      "metadata": {
        "id": "5h3OXL78WQK0",
        "colab_type": "code",
        "colab": {}
      },
      "source": [
        "def slope_type(df):\n",
        "    \n",
        "    \"\"\"Convert slope_of_peak_exercise_st_segment\n",
        "    column to string/categorical values\"\"\"\n",
        "    \n",
        "    if df['slope_of_peak_exercise_st_segment'] == 1:\n",
        "        return 'Upslope'\n",
        "    \n",
        "    elif df['slope_of_peak_exercise_st_segment'] == 2:\n",
        "        return 'Flat'\n",
        "    \n",
        "    else: \n",
        "        return 'Downslope'"
      ],
      "execution_count": 0,
      "outputs": []
    },
    {
      "cell_type": "code",
      "metadata": {
        "id": "UtVl07B5ZVDe",
        "colab_type": "code",
        "colab": {}
      },
      "source": [
        "train_val['slope_type'] = train_val.apply(slope_type, axis = 1)"
      ],
      "execution_count": 0,
      "outputs": []
    },
    {
      "cell_type": "code",
      "metadata": {
        "id": "G6odQdVo_UT7",
        "colab_type": "code",
        "colab": {}
      },
      "source": [
        "test_val['slope_type'] = test_val.apply(slope_type, axis = 1)"
      ],
      "execution_count": 0,
      "outputs": []
    },
    {
      "cell_type": "code",
      "metadata": {
        "id": "o1U4uq0s_Yl7",
        "colab_type": "code",
        "outputId": "28df746f-a5c3-4149-f858-78558623e87c",
        "colab": {
          "base_uri": "https://localhost:8080/",
          "height": 218
        }
      },
      "source": [
        "test_val.head()"
      ],
      "execution_count": 0,
      "outputs": [
        {
          "output_type": "execute_result",
          "data": {
            "text/html": [
              "<div>\n",
              "<style scoped>\n",
              "    .dataframe tbody tr th:only-of-type {\n",
              "        vertical-align: middle;\n",
              "    }\n",
              "\n",
              "    .dataframe tbody tr th {\n",
              "        vertical-align: top;\n",
              "    }\n",
              "\n",
              "    .dataframe thead th {\n",
              "        text-align: right;\n",
              "    }\n",
              "</style>\n",
              "<table border=\"1\" class=\"dataframe\">\n",
              "  <thead>\n",
              "    <tr style=\"text-align: right;\">\n",
              "      <th></th>\n",
              "      <th>patient_id</th>\n",
              "      <th>slope_of_peak_exercise_st_segment</th>\n",
              "      <th>thal</th>\n",
              "      <th>resting_blood_pressure</th>\n",
              "      <th>chest_pain_type</th>\n",
              "      <th>num_major_vessels</th>\n",
              "      <th>fasting_blood_sugar_gt_120_mg_per_dl</th>\n",
              "      <th>resting_ekg_results</th>\n",
              "      <th>serum_cholesterol_mg_per_dl</th>\n",
              "      <th>oldpeak_eq_st_depression</th>\n",
              "      <th>sex</th>\n",
              "      <th>age</th>\n",
              "      <th>max_heart_rate_achieved</th>\n",
              "      <th>exercise_induced_angina</th>\n",
              "      <th>slope_type</th>\n",
              "    </tr>\n",
              "  </thead>\n",
              "  <tbody>\n",
              "    <tr>\n",
              "      <th>0</th>\n",
              "      <td>olalu7</td>\n",
              "      <td>2</td>\n",
              "      <td>reversible_defect</td>\n",
              "      <td>170</td>\n",
              "      <td>1</td>\n",
              "      <td>0</td>\n",
              "      <td>0</td>\n",
              "      <td>2</td>\n",
              "      <td>288</td>\n",
              "      <td>0.2</td>\n",
              "      <td>1</td>\n",
              "      <td>59</td>\n",
              "      <td>159</td>\n",
              "      <td>0</td>\n",
              "      <td>Flat</td>\n",
              "    </tr>\n",
              "    <tr>\n",
              "      <th>1</th>\n",
              "      <td>z9n6mx</td>\n",
              "      <td>1</td>\n",
              "      <td>normal</td>\n",
              "      <td>138</td>\n",
              "      <td>4</td>\n",
              "      <td>0</td>\n",
              "      <td>0</td>\n",
              "      <td>0</td>\n",
              "      <td>183</td>\n",
              "      <td>1.4</td>\n",
              "      <td>0</td>\n",
              "      <td>35</td>\n",
              "      <td>182</td>\n",
              "      <td>0</td>\n",
              "      <td>Upslope</td>\n",
              "    </tr>\n",
              "    <tr>\n",
              "      <th>2</th>\n",
              "      <td>5k4413</td>\n",
              "      <td>2</td>\n",
              "      <td>reversible_defect</td>\n",
              "      <td>120</td>\n",
              "      <td>4</td>\n",
              "      <td>0</td>\n",
              "      <td>0</td>\n",
              "      <td>2</td>\n",
              "      <td>177</td>\n",
              "      <td>2.5</td>\n",
              "      <td>1</td>\n",
              "      <td>43</td>\n",
              "      <td>120</td>\n",
              "      <td>1</td>\n",
              "      <td>Flat</td>\n",
              "    </tr>\n",
              "    <tr>\n",
              "      <th>3</th>\n",
              "      <td>mrg7q5</td>\n",
              "      <td>1</td>\n",
              "      <td>normal</td>\n",
              "      <td>102</td>\n",
              "      <td>3</td>\n",
              "      <td>1</td>\n",
              "      <td>0</td>\n",
              "      <td>0</td>\n",
              "      <td>318</td>\n",
              "      <td>0.0</td>\n",
              "      <td>0</td>\n",
              "      <td>60</td>\n",
              "      <td>160</td>\n",
              "      <td>0</td>\n",
              "      <td>Upslope</td>\n",
              "    </tr>\n",
              "    <tr>\n",
              "      <th>4</th>\n",
              "      <td>uki4do</td>\n",
              "      <td>2</td>\n",
              "      <td>normal</td>\n",
              "      <td>138</td>\n",
              "      <td>4</td>\n",
              "      <td>1</td>\n",
              "      <td>0</td>\n",
              "      <td>2</td>\n",
              "      <td>166</td>\n",
              "      <td>3.6</td>\n",
              "      <td>1</td>\n",
              "      <td>61</td>\n",
              "      <td>125</td>\n",
              "      <td>1</td>\n",
              "      <td>Flat</td>\n",
              "    </tr>\n",
              "  </tbody>\n",
              "</table>\n",
              "</div>"
            ],
            "text/plain": [
              "  patient_id  ...  slope_type\n",
              "0     olalu7  ...        Flat\n",
              "1     z9n6mx  ...     Upslope\n",
              "2     5k4413  ...        Flat\n",
              "3     mrg7q5  ...     Upslope\n",
              "4     uki4do  ...        Flat\n",
              "\n",
              "[5 rows x 15 columns]"
            ]
          },
          "metadata": {
            "tags": []
          },
          "execution_count": 43
        }
      ]
    },
    {
      "cell_type": "code",
      "metadata": {
        "id": "KU8tTGKtbGSW",
        "colab_type": "code",
        "outputId": "ae7e2610-b549-4916-c058-4b7ab6b7c6e5",
        "colab": {
          "base_uri": "https://localhost:8080/",
          "height": 218
        }
      },
      "source": [
        "train_val.head()"
      ],
      "execution_count": 0,
      "outputs": [
        {
          "output_type": "execute_result",
          "data": {
            "text/html": [
              "<div>\n",
              "<style scoped>\n",
              "    .dataframe tbody tr th:only-of-type {\n",
              "        vertical-align: middle;\n",
              "    }\n",
              "\n",
              "    .dataframe tbody tr th {\n",
              "        vertical-align: top;\n",
              "    }\n",
              "\n",
              "    .dataframe thead th {\n",
              "        text-align: right;\n",
              "    }\n",
              "</style>\n",
              "<table border=\"1\" class=\"dataframe\">\n",
              "  <thead>\n",
              "    <tr style=\"text-align: right;\">\n",
              "      <th></th>\n",
              "      <th>patient_id</th>\n",
              "      <th>slope_of_peak_exercise_st_segment</th>\n",
              "      <th>thal</th>\n",
              "      <th>resting_blood_pressure</th>\n",
              "      <th>chest_pain_type</th>\n",
              "      <th>num_major_vessels</th>\n",
              "      <th>fasting_blood_sugar_gt_120_mg_per_dl</th>\n",
              "      <th>resting_ekg_results</th>\n",
              "      <th>serum_cholesterol_mg_per_dl</th>\n",
              "      <th>oldpeak_eq_st_depression</th>\n",
              "      <th>sex</th>\n",
              "      <th>age</th>\n",
              "      <th>max_heart_rate_achieved</th>\n",
              "      <th>exercise_induced_angina</th>\n",
              "      <th>slope_type</th>\n",
              "    </tr>\n",
              "  </thead>\n",
              "  <tbody>\n",
              "    <tr>\n",
              "      <th>0</th>\n",
              "      <td>0z64un</td>\n",
              "      <td>1</td>\n",
              "      <td>normal</td>\n",
              "      <td>128</td>\n",
              "      <td>2</td>\n",
              "      <td>0</td>\n",
              "      <td>0</td>\n",
              "      <td>2</td>\n",
              "      <td>308</td>\n",
              "      <td>0.0</td>\n",
              "      <td>1</td>\n",
              "      <td>45</td>\n",
              "      <td>170</td>\n",
              "      <td>0</td>\n",
              "      <td>Upslope</td>\n",
              "    </tr>\n",
              "    <tr>\n",
              "      <th>1</th>\n",
              "      <td>ryoo3j</td>\n",
              "      <td>2</td>\n",
              "      <td>normal</td>\n",
              "      <td>110</td>\n",
              "      <td>3</td>\n",
              "      <td>0</td>\n",
              "      <td>0</td>\n",
              "      <td>0</td>\n",
              "      <td>214</td>\n",
              "      <td>1.6</td>\n",
              "      <td>0</td>\n",
              "      <td>54</td>\n",
              "      <td>158</td>\n",
              "      <td>0</td>\n",
              "      <td>Flat</td>\n",
              "    </tr>\n",
              "    <tr>\n",
              "      <th>2</th>\n",
              "      <td>yt1s1x</td>\n",
              "      <td>1</td>\n",
              "      <td>normal</td>\n",
              "      <td>125</td>\n",
              "      <td>4</td>\n",
              "      <td>3</td>\n",
              "      <td>0</td>\n",
              "      <td>2</td>\n",
              "      <td>304</td>\n",
              "      <td>0.0</td>\n",
              "      <td>1</td>\n",
              "      <td>77</td>\n",
              "      <td>162</td>\n",
              "      <td>1</td>\n",
              "      <td>Upslope</td>\n",
              "    </tr>\n",
              "    <tr>\n",
              "      <th>3</th>\n",
              "      <td>l2xjde</td>\n",
              "      <td>1</td>\n",
              "      <td>reversible_defect</td>\n",
              "      <td>152</td>\n",
              "      <td>4</td>\n",
              "      <td>0</td>\n",
              "      <td>0</td>\n",
              "      <td>0</td>\n",
              "      <td>223</td>\n",
              "      <td>0.0</td>\n",
              "      <td>1</td>\n",
              "      <td>40</td>\n",
              "      <td>181</td>\n",
              "      <td>0</td>\n",
              "      <td>Upslope</td>\n",
              "    </tr>\n",
              "    <tr>\n",
              "      <th>4</th>\n",
              "      <td>oyt4ek</td>\n",
              "      <td>3</td>\n",
              "      <td>reversible_defect</td>\n",
              "      <td>178</td>\n",
              "      <td>1</td>\n",
              "      <td>0</td>\n",
              "      <td>0</td>\n",
              "      <td>2</td>\n",
              "      <td>270</td>\n",
              "      <td>4.2</td>\n",
              "      <td>1</td>\n",
              "      <td>59</td>\n",
              "      <td>145</td>\n",
              "      <td>0</td>\n",
              "      <td>Downslope</td>\n",
              "    </tr>\n",
              "  </tbody>\n",
              "</table>\n",
              "</div>"
            ],
            "text/plain": [
              "  patient_id  ...  slope_type\n",
              "0     0z64un  ...     Upslope\n",
              "1     ryoo3j  ...        Flat\n",
              "2     yt1s1x  ...     Upslope\n",
              "3     l2xjde  ...     Upslope\n",
              "4     oyt4ek  ...   Downslope\n",
              "\n",
              "[5 rows x 15 columns]"
            ]
          },
          "metadata": {
            "tags": []
          },
          "execution_count": 10
        }
      ]
    },
    {
      "cell_type": "code",
      "metadata": {
        "id": "S_MMXJtla3q3",
        "colab_type": "code",
        "colab": {}
      },
      "source": [
        "def chest_pain_type(df):\n",
        "    \n",
        "    \"\"\"Convert chest pain\n",
        "    type to string/categorical values\"\"\"\n",
        "    \n",
        "   \n",
        "    if df['chest_pain_type'] == 1:\n",
        "        return 'typical angina'\n",
        "\n",
        "    elif df['chest_pain_type'] == 2:\n",
        "        return 'atypical angina'\n",
        "    \n",
        "    elif df['chest_pain_type'] == 3:\n",
        "        return 'non-anginal angina'\n",
        "    \n",
        "    else:\n",
        "        return 'asymptomatic'"
      ],
      "execution_count": 0,
      "outputs": []
    },
    {
      "cell_type": "code",
      "metadata": {
        "id": "1aY4yCTZb3NS",
        "colab_type": "code",
        "colab": {}
      },
      "source": [
        "train_val['chest_pain'] = train_val.apply(chest_pain_type, axis = 1)"
      ],
      "execution_count": 0,
      "outputs": []
    },
    {
      "cell_type": "code",
      "metadata": {
        "id": "s3b53t0I_brb",
        "colab_type": "code",
        "colab": {}
      },
      "source": [
        "test_val['chest_pain'] = test_val.apply(chest_pain_type, axis = 1)"
      ],
      "execution_count": 0,
      "outputs": []
    },
    {
      "cell_type": "code",
      "metadata": {
        "id": "S89DgOg9cWeh",
        "colab_type": "code",
        "colab": {}
      },
      "source": [
        "def vessel_type(df):\n",
        "\n",
        "    \"\"\"Convert major vessels to categorical\"\"\"\n",
        "    \n",
        "    if df['num_major_vessels'] == 0:\n",
        "        return 'Color 0'\n",
        "    elif df['num_major_vessels'] == 1:\n",
        "        return 'Color 1'\n",
        "    elif df['num_major_vessels'] == 2:\n",
        "        return 'Color 2'\n",
        "    else:\n",
        "        return 'Color 3'"
      ],
      "execution_count": 0,
      "outputs": []
    },
    {
      "cell_type": "code",
      "metadata": {
        "id": "CtskSs7WdE7Y",
        "colab_type": "code",
        "colab": {}
      },
      "source": [
        "train_val['vessel_type'] = train_val.apply(vessel_type, axis = 1)"
      ],
      "execution_count": 0,
      "outputs": []
    },
    {
      "cell_type": "code",
      "metadata": {
        "id": "-PLt5t9BdL_A",
        "colab_type": "code",
        "colab": {}
      },
      "source": [
        "train_val['blood_sugar'] = train_val['fasting_blood_sugar_gt_120_mg_per_dl'].map({1:\"Over 120mg\", 0:\"Under 120mg\"})"
      ],
      "execution_count": 0,
      "outputs": []
    },
    {
      "cell_type": "code",
      "metadata": {
        "id": "kErN2D5ffJH9",
        "colab_type": "code",
        "colab": {}
      },
      "source": [
        "train_val['ekg'] = train_val['resting_ekg_results'].map({0:'normal', 1: 'abnormality', 2: 'hypertrophy'})"
      ],
      "execution_count": 0,
      "outputs": []
    },
    {
      "cell_type": "code",
      "metadata": {
        "id": "6mVrwWoAf4YN",
        "colab_type": "code",
        "colab": {}
      },
      "source": [
        "train_val['chest_pain_with_exercise'] = train_val['exercise_induced_angina'].map({0:'None', 1:'Exist'}) "
      ],
      "execution_count": 0,
      "outputs": []
    },
    {
      "cell_type": "code",
      "metadata": {
        "colab_type": "code",
        "id": "i5WzpJm8_kTk",
        "colab": {}
      },
      "source": [
        "test_val['vessel_type'] = test_val.apply(vessel_type, axis = 1)"
      ],
      "execution_count": 0,
      "outputs": []
    },
    {
      "cell_type": "code",
      "metadata": {
        "colab_type": "code",
        "id": "C3ZIo8Qv_kTm",
        "colab": {}
      },
      "source": [
        "test_val['blood_sugar'] = test_val['fasting_blood_sugar_gt_120_mg_per_dl'].map({1:\"Over 120mg\", 0:\"Under 120mg\"})"
      ],
      "execution_count": 0,
      "outputs": []
    },
    {
      "cell_type": "code",
      "metadata": {
        "colab_type": "code",
        "id": "c128gs_t_kTo",
        "colab": {}
      },
      "source": [
        "test_val['ekg'] = test_val['resting_ekg_results'].map({0:'normal', 1: 'abnormality', 2: 'hypertrophy'})"
      ],
      "execution_count": 0,
      "outputs": []
    },
    {
      "cell_type": "code",
      "metadata": {
        "colab_type": "code",
        "id": "IbTBTEFf_kTq",
        "colab": {}
      },
      "source": [
        "test_val['chest_pain_with_exercise'] = test_val['exercise_induced_angina'].map({0:'None', 1:'Exist'}) "
      ],
      "execution_count": 0,
      "outputs": []
    },
    {
      "cell_type": "code",
      "metadata": {
        "id": "J4-b-_OLgbx1",
        "colab_type": "code",
        "outputId": "a885ce8b-f103-4bac-81d0-eace3dc4f69e",
        "colab": {
          "base_uri": "https://localhost:8080/",
          "height": 253
        }
      },
      "source": [
        "train_val.head()"
      ],
      "execution_count": 0,
      "outputs": [
        {
          "output_type": "execute_result",
          "data": {
            "text/html": [
              "<div>\n",
              "<style scoped>\n",
              "    .dataframe tbody tr th:only-of-type {\n",
              "        vertical-align: middle;\n",
              "    }\n",
              "\n",
              "    .dataframe tbody tr th {\n",
              "        vertical-align: top;\n",
              "    }\n",
              "\n",
              "    .dataframe thead th {\n",
              "        text-align: right;\n",
              "    }\n",
              "</style>\n",
              "<table border=\"1\" class=\"dataframe\">\n",
              "  <thead>\n",
              "    <tr style=\"text-align: right;\">\n",
              "      <th></th>\n",
              "      <th>patient_id</th>\n",
              "      <th>slope_of_peak_exercise_st_segment</th>\n",
              "      <th>thal</th>\n",
              "      <th>resting_blood_pressure</th>\n",
              "      <th>chest_pain_type</th>\n",
              "      <th>num_major_vessels</th>\n",
              "      <th>fasting_blood_sugar_gt_120_mg_per_dl</th>\n",
              "      <th>resting_ekg_results</th>\n",
              "      <th>serum_cholesterol_mg_per_dl</th>\n",
              "      <th>oldpeak_eq_st_depression</th>\n",
              "      <th>sex</th>\n",
              "      <th>age</th>\n",
              "      <th>max_heart_rate_achieved</th>\n",
              "      <th>exercise_induced_angina</th>\n",
              "      <th>slope_type</th>\n",
              "      <th>chest_pain</th>\n",
              "      <th>vessel_type</th>\n",
              "      <th>blood_sugar</th>\n",
              "      <th>ekg</th>\n",
              "      <th>chest_pain_with_exercise</th>\n",
              "    </tr>\n",
              "  </thead>\n",
              "  <tbody>\n",
              "    <tr>\n",
              "      <th>0</th>\n",
              "      <td>0z64un</td>\n",
              "      <td>1</td>\n",
              "      <td>normal</td>\n",
              "      <td>128</td>\n",
              "      <td>2</td>\n",
              "      <td>0</td>\n",
              "      <td>0</td>\n",
              "      <td>2</td>\n",
              "      <td>308</td>\n",
              "      <td>0.0</td>\n",
              "      <td>1</td>\n",
              "      <td>45</td>\n",
              "      <td>170</td>\n",
              "      <td>0</td>\n",
              "      <td>Upslope</td>\n",
              "      <td>atypical angina</td>\n",
              "      <td>Color 0</td>\n",
              "      <td>Under 120mg</td>\n",
              "      <td>hypertrophy</td>\n",
              "      <td>None</td>\n",
              "    </tr>\n",
              "    <tr>\n",
              "      <th>1</th>\n",
              "      <td>ryoo3j</td>\n",
              "      <td>2</td>\n",
              "      <td>normal</td>\n",
              "      <td>110</td>\n",
              "      <td>3</td>\n",
              "      <td>0</td>\n",
              "      <td>0</td>\n",
              "      <td>0</td>\n",
              "      <td>214</td>\n",
              "      <td>1.6</td>\n",
              "      <td>0</td>\n",
              "      <td>54</td>\n",
              "      <td>158</td>\n",
              "      <td>0</td>\n",
              "      <td>Flat</td>\n",
              "      <td>non-anginal angina</td>\n",
              "      <td>Color 0</td>\n",
              "      <td>Under 120mg</td>\n",
              "      <td>normal</td>\n",
              "      <td>None</td>\n",
              "    </tr>\n",
              "    <tr>\n",
              "      <th>2</th>\n",
              "      <td>yt1s1x</td>\n",
              "      <td>1</td>\n",
              "      <td>normal</td>\n",
              "      <td>125</td>\n",
              "      <td>4</td>\n",
              "      <td>3</td>\n",
              "      <td>0</td>\n",
              "      <td>2</td>\n",
              "      <td>304</td>\n",
              "      <td>0.0</td>\n",
              "      <td>1</td>\n",
              "      <td>77</td>\n",
              "      <td>162</td>\n",
              "      <td>1</td>\n",
              "      <td>Upslope</td>\n",
              "      <td>asymptomatic</td>\n",
              "      <td>Color 3</td>\n",
              "      <td>Under 120mg</td>\n",
              "      <td>hypertrophy</td>\n",
              "      <td>Exist</td>\n",
              "    </tr>\n",
              "    <tr>\n",
              "      <th>3</th>\n",
              "      <td>l2xjde</td>\n",
              "      <td>1</td>\n",
              "      <td>reversible_defect</td>\n",
              "      <td>152</td>\n",
              "      <td>4</td>\n",
              "      <td>0</td>\n",
              "      <td>0</td>\n",
              "      <td>0</td>\n",
              "      <td>223</td>\n",
              "      <td>0.0</td>\n",
              "      <td>1</td>\n",
              "      <td>40</td>\n",
              "      <td>181</td>\n",
              "      <td>0</td>\n",
              "      <td>Upslope</td>\n",
              "      <td>asymptomatic</td>\n",
              "      <td>Color 0</td>\n",
              "      <td>Under 120mg</td>\n",
              "      <td>normal</td>\n",
              "      <td>None</td>\n",
              "    </tr>\n",
              "    <tr>\n",
              "      <th>4</th>\n",
              "      <td>oyt4ek</td>\n",
              "      <td>3</td>\n",
              "      <td>reversible_defect</td>\n",
              "      <td>178</td>\n",
              "      <td>1</td>\n",
              "      <td>0</td>\n",
              "      <td>0</td>\n",
              "      <td>2</td>\n",
              "      <td>270</td>\n",
              "      <td>4.2</td>\n",
              "      <td>1</td>\n",
              "      <td>59</td>\n",
              "      <td>145</td>\n",
              "      <td>0</td>\n",
              "      <td>Downslope</td>\n",
              "      <td>typical angina</td>\n",
              "      <td>Color 0</td>\n",
              "      <td>Under 120mg</td>\n",
              "      <td>hypertrophy</td>\n",
              "      <td>None</td>\n",
              "    </tr>\n",
              "  </tbody>\n",
              "</table>\n",
              "</div>"
            ],
            "text/plain": [
              "  patient_id  ...  chest_pain_with_exercise\n",
              "0     0z64un  ...                      None\n",
              "1     ryoo3j  ...                      None\n",
              "2     yt1s1x  ...                     Exist\n",
              "3     l2xjde  ...                      None\n",
              "4     oyt4ek  ...                      None\n",
              "\n",
              "[5 rows x 20 columns]"
            ]
          },
          "metadata": {
            "tags": []
          },
          "execution_count": 20
        }
      ]
    },
    {
      "cell_type": "code",
      "metadata": {
        "id": "eFr2DIVx_s07",
        "colab_type": "code",
        "outputId": "3026d2d7-795d-4439-9984-d5157b2207d0",
        "colab": {
          "base_uri": "https://localhost:8080/",
          "height": 235
        }
      },
      "source": [
        "test_val.head()"
      ],
      "execution_count": 0,
      "outputs": [
        {
          "output_type": "execute_result",
          "data": {
            "text/html": [
              "<div>\n",
              "<style scoped>\n",
              "    .dataframe tbody tr th:only-of-type {\n",
              "        vertical-align: middle;\n",
              "    }\n",
              "\n",
              "    .dataframe tbody tr th {\n",
              "        vertical-align: top;\n",
              "    }\n",
              "\n",
              "    .dataframe thead th {\n",
              "        text-align: right;\n",
              "    }\n",
              "</style>\n",
              "<table border=\"1\" class=\"dataframe\">\n",
              "  <thead>\n",
              "    <tr style=\"text-align: right;\">\n",
              "      <th></th>\n",
              "      <th>patient_id</th>\n",
              "      <th>slope_of_peak_exercise_st_segment</th>\n",
              "      <th>thal</th>\n",
              "      <th>resting_blood_pressure</th>\n",
              "      <th>chest_pain_type</th>\n",
              "      <th>num_major_vessels</th>\n",
              "      <th>fasting_blood_sugar_gt_120_mg_per_dl</th>\n",
              "      <th>resting_ekg_results</th>\n",
              "      <th>serum_cholesterol_mg_per_dl</th>\n",
              "      <th>oldpeak_eq_st_depression</th>\n",
              "      <th>sex</th>\n",
              "      <th>age</th>\n",
              "      <th>max_heart_rate_achieved</th>\n",
              "      <th>exercise_induced_angina</th>\n",
              "      <th>slope_type</th>\n",
              "      <th>chest_pain</th>\n",
              "      <th>vessel_type</th>\n",
              "      <th>blood_sugar</th>\n",
              "      <th>ekg</th>\n",
              "      <th>chest_pain_with_exercise</th>\n",
              "    </tr>\n",
              "  </thead>\n",
              "  <tbody>\n",
              "    <tr>\n",
              "      <th>0</th>\n",
              "      <td>olalu7</td>\n",
              "      <td>2</td>\n",
              "      <td>reversible_defect</td>\n",
              "      <td>170</td>\n",
              "      <td>1</td>\n",
              "      <td>0</td>\n",
              "      <td>0</td>\n",
              "      <td>2</td>\n",
              "      <td>288</td>\n",
              "      <td>0.2</td>\n",
              "      <td>1</td>\n",
              "      <td>59</td>\n",
              "      <td>159</td>\n",
              "      <td>0</td>\n",
              "      <td>Flat</td>\n",
              "      <td>typical angina</td>\n",
              "      <td>Color 0</td>\n",
              "      <td>Under 120mg</td>\n",
              "      <td>hypertrophy</td>\n",
              "      <td>None</td>\n",
              "    </tr>\n",
              "    <tr>\n",
              "      <th>1</th>\n",
              "      <td>z9n6mx</td>\n",
              "      <td>1</td>\n",
              "      <td>normal</td>\n",
              "      <td>138</td>\n",
              "      <td>4</td>\n",
              "      <td>0</td>\n",
              "      <td>0</td>\n",
              "      <td>0</td>\n",
              "      <td>183</td>\n",
              "      <td>1.4</td>\n",
              "      <td>0</td>\n",
              "      <td>35</td>\n",
              "      <td>182</td>\n",
              "      <td>0</td>\n",
              "      <td>Upslope</td>\n",
              "      <td>asymptomatic</td>\n",
              "      <td>Color 0</td>\n",
              "      <td>Under 120mg</td>\n",
              "      <td>normal</td>\n",
              "      <td>None</td>\n",
              "    </tr>\n",
              "    <tr>\n",
              "      <th>2</th>\n",
              "      <td>5k4413</td>\n",
              "      <td>2</td>\n",
              "      <td>reversible_defect</td>\n",
              "      <td>120</td>\n",
              "      <td>4</td>\n",
              "      <td>0</td>\n",
              "      <td>0</td>\n",
              "      <td>2</td>\n",
              "      <td>177</td>\n",
              "      <td>2.5</td>\n",
              "      <td>1</td>\n",
              "      <td>43</td>\n",
              "      <td>120</td>\n",
              "      <td>1</td>\n",
              "      <td>Flat</td>\n",
              "      <td>asymptomatic</td>\n",
              "      <td>Color 0</td>\n",
              "      <td>Under 120mg</td>\n",
              "      <td>hypertrophy</td>\n",
              "      <td>Exist</td>\n",
              "    </tr>\n",
              "    <tr>\n",
              "      <th>3</th>\n",
              "      <td>mrg7q5</td>\n",
              "      <td>1</td>\n",
              "      <td>normal</td>\n",
              "      <td>102</td>\n",
              "      <td>3</td>\n",
              "      <td>1</td>\n",
              "      <td>0</td>\n",
              "      <td>0</td>\n",
              "      <td>318</td>\n",
              "      <td>0.0</td>\n",
              "      <td>0</td>\n",
              "      <td>60</td>\n",
              "      <td>160</td>\n",
              "      <td>0</td>\n",
              "      <td>Upslope</td>\n",
              "      <td>non-anginal angina</td>\n",
              "      <td>Color 1</td>\n",
              "      <td>Under 120mg</td>\n",
              "      <td>normal</td>\n",
              "      <td>None</td>\n",
              "    </tr>\n",
              "    <tr>\n",
              "      <th>4</th>\n",
              "      <td>uki4do</td>\n",
              "      <td>2</td>\n",
              "      <td>normal</td>\n",
              "      <td>138</td>\n",
              "      <td>4</td>\n",
              "      <td>1</td>\n",
              "      <td>0</td>\n",
              "      <td>2</td>\n",
              "      <td>166</td>\n",
              "      <td>3.6</td>\n",
              "      <td>1</td>\n",
              "      <td>61</td>\n",
              "      <td>125</td>\n",
              "      <td>1</td>\n",
              "      <td>Flat</td>\n",
              "      <td>asymptomatic</td>\n",
              "      <td>Color 1</td>\n",
              "      <td>Under 120mg</td>\n",
              "      <td>hypertrophy</td>\n",
              "      <td>Exist</td>\n",
              "    </tr>\n",
              "  </tbody>\n",
              "</table>\n",
              "</div>"
            ],
            "text/plain": [
              "  patient_id  ...  chest_pain_with_exercise\n",
              "0     olalu7  ...                      None\n",
              "1     z9n6mx  ...                      None\n",
              "2     5k4413  ...                     Exist\n",
              "3     mrg7q5  ...                      None\n",
              "4     uki4do  ...                     Exist\n",
              "\n",
              "[5 rows x 20 columns]"
            ]
          },
          "metadata": {
            "tags": []
          },
          "execution_count": 21
        }
      ]
    },
    {
      "cell_type": "code",
      "metadata": {
        "id": "WckxJBwfgfNE",
        "colab_type": "code",
        "colab": {}
      },
      "source": [
        "drop_cols = 'slope_of_peak_exercise_st_segment chest_pain_type num_major_vessels fasting_blood_sugar_gt_120_mg_per_dl resting_ekg_results exercise_induced_angina'.split()"
      ],
      "execution_count": 0,
      "outputs": []
    },
    {
      "cell_type": "code",
      "metadata": {
        "id": "CL5wuf6Igk1l",
        "colab_type": "code",
        "outputId": "1e3e3dad-b1c0-412d-c763-0f75b70fbeb1",
        "colab": {
          "base_uri": "https://localhost:8080/",
          "height": 253
        }
      },
      "source": [
        "train_clean = train_val.drop(labels = drop_cols, axis = 1)\n",
        "train_clean.head()"
      ],
      "execution_count": 0,
      "outputs": [
        {
          "output_type": "execute_result",
          "data": {
            "text/html": [
              "<div>\n",
              "<style scoped>\n",
              "    .dataframe tbody tr th:only-of-type {\n",
              "        vertical-align: middle;\n",
              "    }\n",
              "\n",
              "    .dataframe tbody tr th {\n",
              "        vertical-align: top;\n",
              "    }\n",
              "\n",
              "    .dataframe thead th {\n",
              "        text-align: right;\n",
              "    }\n",
              "</style>\n",
              "<table border=\"1\" class=\"dataframe\">\n",
              "  <thead>\n",
              "    <tr style=\"text-align: right;\">\n",
              "      <th></th>\n",
              "      <th>patient_id</th>\n",
              "      <th>thal</th>\n",
              "      <th>resting_blood_pressure</th>\n",
              "      <th>serum_cholesterol_mg_per_dl</th>\n",
              "      <th>oldpeak_eq_st_depression</th>\n",
              "      <th>sex</th>\n",
              "      <th>age</th>\n",
              "      <th>max_heart_rate_achieved</th>\n",
              "      <th>slope_type</th>\n",
              "      <th>chest_pain</th>\n",
              "      <th>vessel_type</th>\n",
              "      <th>blood_sugar</th>\n",
              "      <th>ekg</th>\n",
              "      <th>chest_pain_with_exercise</th>\n",
              "    </tr>\n",
              "  </thead>\n",
              "  <tbody>\n",
              "    <tr>\n",
              "      <th>0</th>\n",
              "      <td>0z64un</td>\n",
              "      <td>normal</td>\n",
              "      <td>128</td>\n",
              "      <td>308</td>\n",
              "      <td>0.0</td>\n",
              "      <td>1</td>\n",
              "      <td>45</td>\n",
              "      <td>170</td>\n",
              "      <td>Upslope</td>\n",
              "      <td>atypical angina</td>\n",
              "      <td>Color 0</td>\n",
              "      <td>Under 120mg</td>\n",
              "      <td>hypertrophy</td>\n",
              "      <td>None</td>\n",
              "    </tr>\n",
              "    <tr>\n",
              "      <th>1</th>\n",
              "      <td>ryoo3j</td>\n",
              "      <td>normal</td>\n",
              "      <td>110</td>\n",
              "      <td>214</td>\n",
              "      <td>1.6</td>\n",
              "      <td>0</td>\n",
              "      <td>54</td>\n",
              "      <td>158</td>\n",
              "      <td>Flat</td>\n",
              "      <td>non-anginal angina</td>\n",
              "      <td>Color 0</td>\n",
              "      <td>Under 120mg</td>\n",
              "      <td>normal</td>\n",
              "      <td>None</td>\n",
              "    </tr>\n",
              "    <tr>\n",
              "      <th>2</th>\n",
              "      <td>yt1s1x</td>\n",
              "      <td>normal</td>\n",
              "      <td>125</td>\n",
              "      <td>304</td>\n",
              "      <td>0.0</td>\n",
              "      <td>1</td>\n",
              "      <td>77</td>\n",
              "      <td>162</td>\n",
              "      <td>Upslope</td>\n",
              "      <td>asymptomatic</td>\n",
              "      <td>Color 3</td>\n",
              "      <td>Under 120mg</td>\n",
              "      <td>hypertrophy</td>\n",
              "      <td>Exist</td>\n",
              "    </tr>\n",
              "    <tr>\n",
              "      <th>3</th>\n",
              "      <td>l2xjde</td>\n",
              "      <td>reversible_defect</td>\n",
              "      <td>152</td>\n",
              "      <td>223</td>\n",
              "      <td>0.0</td>\n",
              "      <td>1</td>\n",
              "      <td>40</td>\n",
              "      <td>181</td>\n",
              "      <td>Upslope</td>\n",
              "      <td>asymptomatic</td>\n",
              "      <td>Color 0</td>\n",
              "      <td>Under 120mg</td>\n",
              "      <td>normal</td>\n",
              "      <td>None</td>\n",
              "    </tr>\n",
              "    <tr>\n",
              "      <th>4</th>\n",
              "      <td>oyt4ek</td>\n",
              "      <td>reversible_defect</td>\n",
              "      <td>178</td>\n",
              "      <td>270</td>\n",
              "      <td>4.2</td>\n",
              "      <td>1</td>\n",
              "      <td>59</td>\n",
              "      <td>145</td>\n",
              "      <td>Downslope</td>\n",
              "      <td>typical angina</td>\n",
              "      <td>Color 0</td>\n",
              "      <td>Under 120mg</td>\n",
              "      <td>hypertrophy</td>\n",
              "      <td>None</td>\n",
              "    </tr>\n",
              "  </tbody>\n",
              "</table>\n",
              "</div>"
            ],
            "text/plain": [
              "  patient_id               thal  ...          ekg  chest_pain_with_exercise\n",
              "0     0z64un             normal  ...  hypertrophy                      None\n",
              "1     ryoo3j             normal  ...       normal                      None\n",
              "2     yt1s1x             normal  ...  hypertrophy                     Exist\n",
              "3     l2xjde  reversible_defect  ...       normal                      None\n",
              "4     oyt4ek  reversible_defect  ...  hypertrophy                      None\n",
              "\n",
              "[5 rows x 14 columns]"
            ]
          },
          "metadata": {
            "tags": []
          },
          "execution_count": 23
        }
      ]
    },
    {
      "cell_type": "code",
      "metadata": {
        "id": "WWDgcXFSAOtT",
        "colab_type": "code",
        "outputId": "a5f39c90-ab43-489e-c698-bcdb74403014",
        "colab": {
          "base_uri": "https://localhost:8080/",
          "height": 235
        }
      },
      "source": [
        "test_clean = test_val.drop(labels = drop_cols, axis = 1)\n",
        "test_clean.head()"
      ],
      "execution_count": 0,
      "outputs": [
        {
          "output_type": "execute_result",
          "data": {
            "text/html": [
              "<div>\n",
              "<style scoped>\n",
              "    .dataframe tbody tr th:only-of-type {\n",
              "        vertical-align: middle;\n",
              "    }\n",
              "\n",
              "    .dataframe tbody tr th {\n",
              "        vertical-align: top;\n",
              "    }\n",
              "\n",
              "    .dataframe thead th {\n",
              "        text-align: right;\n",
              "    }\n",
              "</style>\n",
              "<table border=\"1\" class=\"dataframe\">\n",
              "  <thead>\n",
              "    <tr style=\"text-align: right;\">\n",
              "      <th></th>\n",
              "      <th>patient_id</th>\n",
              "      <th>thal</th>\n",
              "      <th>resting_blood_pressure</th>\n",
              "      <th>serum_cholesterol_mg_per_dl</th>\n",
              "      <th>oldpeak_eq_st_depression</th>\n",
              "      <th>sex</th>\n",
              "      <th>age</th>\n",
              "      <th>max_heart_rate_achieved</th>\n",
              "      <th>slope_type</th>\n",
              "      <th>chest_pain</th>\n",
              "      <th>vessel_type</th>\n",
              "      <th>blood_sugar</th>\n",
              "      <th>ekg</th>\n",
              "      <th>chest_pain_with_exercise</th>\n",
              "    </tr>\n",
              "  </thead>\n",
              "  <tbody>\n",
              "    <tr>\n",
              "      <th>0</th>\n",
              "      <td>olalu7</td>\n",
              "      <td>reversible_defect</td>\n",
              "      <td>170</td>\n",
              "      <td>288</td>\n",
              "      <td>0.2</td>\n",
              "      <td>1</td>\n",
              "      <td>59</td>\n",
              "      <td>159</td>\n",
              "      <td>Flat</td>\n",
              "      <td>typical angina</td>\n",
              "      <td>Color 0</td>\n",
              "      <td>Under 120mg</td>\n",
              "      <td>hypertrophy</td>\n",
              "      <td>None</td>\n",
              "    </tr>\n",
              "    <tr>\n",
              "      <th>1</th>\n",
              "      <td>z9n6mx</td>\n",
              "      <td>normal</td>\n",
              "      <td>138</td>\n",
              "      <td>183</td>\n",
              "      <td>1.4</td>\n",
              "      <td>0</td>\n",
              "      <td>35</td>\n",
              "      <td>182</td>\n",
              "      <td>Upslope</td>\n",
              "      <td>asymptomatic</td>\n",
              "      <td>Color 0</td>\n",
              "      <td>Under 120mg</td>\n",
              "      <td>normal</td>\n",
              "      <td>None</td>\n",
              "    </tr>\n",
              "    <tr>\n",
              "      <th>2</th>\n",
              "      <td>5k4413</td>\n",
              "      <td>reversible_defect</td>\n",
              "      <td>120</td>\n",
              "      <td>177</td>\n",
              "      <td>2.5</td>\n",
              "      <td>1</td>\n",
              "      <td>43</td>\n",
              "      <td>120</td>\n",
              "      <td>Flat</td>\n",
              "      <td>asymptomatic</td>\n",
              "      <td>Color 0</td>\n",
              "      <td>Under 120mg</td>\n",
              "      <td>hypertrophy</td>\n",
              "      <td>Exist</td>\n",
              "    </tr>\n",
              "    <tr>\n",
              "      <th>3</th>\n",
              "      <td>mrg7q5</td>\n",
              "      <td>normal</td>\n",
              "      <td>102</td>\n",
              "      <td>318</td>\n",
              "      <td>0.0</td>\n",
              "      <td>0</td>\n",
              "      <td>60</td>\n",
              "      <td>160</td>\n",
              "      <td>Upslope</td>\n",
              "      <td>non-anginal angina</td>\n",
              "      <td>Color 1</td>\n",
              "      <td>Under 120mg</td>\n",
              "      <td>normal</td>\n",
              "      <td>None</td>\n",
              "    </tr>\n",
              "    <tr>\n",
              "      <th>4</th>\n",
              "      <td>uki4do</td>\n",
              "      <td>normal</td>\n",
              "      <td>138</td>\n",
              "      <td>166</td>\n",
              "      <td>3.6</td>\n",
              "      <td>1</td>\n",
              "      <td>61</td>\n",
              "      <td>125</td>\n",
              "      <td>Flat</td>\n",
              "      <td>asymptomatic</td>\n",
              "      <td>Color 1</td>\n",
              "      <td>Under 120mg</td>\n",
              "      <td>hypertrophy</td>\n",
              "      <td>Exist</td>\n",
              "    </tr>\n",
              "  </tbody>\n",
              "</table>\n",
              "</div>"
            ],
            "text/plain": [
              "  patient_id               thal  ...          ekg  chest_pain_with_exercise\n",
              "0     olalu7  reversible_defect  ...  hypertrophy                      None\n",
              "1     z9n6mx             normal  ...       normal                      None\n",
              "2     5k4413  reversible_defect  ...  hypertrophy                     Exist\n",
              "3     mrg7q5             normal  ...       normal                      None\n",
              "4     uki4do             normal  ...  hypertrophy                     Exist\n",
              "\n",
              "[5 rows x 14 columns]"
            ]
          },
          "metadata": {
            "tags": []
          },
          "execution_count": 24
        }
      ]
    },
    {
      "cell_type": "code",
      "metadata": {
        "id": "hU_GawUzhL02",
        "colab_type": "code",
        "outputId": "0bf4301d-fbf5-4329-e656-4146ab19d8aa",
        "colab": {
          "base_uri": "https://localhost:8080/",
          "height": 589
        }
      },
      "source": [
        "plt.figure(figsize = (9, 7))\n",
        "sns.heatmap(train_clean.corr(), annot= True)"
      ],
      "execution_count": 0,
      "outputs": [
        {
          "output_type": "execute_result",
          "data": {
            "text/plain": [
              "<matplotlib.axes._subplots.AxesSubplot at 0x7ff7e387aef0>"
            ]
          },
          "metadata": {
            "tags": []
          },
          "execution_count": 41
        },
        {
          "output_type": "display_data",
          "data": {
            "image/png": "[encoded data removed]",
            "text/plain": [
              "<Figure size 648x504 with 2 Axes>"
            ]
          },
          "metadata": {
            "tags": []
          }
        }
      ]
    },
    {
      "cell_type": "code",
      "metadata": {
        "id": "eHeAgJ3shdvO",
        "colab_type": "code",
        "outputId": "c052cbf3-d722-480a-ce11-0580d3d1a8f5",
        "colab": {
          "base_uri": "https://localhost:8080/",
          "height": 253
        }
      },
      "source": [
        "train_clean['sex'] = train_val['sex'].map({0: 'female', 1: 'male'})\n",
        "train_clean.head()"
      ],
      "execution_count": 0,
      "outputs": [
        {
          "output_type": "execute_result",
          "data": {
            "text/html": [
              "<div>\n",
              "<style scoped>\n",
              "    .dataframe tbody tr th:only-of-type {\n",
              "        vertical-align: middle;\n",
              "    }\n",
              "\n",
              "    .dataframe tbody tr th {\n",
              "        vertical-align: top;\n",
              "    }\n",
              "\n",
              "    .dataframe thead th {\n",
              "        text-align: right;\n",
              "    }\n",
              "</style>\n",
              "<table border=\"1\" class=\"dataframe\">\n",
              "  <thead>\n",
              "    <tr style=\"text-align: right;\">\n",
              "      <th></th>\n",
              "      <th>patient_id</th>\n",
              "      <th>thal</th>\n",
              "      <th>resting_blood_pressure</th>\n",
              "      <th>serum_cholesterol_mg_per_dl</th>\n",
              "      <th>oldpeak_eq_st_depression</th>\n",
              "      <th>sex</th>\n",
              "      <th>age</th>\n",
              "      <th>max_heart_rate_achieved</th>\n",
              "      <th>slope_type</th>\n",
              "      <th>chest_pain</th>\n",
              "      <th>vessel_type</th>\n",
              "      <th>blood_sugar</th>\n",
              "      <th>ekg</th>\n",
              "      <th>chest_pain_with_exercise</th>\n",
              "    </tr>\n",
              "  </thead>\n",
              "  <tbody>\n",
              "    <tr>\n",
              "      <th>0</th>\n",
              "      <td>0z64un</td>\n",
              "      <td>normal</td>\n",
              "      <td>128</td>\n",
              "      <td>308</td>\n",
              "      <td>0.0</td>\n",
              "      <td>male</td>\n",
              "      <td>45</td>\n",
              "      <td>170</td>\n",
              "      <td>Upslope</td>\n",
              "      <td>atypical angina</td>\n",
              "      <td>Color 0</td>\n",
              "      <td>Under 120mg</td>\n",
              "      <td>hypertrophy</td>\n",
              "      <td>None</td>\n",
              "    </tr>\n",
              "    <tr>\n",
              "      <th>1</th>\n",
              "      <td>ryoo3j</td>\n",
              "      <td>normal</td>\n",
              "      <td>110</td>\n",
              "      <td>214</td>\n",
              "      <td>1.6</td>\n",
              "      <td>female</td>\n",
              "      <td>54</td>\n",
              "      <td>158</td>\n",
              "      <td>Flat</td>\n",
              "      <td>non-anginal angina</td>\n",
              "      <td>Color 0</td>\n",
              "      <td>Under 120mg</td>\n",
              "      <td>normal</td>\n",
              "      <td>None</td>\n",
              "    </tr>\n",
              "    <tr>\n",
              "      <th>2</th>\n",
              "      <td>yt1s1x</td>\n",
              "      <td>normal</td>\n",
              "      <td>125</td>\n",
              "      <td>304</td>\n",
              "      <td>0.0</td>\n",
              "      <td>male</td>\n",
              "      <td>77</td>\n",
              "      <td>162</td>\n",
              "      <td>Upslope</td>\n",
              "      <td>asymptomatic</td>\n",
              "      <td>Color 3</td>\n",
              "      <td>Under 120mg</td>\n",
              "      <td>hypertrophy</td>\n",
              "      <td>Exist</td>\n",
              "    </tr>\n",
              "    <tr>\n",
              "      <th>3</th>\n",
              "      <td>l2xjde</td>\n",
              "      <td>reversible_defect</td>\n",
              "      <td>152</td>\n",
              "      <td>223</td>\n",
              "      <td>0.0</td>\n",
              "      <td>male</td>\n",
              "      <td>40</td>\n",
              "      <td>181</td>\n",
              "      <td>Upslope</td>\n",
              "      <td>asymptomatic</td>\n",
              "      <td>Color 0</td>\n",
              "      <td>Under 120mg</td>\n",
              "      <td>normal</td>\n",
              "      <td>None</td>\n",
              "    </tr>\n",
              "    <tr>\n",
              "      <th>4</th>\n",
              "      <td>oyt4ek</td>\n",
              "      <td>reversible_defect</td>\n",
              "      <td>178</td>\n",
              "      <td>270</td>\n",
              "      <td>4.2</td>\n",
              "      <td>male</td>\n",
              "      <td>59</td>\n",
              "      <td>145</td>\n",
              "      <td>Downslope</td>\n",
              "      <td>typical angina</td>\n",
              "      <td>Color 0</td>\n",
              "      <td>Under 120mg</td>\n",
              "      <td>hypertrophy</td>\n",
              "      <td>None</td>\n",
              "    </tr>\n",
              "  </tbody>\n",
              "</table>\n",
              "</div>"
            ],
            "text/plain": [
              "  patient_id               thal  ...          ekg  chest_pain_with_exercise\n",
              "0     0z64un             normal  ...  hypertrophy                      None\n",
              "1     ryoo3j             normal  ...       normal                      None\n",
              "2     yt1s1x             normal  ...  hypertrophy                     Exist\n",
              "3     l2xjde  reversible_defect  ...       normal                      None\n",
              "4     oyt4ek  reversible_defect  ...  hypertrophy                      None\n",
              "\n",
              "[5 rows x 14 columns]"
            ]
          },
          "metadata": {
            "tags": []
          },
          "execution_count": 25
        }
      ]
    },
    {
      "cell_type": "code",
      "metadata": {
        "id": "5EVNlfsBAY9K",
        "colab_type": "code",
        "outputId": "e9b7ba49-243b-4b06-aaf6-36d34a6ce67c",
        "colab": {
          "base_uri": "https://localhost:8080/",
          "height": 235
        }
      },
      "source": [
        "test_clean['sex'] = test_val['sex'].map({0: 'female', 1: 'male'})\n",
        "test_clean.head()"
      ],
      "execution_count": 0,
      "outputs": [
        {
          "output_type": "execute_result",
          "data": {
            "text/html": [
              "<div>\n",
              "<style scoped>\n",
              "    .dataframe tbody tr th:only-of-type {\n",
              "        vertical-align: middle;\n",
              "    }\n",
              "\n",
              "    .dataframe tbody tr th {\n",
              "        vertical-align: top;\n",
              "    }\n",
              "\n",
              "    .dataframe thead th {\n",
              "        text-align: right;\n",
              "    }\n",
              "</style>\n",
              "<table border=\"1\" class=\"dataframe\">\n",
              "  <thead>\n",
              "    <tr style=\"text-align: right;\">\n",
              "      <th></th>\n",
              "      <th>patient_id</th>\n",
              "      <th>thal</th>\n",
              "      <th>resting_blood_pressure</th>\n",
              "      <th>serum_cholesterol_mg_per_dl</th>\n",
              "      <th>oldpeak_eq_st_depression</th>\n",
              "      <th>sex</th>\n",
              "      <th>age</th>\n",
              "      <th>max_heart_rate_achieved</th>\n",
              "      <th>slope_type</th>\n",
              "      <th>chest_pain</th>\n",
              "      <th>vessel_type</th>\n",
              "      <th>blood_sugar</th>\n",
              "      <th>ekg</th>\n",
              "      <th>chest_pain_with_exercise</th>\n",
              "    </tr>\n",
              "  </thead>\n",
              "  <tbody>\n",
              "    <tr>\n",
              "      <th>0</th>\n",
              "      <td>olalu7</td>\n",
              "      <td>reversible_defect</td>\n",
              "      <td>170</td>\n",
              "      <td>288</td>\n",
              "      <td>0.2</td>\n",
              "      <td>male</td>\n",
              "      <td>59</td>\n",
              "      <td>159</td>\n",
              "      <td>Flat</td>\n",
              "      <td>typical angina</td>\n",
              "      <td>Color 0</td>\n",
              "      <td>Under 120mg</td>\n",
              "      <td>hypertrophy</td>\n",
              "      <td>None</td>\n",
              "    </tr>\n",
              "    <tr>\n",
              "      <th>1</th>\n",
              "      <td>z9n6mx</td>\n",
              "      <td>normal</td>\n",
              "      <td>138</td>\n",
              "      <td>183</td>\n",
              "      <td>1.4</td>\n",
              "      <td>female</td>\n",
              "      <td>35</td>\n",
              "      <td>182</td>\n",
              "      <td>Upslope</td>\n",
              "      <td>asymptomatic</td>\n",
              "      <td>Color 0</td>\n",
              "      <td>Under 120mg</td>\n",
              "      <td>normal</td>\n",
              "      <td>None</td>\n",
              "    </tr>\n",
              "    <tr>\n",
              "      <th>2</th>\n",
              "      <td>5k4413</td>\n",
              "      <td>reversible_defect</td>\n",
              "      <td>120</td>\n",
              "      <td>177</td>\n",
              "      <td>2.5</td>\n",
              "      <td>male</td>\n",
              "      <td>43</td>\n",
              "      <td>120</td>\n",
              "      <td>Flat</td>\n",
              "      <td>asymptomatic</td>\n",
              "      <td>Color 0</td>\n",
              "      <td>Under 120mg</td>\n",
              "      <td>hypertrophy</td>\n",
              "      <td>Exist</td>\n",
              "    </tr>\n",
              "    <tr>\n",
              "      <th>3</th>\n",
              "      <td>mrg7q5</td>\n",
              "      <td>normal</td>\n",
              "      <td>102</td>\n",
              "      <td>318</td>\n",
              "      <td>0.0</td>\n",
              "      <td>female</td>\n",
              "      <td>60</td>\n",
              "      <td>160</td>\n",
              "      <td>Upslope</td>\n",
              "      <td>non-anginal angina</td>\n",
              "      <td>Color 1</td>\n",
              "      <td>Under 120mg</td>\n",
              "      <td>normal</td>\n",
              "      <td>None</td>\n",
              "    </tr>\n",
              "    <tr>\n",
              "      <th>4</th>\n",
              "      <td>uki4do</td>\n",
              "      <td>normal</td>\n",
              "      <td>138</td>\n",
              "      <td>166</td>\n",
              "      <td>3.6</td>\n",
              "      <td>male</td>\n",
              "      <td>61</td>\n",
              "      <td>125</td>\n",
              "      <td>Flat</td>\n",
              "      <td>asymptomatic</td>\n",
              "      <td>Color 1</td>\n",
              "      <td>Under 120mg</td>\n",
              "      <td>hypertrophy</td>\n",
              "      <td>Exist</td>\n",
              "    </tr>\n",
              "  </tbody>\n",
              "</table>\n",
              "</div>"
            ],
            "text/plain": [
              "  patient_id               thal  ...          ekg  chest_pain_with_exercise\n",
              "0     olalu7  reversible_defect  ...  hypertrophy                      None\n",
              "1     z9n6mx             normal  ...       normal                      None\n",
              "2     5k4413  reversible_defect  ...  hypertrophy                     Exist\n",
              "3     mrg7q5             normal  ...       normal                      None\n",
              "4     uki4do             normal  ...  hypertrophy                     Exist\n",
              "\n",
              "[5 rows x 14 columns]"
            ]
          },
          "metadata": {
            "tags": []
          },
          "execution_count": 26
        }
      ]
    },
    {
      "cell_type": "code",
      "metadata": {
        "id": "8scYTe_hhuI4",
        "colab_type": "code",
        "outputId": "0c65d28a-a4ce-454e-8d72-dfda69246007",
        "colab": {
          "base_uri": "https://localhost:8080/",
          "height": 589
        }
      },
      "source": [
        "plt.figure(figsize = (9, 7))\n",
        "sns.heatmap(train_clean.corr(), annot= True)"
      ],
      "execution_count": 0,
      "outputs": [
        {
          "output_type": "execute_result",
          "data": {
            "text/plain": [
              "<matplotlib.axes._subplots.AxesSubplot at 0x7f3655547518>"
            ]
          },
          "metadata": {
            "tags": []
          },
          "execution_count": 65
        },
        {
          "output_type": "display_data",
          "data": {
            "image/png": "[encoded data removed]",
            "text/plain": [
              "<Figure size 648x504 with 2 Axes>"
            ]
          },
          "metadata": {
            "tags": []
          }
        }
      ]
    },
    {
      "cell_type": "code",
      "metadata": {
        "id": "QXWRuSC2h4GY",
        "colab_type": "code",
        "outputId": "3d3b61d8-448b-4990-c3a6-a86d6901b9b1",
        "colab": {
          "base_uri": "https://localhost:8080/",
          "height": 363
        }
      },
      "source": [
        "train_clean.info()"
      ],
      "execution_count": 0,
      "outputs": [
        {
          "output_type": "stream",
          "text": [
            "<class 'pandas.core.frame.DataFrame'>\n",
            "RangeIndex: 180 entries, 0 to 179\n",
            "Data columns (total 14 columns):\n",
            "patient_id                     180 non-null object\n",
            "thal                           180 non-null object\n",
            "resting_blood_pressure         180 non-null int64\n",
            "serum_cholesterol_mg_per_dl    180 non-null int64\n",
            "oldpeak_eq_st_depression       180 non-null float64\n",
            "sex                            180 non-null object\n",
            "age                            180 non-null int64\n",
            "max_heart_rate_achieved        180 non-null int64\n",
            "slope_type                     180 non-null object\n",
            "chest_pain                     180 non-null object\n",
            "vessel_type                    180 non-null object\n",
            "blood_sugar                    180 non-null object\n",
            "ekg                            180 non-null object\n",
            "chest_pain_with_exercise       180 non-null object\n",
            "dtypes: float64(1), int64(4), object(9)\n",
            "memory usage: 19.8+ KB\n"
          ],
          "name": "stdout"
        }
      ]
    },
    {
      "cell_type": "code",
      "metadata": {
        "id": "JmAXrGLBsoRT",
        "colab_type": "code",
        "colab": {}
      },
      "source": [
        "obj_cols = ['thal', 'sex', 'slope_type', 'chest_pain', 'vessel_type', 'blood_sugar', 'ekg', 'chest_pain_with_exercise']\n",
        "\n",
        "train_dummied = pd.get_dummies(data = train_clean, prefix_sep = '|', drop_first = True, columns = obj_cols)"
      ],
      "execution_count": 0,
      "outputs": []
    },
    {
      "cell_type": "code",
      "metadata": {
        "id": "BumgwUADCTpf",
        "colab_type": "code",
        "colab": {}
      },
      "source": [
        "obj_cols = ['thal', 'sex', 'slope_type', 'chest_pain', 'vessel_type', 'blood_sugar', 'ekg', 'chest_pain_with_exercise']\n",
        "\n",
        "test_dummied = pd.get_dummies(data = test_clean, prefix_sep = '|', drop_first = True, columns = obj_cols)"
      ],
      "execution_count": 0,
      "outputs": []
    },
    {
      "cell_type": "code",
      "metadata": {
        "id": "ntmOHAjMCf1W",
        "colab_type": "code",
        "colab": {}
      },
      "source": [
        "x_test = test_dummied.drop(labels = 'patient_id', axis = 1)"
      ],
      "execution_count": 0,
      "outputs": []
    },
    {
      "cell_type": "code",
      "metadata": {
        "id": "GLp2iaQXuPrO",
        "colab_type": "code",
        "colab": {}
      },
      "source": [
        "x_train = train_dummied.drop(labels = 'patient_id', axis = 1)"
      ],
      "execution_count": 0,
      "outputs": []
    },
    {
      "cell_type": "code",
      "metadata": {
        "id": "enPb9IHpuchZ",
        "colab_type": "code",
        "colab": {}
      },
      "source": [
        "scaler = MinMaxScaler()\n",
        "x_train_scaled = scaler.fit_transform(x_train)"
      ],
      "execution_count": 0,
      "outputs": []
    },
    {
      "cell_type": "code",
      "metadata": {
        "id": "wO6X021QCpNu",
        "colab_type": "code",
        "colab": {}
      },
      "source": [
        "x_test_scaled = scaler.transform(x_test)"
      ],
      "execution_count": 0,
      "outputs": []
    },
    {
      "cell_type": "code",
      "metadata": {
        "id": "b9WxCtAdvArK",
        "colab_type": "code",
        "outputId": "4202bb5b-b60a-4d86-e3fc-120e8f37f793",
        "colab": {
          "base_uri": "https://localhost:8080/",
          "height": 181
        }
      },
      "source": [
        "y_train = train_lab['heart_disease_present'].values\n",
        "y_train"
      ],
      "execution_count": 0,
      "outputs": [
        {
          "output_type": "execute_result",
          "data": {
            "text/plain": [
              "array([0, 0, 1, 1, 0, 0, 1, 1, 1, 0, 0, 0, 1, 0, 1, 1, 0, 1, 0, 1, 0, 0,\n",
              "       0, 0, 0, 0, 0, 0, 1, 0, 0, 1, 1, 0, 1, 0, 0, 0, 0, 1, 0, 0, 0, 0,\n",
              "       0, 1, 0, 0, 1, 0, 1, 0, 1, 1, 1, 0, 1, 1, 0, 1, 0, 1, 1, 0, 0, 1,\n",
              "       1, 0, 0, 1, 0, 0, 0, 0, 1, 1, 0, 1, 1, 1, 0, 1, 1, 1, 0, 1, 0, 1,\n",
              "       0, 0, 0, 1, 0, 1, 0, 0, 1, 0, 0, 0, 0, 0, 1, 0, 0, 0, 0, 1, 0, 1,\n",
              "       0, 0, 1, 1, 0, 0, 0, 1, 1, 1, 1, 0, 0, 0, 1, 0, 0, 0, 1, 1, 0, 0,\n",
              "       0, 1, 1, 0, 1, 1, 0, 0, 1, 0, 0, 1, 1, 0, 0, 1, 1, 1, 0, 0, 1, 1,\n",
              "       1, 1, 0, 0, 0, 1, 0, 1, 1, 1, 0, 0, 0, 1, 0, 0, 1, 1, 1, 1, 0, 1,\n",
              "       1, 1, 0, 0])"
            ]
          },
          "metadata": {
            "tags": []
          },
          "execution_count": 31
        }
      ]
    },
    {
      "cell_type": "code",
      "metadata": {
        "id": "07_bM24cusnQ",
        "colab_type": "code",
        "outputId": "f3ecf20c-ea0a-47fd-fed0-f76833abf7f3",
        "colab": {
          "base_uri": "https://localhost:8080/",
          "height": 399
        }
      },
      "source": [
        "parameters_rfc = { \n",
        "    'n_estimators': list(range(5,20)),\n",
        "    'max_features': ['auto', 'sqrt', 'log2'],\n",
        "    'max_depth' : list(range(2,8)),\n",
        "    'criterion' :['gini', 'entropy']\n",
        "}\n",
        "\n",
        "gs_rfc = GridSearchCV(RandomForestClassifier(random_state = 42), cv = 10, verbose = 0, param_grid = parameters_rfc)\n",
        "gs_rfc.fit(x_train_scaled, y_train)"
      ],
      "execution_count": 0,
      "outputs": [
        {
          "output_type": "execute_result",
          "data": {
            "text/plain": [
              "GridSearchCV(cv=10, error_score='raise-deprecating',\n",
              "             estimator=RandomForestClassifier(bootstrap=True, class_weight=None,\n",
              "                                              criterion='gini', max_depth=None,\n",
              "                                              max_features='auto',\n",
              "                                              max_leaf_nodes=None,\n",
              "                                              min_impurity_decrease=0.0,\n",
              "                                              min_impurity_split=None,\n",
              "                                              min_samples_leaf=1,\n",
              "                                              min_samples_split=2,\n",
              "                                              min_weight_fraction_leaf=0.0,\n",
              "                                              n_estimators='warn', n_jobs=None,\n",
              "                                              oob_score=False, random_state=42,\n",
              "                                              verbose=0, warm_start=False),\n",
              "             iid='warn', n_jobs=None,\n",
              "             param_grid={'criterion': ['gini', 'entropy'],\n",
              "                         'max_depth': [2, 3, 4, 5, 6, 7],\n",
              "                         'max_features': ['auto', 'sqrt', 'log2'],\n",
              "                         'n_estimators': [5, 6, 7, 8, 9, 10, 11, 12, 13, 14, 15,\n",
              "                                          16, 17, 18, 19]},\n",
              "             pre_dispatch='2*n_jobs', refit=True, return_train_score=False,\n",
              "             scoring=None, verbose=0)"
            ]
          },
          "metadata": {
            "tags": []
          },
          "execution_count": 32
        }
      ]
    },
    {
      "cell_type": "code",
      "metadata": {
        "id": "-dCjaSJxvzZu",
        "colab_type": "code",
        "colab": {}
      },
      "source": [
        "rfc_opt = gs_rfc.best_estimator_\n",
        "\n",
        "y_pred = rfc_opt.predict(x_train_scaled)"
      ],
      "execution_count": 0,
      "outputs": []
    },
    {
      "cell_type": "code",
      "metadata": {
        "id": "FJnSaUUOv9lO",
        "colab_type": "code",
        "outputId": "56810ec1-869c-409b-971b-c0d4bfadd9e1",
        "colab": {
          "base_uri": "https://localhost:8080/",
          "height": 181
        }
      },
      "source": [
        "print(classification_report(y_train, y_pred))"
      ],
      "execution_count": 0,
      "outputs": [
        {
          "output_type": "stream",
          "text": [
            "              precision    recall  f1-score   support\n",
            "\n",
            "           0       0.90      0.95      0.93       100\n",
            "           1       0.93      0.88      0.90        80\n",
            "\n",
            "    accuracy                           0.92       180\n",
            "   macro avg       0.92      0.91      0.92       180\n",
            "weighted avg       0.92      0.92      0.92       180\n",
            "\n"
          ],
          "name": "stdout"
        }
      ]
    },
    {
      "cell_type": "code",
      "metadata": {
        "id": "kXGE7wWUvv3n",
        "colab_type": "code",
        "colab": {}
      },
      "source": [
        "from xgboost import XGBClassifier"
      ],
      "execution_count": 0,
      "outputs": []
    },
    {
      "cell_type": "code",
      "metadata": {
        "id": "0GYu3_G3wEke",
        "colab_type": "code",
        "outputId": "ef90a080-fe42-4f78-c96c-54045a17342e",
        "colab": {
          "base_uri": "https://localhost:8080/",
          "height": 399
        }
      },
      "source": [
        "xgb_clf = XGBClassifier(learning_rate=0.02, \n",
        "                        objective='binary:logistic', \n",
        "                        verbosity = 0, \n",
        "                        n_jobs=-1, \n",
        "                        random_state = 0)\n",
        "\n",
        "\n",
        "params = {\n",
        "        'min_child_weight': [1, 5, 10],\n",
        "        'gamma': [0.5, 1, 1.5, 2, 5],\n",
        "        'subsample': [0.6, 0.8, 1.0],\n",
        "        'colsample_bytree': [0.6, 0.8, 1.0],\n",
        "        'max_depth': [2, 3, 4, 5],\n",
        "        'n_estimators': list(range(10,200,20))\n",
        "}\n",
        "\n",
        "gs_xgb = GridSearchCV(xgb_clf, \n",
        "                      n_jobs = -1, \n",
        "                      cv = 10, \n",
        "                      verbose = 0, \n",
        "                      param_grid = params)\n",
        "\n",
        "gs_xgb.fit(x_train_scaled, y_train)"
      ],
      "execution_count": 0,
      "outputs": [
        {
          "output_type": "execute_result",
          "data": {
            "text/plain": [
              "GridSearchCV(cv=10, error_score='raise-deprecating',\n",
              "             estimator=XGBClassifier(base_score=0.5, booster='gbtree',\n",
              "                                     colsample_bylevel=1, colsample_bynode=1,\n",
              "                                     colsample_bytree=1, gamma=0,\n",
              "                                     learning_rate=0.02, max_delta_step=0,\n",
              "                                     max_depth=3, min_child_weight=1,\n",
              "                                     missing=None, n_estimators=100, n_jobs=-1,\n",
              "                                     nthread=None, objective='binary:logistic',\n",
              "                                     random_state=0, reg_alpha=0, re...\n",
              "                                     scale_pos_weight=1, seed=None, silent=None,\n",
              "                                     subsample=1, verbosity=0),\n",
              "             iid='warn', n_jobs=-1,\n",
              "             param_grid={'colsample_bytree': [0.6, 0.8, 1.0],\n",
              "                         'gamma': [0.5, 1, 1.5, 2, 5],\n",
              "                         'max_depth': [2, 3, 4, 5],\n",
              "                         'min_child_weight': [1, 5, 10],\n",
              "                         'n_estimators': [10, 30, 50, 70, 90, 110, 130, 150,\n",
              "                                          170, 190],\n",
              "                         'subsample': [0.6, 0.8, 1.0]},\n",
              "             pre_dispatch='2*n_jobs', refit=True, return_train_score=False,\n",
              "             scoring=None, verbose=0)"
            ]
          },
          "metadata": {
            "tags": []
          },
          "execution_count": 36
        }
      ]
    },
    {
      "cell_type": "code",
      "metadata": {
        "id": "wX9WM2wW7zdg",
        "colab_type": "code",
        "colab": {}
      },
      "source": [
        "xgb_opt = gs_xgb.best_estimator_"
      ],
      "execution_count": 0,
      "outputs": []
    },
    {
      "cell_type": "code",
      "metadata": {
        "id": "GrL2ijSEboLN",
        "colab_type": "code",
        "outputId": "274dd53c-bc5e-47b8-b117-10816903c5ae",
        "colab": {
          "base_uri": "https://localhost:8080/",
          "height": 145
        }
      },
      "source": [
        "gs_xgb.best_estimator_"
      ],
      "execution_count": 0,
      "outputs": [
        {
          "output_type": "execute_result",
          "data": {
            "text/plain": [
              "XGBClassifier(base_score=0.5, booster='gbtree', colsample_bylevel=1,\n",
              "              colsample_bynode=1, colsample_bytree=0.6, gamma=0.5,\n",
              "              learning_rate=0.02, max_delta_step=0, max_depth=2,\n",
              "              min_child_weight=1, missing=None, n_estimators=150, n_jobs=-1,\n",
              "              nthread=None, objective='binary:logistic', random_state=0,\n",
              "              reg_alpha=0, reg_lambda=1, scale_pos_weight=1, seed=None,\n",
              "              silent=None, subsample=0.8, verbosity=0)"
            ]
          },
          "metadata": {
            "tags": []
          },
          "execution_count": 127
        }
      ]
    },
    {
      "cell_type": "code",
      "metadata": {
        "id": "4zIAdu2D73nS",
        "colab_type": "code",
        "colab": {}
      },
      "source": [
        "xgb_pred = xgb_opt.predict(x_train_scaled)"
      ],
      "execution_count": 0,
      "outputs": []
    },
    {
      "cell_type": "code",
      "metadata": {
        "id": "RCk1oKDe8ADx",
        "colab_type": "code",
        "outputId": "a7deb23c-9e8a-4eef-9216-b38ef3c00675",
        "colab": {
          "base_uri": "https://localhost:8080/",
          "height": 181
        }
      },
      "source": [
        "print(classification_report(y_train, xgb_pred))"
      ],
      "execution_count": 0,
      "outputs": [
        {
          "output_type": "stream",
          "text": [
            "              precision    recall  f1-score   support\n",
            "\n",
            "           0       0.85      0.93      0.89       100\n",
            "           1       0.90      0.80      0.85        80\n",
            "\n",
            "    accuracy                           0.87       180\n",
            "   macro avg       0.88      0.86      0.87       180\n",
            "weighted avg       0.87      0.87      0.87       180\n",
            "\n"
          ],
          "name": "stdout"
        }
      ]
    },
    {
      "cell_type": "code",
      "metadata": {
        "id": "kEiXePyG_QQL",
        "colab_type": "code",
        "colab": {}
      },
      "source": [
        "xgb_test_pred = xgb_opt.predict_proba(x_test_scaled)\n"
      ],
      "execution_count": 0,
      "outputs": []
    },
    {
      "cell_type": "code",
      "metadata": {
        "id": "P89VN0a0C0r3",
        "colab_type": "code",
        "colab": {}
      },
      "source": [
        "xgb_proba_df = pd.DataFrame(xgb_test_pred)"
      ],
      "execution_count": 0,
      "outputs": []
    },
    {
      "cell_type": "code",
      "metadata": {
        "id": "MjstXg8rDM_3",
        "colab_type": "code",
        "outputId": "11706944-4159-456b-d293-27b416534504",
        "colab": {
          "base_uri": "https://localhost:8080/",
          "height": 228
        }
      },
      "source": [
        "xgb_final = pd.merge(left = test_val[['patient_id']], right = xgb_proba_df, left_index = True, right_index = True ).set_index('patient_id')\n",
        "xgb_final = xgb_final.drop(labels = 0, axis = 1)\n",
        "xgb_final = xgb_final.rename({1:'heart_disease_present'}, axis = 1)\n",
        "xgb_final.head()"
      ],
      "execution_count": 0,
      "outputs": [
        {
          "output_type": "execute_result",
          "data": {
            "text/html": [
              "<div>\n",
              "<style scoped>\n",
              "    .dataframe tbody tr th:only-of-type {\n",
              "        vertical-align: middle;\n",
              "    }\n",
              "\n",
              "    .dataframe tbody tr th {\n",
              "        vertical-align: top;\n",
              "    }\n",
              "\n",
              "    .dataframe thead th {\n",
              "        text-align: right;\n",
              "    }\n",
              "</style>\n",
              "<table border=\"1\" class=\"dataframe\">\n",
              "  <thead>\n",
              "    <tr style=\"text-align: right;\">\n",
              "      <th></th>\n",
              "      <th>heart_disease_present</th>\n",
              "    </tr>\n",
              "    <tr>\n",
              "      <th>patient_id</th>\n",
              "      <th></th>\n",
              "    </tr>\n",
              "  </thead>\n",
              "  <tbody>\n",
              "    <tr>\n",
              "      <th>olalu7</th>\n",
              "      <td>0.626897</td>\n",
              "    </tr>\n",
              "    <tr>\n",
              "      <th>z9n6mx</th>\n",
              "      <td>0.132480</td>\n",
              "    </tr>\n",
              "    <tr>\n",
              "      <th>5k4413</th>\n",
              "      <td>0.878137</td>\n",
              "    </tr>\n",
              "    <tr>\n",
              "      <th>mrg7q5</th>\n",
              "      <td>0.188079</td>\n",
              "    </tr>\n",
              "    <tr>\n",
              "      <th>uki4do</th>\n",
              "      <td>0.683441</td>\n",
              "    </tr>\n",
              "  </tbody>\n",
              "</table>\n",
              "</div>"
            ],
            "text/plain": [
              "            heart_disease_present\n",
              "patient_id                       \n",
              "olalu7                   0.626897\n",
              "z9n6mx                   0.132480\n",
              "5k4413                   0.878137\n",
              "mrg7q5                   0.188079\n",
              "uki4do                   0.683441"
            ]
          },
          "metadata": {
            "tags": []
          },
          "execution_count": 67
        }
      ]
    },
    {
      "cell_type": "code",
      "metadata": {
        "id": "D_sEH99AEeS5",
        "colab_type": "code",
        "colab": {}
      },
      "source": [
        "xgb_final.to_csv('Predictions_XGB.csv')"
      ],
      "execution_count": 0,
      "outputs": []
    },
    {
      "cell_type": "code",
      "metadata": {
        "id": "oWjUKk8LNonO",
        "colab_type": "code",
        "outputId": "716c9db4-6fb6-456b-c8da-84b0721021ec",
        "colab": {
          "base_uri": "https://localhost:8080/",
          "height": 253
        }
      },
      "source": [
        "train_clean.head()\n"
      ],
      "execution_count": 0,
      "outputs": [
        {
          "output_type": "execute_result",
          "data": {
            "text/html": [
              "<div>\n",
              "<style scoped>\n",
              "    .dataframe tbody tr th:only-of-type {\n",
              "        vertical-align: middle;\n",
              "    }\n",
              "\n",
              "    .dataframe tbody tr th {\n",
              "        vertical-align: top;\n",
              "    }\n",
              "\n",
              "    .dataframe thead th {\n",
              "        text-align: right;\n",
              "    }\n",
              "</style>\n",
              "<table border=\"1\" class=\"dataframe\">\n",
              "  <thead>\n",
              "    <tr style=\"text-align: right;\">\n",
              "      <th></th>\n",
              "      <th>patient_id</th>\n",
              "      <th>thal</th>\n",
              "      <th>resting_blood_pressure</th>\n",
              "      <th>serum_cholesterol_mg_per_dl</th>\n",
              "      <th>oldpeak_eq_st_depression</th>\n",
              "      <th>sex</th>\n",
              "      <th>age</th>\n",
              "      <th>max_heart_rate_achieved</th>\n",
              "      <th>slope_type</th>\n",
              "      <th>chest_pain</th>\n",
              "      <th>vessel_type</th>\n",
              "      <th>blood_sugar</th>\n",
              "      <th>ekg</th>\n",
              "      <th>chest_pain_with_exercise</th>\n",
              "    </tr>\n",
              "  </thead>\n",
              "  <tbody>\n",
              "    <tr>\n",
              "      <th>0</th>\n",
              "      <td>0z64un</td>\n",
              "      <td>normal</td>\n",
              "      <td>128</td>\n",
              "      <td>308</td>\n",
              "      <td>0.0</td>\n",
              "      <td>male</td>\n",
              "      <td>45</td>\n",
              "      <td>170</td>\n",
              "      <td>Upslope</td>\n",
              "      <td>atypical angina</td>\n",
              "      <td>Color 0</td>\n",
              "      <td>Under 120mg</td>\n",
              "      <td>hypertrophy</td>\n",
              "      <td>None</td>\n",
              "    </tr>\n",
              "    <tr>\n",
              "      <th>1</th>\n",
              "      <td>ryoo3j</td>\n",
              "      <td>normal</td>\n",
              "      <td>110</td>\n",
              "      <td>214</td>\n",
              "      <td>1.6</td>\n",
              "      <td>female</td>\n",
              "      <td>54</td>\n",
              "      <td>158</td>\n",
              "      <td>Flat</td>\n",
              "      <td>non-anginal angina</td>\n",
              "      <td>Color 0</td>\n",
              "      <td>Under 120mg</td>\n",
              "      <td>normal</td>\n",
              "      <td>None</td>\n",
              "    </tr>\n",
              "    <tr>\n",
              "      <th>2</th>\n",
              "      <td>yt1s1x</td>\n",
              "      <td>normal</td>\n",
              "      <td>125</td>\n",
              "      <td>304</td>\n",
              "      <td>0.0</td>\n",
              "      <td>male</td>\n",
              "      <td>77</td>\n",
              "      <td>162</td>\n",
              "      <td>Upslope</td>\n",
              "      <td>asymptomatic</td>\n",
              "      <td>Color 3</td>\n",
              "      <td>Under 120mg</td>\n",
              "      <td>hypertrophy</td>\n",
              "      <td>Exist</td>\n",
              "    </tr>\n",
              "    <tr>\n",
              "      <th>3</th>\n",
              "      <td>l2xjde</td>\n",
              "      <td>reversible_defect</td>\n",
              "      <td>152</td>\n",
              "      <td>223</td>\n",
              "      <td>0.0</td>\n",
              "      <td>male</td>\n",
              "      <td>40</td>\n",
              "      <td>181</td>\n",
              "      <td>Upslope</td>\n",
              "      <td>asymptomatic</td>\n",
              "      <td>Color 0</td>\n",
              "      <td>Under 120mg</td>\n",
              "      <td>normal</td>\n",
              "      <td>None</td>\n",
              "    </tr>\n",
              "    <tr>\n",
              "      <th>4</th>\n",
              "      <td>oyt4ek</td>\n",
              "      <td>reversible_defect</td>\n",
              "      <td>178</td>\n",
              "      <td>270</td>\n",
              "      <td>4.2</td>\n",
              "      <td>male</td>\n",
              "      <td>59</td>\n",
              "      <td>145</td>\n",
              "      <td>Downslope</td>\n",
              "      <td>typical angina</td>\n",
              "      <td>Color 0</td>\n",
              "      <td>Under 120mg</td>\n",
              "      <td>hypertrophy</td>\n",
              "      <td>None</td>\n",
              "    </tr>\n",
              "  </tbody>\n",
              "</table>\n",
              "</div>"
            ],
            "text/plain": [
              "  patient_id               thal  ...          ekg  chest_pain_with_exercise\n",
              "0     0z64un             normal  ...  hypertrophy                      None\n",
              "1     ryoo3j             normal  ...       normal                      None\n",
              "2     yt1s1x             normal  ...  hypertrophy                     Exist\n",
              "3     l2xjde  reversible_defect  ...       normal                      None\n",
              "4     oyt4ek  reversible_defect  ...  hypertrophy                      None\n",
              "\n",
              "[5 rows x 14 columns]"
            ]
          },
          "metadata": {
            "tags": []
          },
          "execution_count": 69
        }
      ]
    },
    {
      "cell_type": "code",
      "metadata": {
        "id": "gdqBdjraOIQK",
        "colab_type": "code",
        "outputId": "c4c7d34f-c4d8-480d-dac0-e401e35767e7",
        "colab": {
          "base_uri": "https://localhost:8080/",
          "height": 253
        }
      },
      "source": [
        "# train_clean['oldpeak_eq_st_depression'].describe()[['25%', '50%', '75%']]\n",
        "\n",
        "train_clean.head()"
      ],
      "execution_count": 0,
      "outputs": [
        {
          "output_type": "execute_result",
          "data": {
            "text/html": [
              "<div>\n",
              "<style scoped>\n",
              "    .dataframe tbody tr th:only-of-type {\n",
              "        vertical-align: middle;\n",
              "    }\n",
              "\n",
              "    .dataframe tbody tr th {\n",
              "        vertical-align: top;\n",
              "    }\n",
              "\n",
              "    .dataframe thead th {\n",
              "        text-align: right;\n",
              "    }\n",
              "</style>\n",
              "<table border=\"1\" class=\"dataframe\">\n",
              "  <thead>\n",
              "    <tr style=\"text-align: right;\">\n",
              "      <th></th>\n",
              "      <th>patient_id</th>\n",
              "      <th>thal</th>\n",
              "      <th>resting_blood_pressure</th>\n",
              "      <th>serum_cholesterol_mg_per_dl</th>\n",
              "      <th>oldpeak_eq_st_depression</th>\n",
              "      <th>sex</th>\n",
              "      <th>age</th>\n",
              "      <th>max_heart_rate_achieved</th>\n",
              "      <th>slope_type</th>\n",
              "      <th>chest_pain</th>\n",
              "      <th>vessel_type</th>\n",
              "      <th>blood_sugar</th>\n",
              "      <th>ekg</th>\n",
              "      <th>chest_pain_with_exercise</th>\n",
              "    </tr>\n",
              "  </thead>\n",
              "  <tbody>\n",
              "    <tr>\n",
              "      <th>0</th>\n",
              "      <td>0z64un</td>\n",
              "      <td>normal</td>\n",
              "      <td>128</td>\n",
              "      <td>308</td>\n",
              "      <td>0.0</td>\n",
              "      <td>male</td>\n",
              "      <td>45</td>\n",
              "      <td>170</td>\n",
              "      <td>Upslope</td>\n",
              "      <td>atypical angina</td>\n",
              "      <td>Color 0</td>\n",
              "      <td>Under 120mg</td>\n",
              "      <td>hypertrophy</td>\n",
              "      <td>None</td>\n",
              "    </tr>\n",
              "    <tr>\n",
              "      <th>1</th>\n",
              "      <td>ryoo3j</td>\n",
              "      <td>normal</td>\n",
              "      <td>110</td>\n",
              "      <td>214</td>\n",
              "      <td>1.6</td>\n",
              "      <td>female</td>\n",
              "      <td>54</td>\n",
              "      <td>158</td>\n",
              "      <td>Flat</td>\n",
              "      <td>non-anginal angina</td>\n",
              "      <td>Color 0</td>\n",
              "      <td>Under 120mg</td>\n",
              "      <td>normal</td>\n",
              "      <td>None</td>\n",
              "    </tr>\n",
              "    <tr>\n",
              "      <th>2</th>\n",
              "      <td>yt1s1x</td>\n",
              "      <td>normal</td>\n",
              "      <td>125</td>\n",
              "      <td>304</td>\n",
              "      <td>0.0</td>\n",
              "      <td>male</td>\n",
              "      <td>77</td>\n",
              "      <td>162</td>\n",
              "      <td>Upslope</td>\n",
              "      <td>asymptomatic</td>\n",
              "      <td>Color 3</td>\n",
              "      <td>Under 120mg</td>\n",
              "      <td>hypertrophy</td>\n",
              "      <td>Exist</td>\n",
              "    </tr>\n",
              "    <tr>\n",
              "      <th>3</th>\n",
              "      <td>l2xjde</td>\n",
              "      <td>reversible_defect</td>\n",
              "      <td>152</td>\n",
              "      <td>223</td>\n",
              "      <td>0.0</td>\n",
              "      <td>male</td>\n",
              "      <td>40</td>\n",
              "      <td>181</td>\n",
              "      <td>Upslope</td>\n",
              "      <td>asymptomatic</td>\n",
              "      <td>Color 0</td>\n",
              "      <td>Under 120mg</td>\n",
              "      <td>normal</td>\n",
              "      <td>None</td>\n",
              "    </tr>\n",
              "    <tr>\n",
              "      <th>4</th>\n",
              "      <td>oyt4ek</td>\n",
              "      <td>reversible_defect</td>\n",
              "      <td>178</td>\n",
              "      <td>270</td>\n",
              "      <td>4.2</td>\n",
              "      <td>male</td>\n",
              "      <td>59</td>\n",
              "      <td>145</td>\n",
              "      <td>Downslope</td>\n",
              "      <td>typical angina</td>\n",
              "      <td>Color 0</td>\n",
              "      <td>Under 120mg</td>\n",
              "      <td>hypertrophy</td>\n",
              "      <td>None</td>\n",
              "    </tr>\n",
              "  </tbody>\n",
              "</table>\n",
              "</div>"
            ],
            "text/plain": [
              "  patient_id               thal  ...          ekg  chest_pain_with_exercise\n",
              "0     0z64un             normal  ...  hypertrophy                      None\n",
              "1     ryoo3j             normal  ...       normal                      None\n",
              "2     yt1s1x             normal  ...  hypertrophy                     Exist\n",
              "3     l2xjde  reversible_defect  ...       normal                      None\n",
              "4     oyt4ek  reversible_defect  ...  hypertrophy                      None\n",
              "\n",
              "[5 rows x 14 columns]"
            ]
          },
          "metadata": {
            "tags": []
          },
          "execution_count": 90
        }
      ]
    },
    {
      "cell_type": "code",
      "metadata": {
        "id": "ingW0BDtOvoY",
        "colab_type": "code",
        "colab": {}
      },
      "source": [
        "eq_depression_bin = pd.qcut(x = train_clean['oldpeak_eq_st_depression'], q = 3, labels = ['low', 'mid', 'high'])"
      ],
      "execution_count": 0,
      "outputs": []
    },
    {
      "cell_type": "code",
      "metadata": {
        "id": "f7_jHFg7P6g5",
        "colab_type": "code",
        "colab": {}
      },
      "source": [
        "train_clean = pd.merge(left = train_clean, right = eq_depression_bin, left_index = True, right_index = True)"
      ],
      "execution_count": 0,
      "outputs": []
    },
    {
      "cell_type": "code",
      "metadata": {
        "id": "BzgVvDfVQI3f",
        "colab_type": "code",
        "colab": {}
      },
      "source": [
        "train_clean.drop(labels = 'oldpeak_eq_st_depression_x', axis = 1, inplace = True)"
      ],
      "execution_count": 0,
      "outputs": []
    },
    {
      "cell_type": "code",
      "metadata": {
        "id": "CLruGLv3QPzn",
        "colab_type": "code",
        "outputId": "4be4b597-0423-4a1b-b12b-024620a2f854",
        "colab": {
          "base_uri": "https://localhost:8080/",
          "height": 253
        }
      },
      "source": [
        "train_clean.head()"
      ],
      "execution_count": 0,
      "outputs": [
        {
          "output_type": "execute_result",
          "data": {
            "text/html": [
              "<div>\n",
              "<style scoped>\n",
              "    .dataframe tbody tr th:only-of-type {\n",
              "        vertical-align: middle;\n",
              "    }\n",
              "\n",
              "    .dataframe tbody tr th {\n",
              "        vertical-align: top;\n",
              "    }\n",
              "\n",
              "    .dataframe thead th {\n",
              "        text-align: right;\n",
              "    }\n",
              "</style>\n",
              "<table border=\"1\" class=\"dataframe\">\n",
              "  <thead>\n",
              "    <tr style=\"text-align: right;\">\n",
              "      <th></th>\n",
              "      <th>patient_id</th>\n",
              "      <th>thal</th>\n",
              "      <th>resting_blood_pressure</th>\n",
              "      <th>serum_cholesterol_mg_per_dl</th>\n",
              "      <th>sex</th>\n",
              "      <th>age</th>\n",
              "      <th>max_heart_rate_achieved</th>\n",
              "      <th>slope_type</th>\n",
              "      <th>chest_pain</th>\n",
              "      <th>vessel_type</th>\n",
              "      <th>blood_sugar</th>\n",
              "      <th>ekg</th>\n",
              "      <th>chest_pain_with_exercise</th>\n",
              "      <th>oldpeak_eq_st_depression_y</th>\n",
              "    </tr>\n",
              "  </thead>\n",
              "  <tbody>\n",
              "    <tr>\n",
              "      <th>0</th>\n",
              "      <td>0z64un</td>\n",
              "      <td>normal</td>\n",
              "      <td>128</td>\n",
              "      <td>308</td>\n",
              "      <td>male</td>\n",
              "      <td>45</td>\n",
              "      <td>170</td>\n",
              "      <td>Upslope</td>\n",
              "      <td>atypical angina</td>\n",
              "      <td>Color 0</td>\n",
              "      <td>Under 120mg</td>\n",
              "      <td>hypertrophy</td>\n",
              "      <td>None</td>\n",
              "      <td>low</td>\n",
              "    </tr>\n",
              "    <tr>\n",
              "      <th>1</th>\n",
              "      <td>ryoo3j</td>\n",
              "      <td>normal</td>\n",
              "      <td>110</td>\n",
              "      <td>214</td>\n",
              "      <td>female</td>\n",
              "      <td>54</td>\n",
              "      <td>158</td>\n",
              "      <td>Flat</td>\n",
              "      <td>non-anginal angina</td>\n",
              "      <td>Color 0</td>\n",
              "      <td>Under 120mg</td>\n",
              "      <td>normal</td>\n",
              "      <td>None</td>\n",
              "      <td>high</td>\n",
              "    </tr>\n",
              "    <tr>\n",
              "      <th>2</th>\n",
              "      <td>yt1s1x</td>\n",
              "      <td>normal</td>\n",
              "      <td>125</td>\n",
              "      <td>304</td>\n",
              "      <td>male</td>\n",
              "      <td>77</td>\n",
              "      <td>162</td>\n",
              "      <td>Upslope</td>\n",
              "      <td>asymptomatic</td>\n",
              "      <td>Color 3</td>\n",
              "      <td>Under 120mg</td>\n",
              "      <td>hypertrophy</td>\n",
              "      <td>Exist</td>\n",
              "      <td>low</td>\n",
              "    </tr>\n",
              "    <tr>\n",
              "      <th>3</th>\n",
              "      <td>l2xjde</td>\n",
              "      <td>reversible_defect</td>\n",
              "      <td>152</td>\n",
              "      <td>223</td>\n",
              "      <td>male</td>\n",
              "      <td>40</td>\n",
              "      <td>181</td>\n",
              "      <td>Upslope</td>\n",
              "      <td>asymptomatic</td>\n",
              "      <td>Color 0</td>\n",
              "      <td>Under 120mg</td>\n",
              "      <td>normal</td>\n",
              "      <td>None</td>\n",
              "      <td>low</td>\n",
              "    </tr>\n",
              "    <tr>\n",
              "      <th>4</th>\n",
              "      <td>oyt4ek</td>\n",
              "      <td>reversible_defect</td>\n",
              "      <td>178</td>\n",
              "      <td>270</td>\n",
              "      <td>male</td>\n",
              "      <td>59</td>\n",
              "      <td>145</td>\n",
              "      <td>Downslope</td>\n",
              "      <td>typical angina</td>\n",
              "      <td>Color 0</td>\n",
              "      <td>Under 120mg</td>\n",
              "      <td>hypertrophy</td>\n",
              "      <td>None</td>\n",
              "      <td>high</td>\n",
              "    </tr>\n",
              "  </tbody>\n",
              "</table>\n",
              "</div>"
            ],
            "text/plain": [
              "  patient_id  ... oldpeak_eq_st_depression_y\n",
              "0     0z64un  ...                        low\n",
              "1     ryoo3j  ...                       high\n",
              "2     yt1s1x  ...                        low\n",
              "3     l2xjde  ...                        low\n",
              "4     oyt4ek  ...                       high\n",
              "\n",
              "[5 rows x 14 columns]"
            ]
          },
          "metadata": {
            "tags": []
          },
          "execution_count": 35
        }
      ]
    },
    {
      "cell_type": "code",
      "metadata": {
        "id": "st5UGqUmQ-HO",
        "colab_type": "code",
        "outputId": "f63de359-d386-490a-b7d1-6d9df4f9c50e",
        "colab": {
          "base_uri": "https://localhost:8080/",
          "height": 253
        }
      },
      "source": [
        "serum_bin = pd.qcut(x = train_clean['serum_cholesterol_mg_per_dl'], q = 4, labels = ['low', 'mid-low', 'mid-high', 'high'])\n",
        "train_clean = pd.merge(left = train_clean, right = serum_bin, left_index = True, right_index = True)\n",
        "train_clean.drop(labels = 'serum_cholesterol_mg_per_dl_x', axis = 1, inplace = True)\n",
        "train_clean.head()"
      ],
      "execution_count": 0,
      "outputs": [
        {
          "output_type": "execute_result",
          "data": {
            "text/html": [
              "<div>\n",
              "<style scoped>\n",
              "    .dataframe tbody tr th:only-of-type {\n",
              "        vertical-align: middle;\n",
              "    }\n",
              "\n",
              "    .dataframe tbody tr th {\n",
              "        vertical-align: top;\n",
              "    }\n",
              "\n",
              "    .dataframe thead th {\n",
              "        text-align: right;\n",
              "    }\n",
              "</style>\n",
              "<table border=\"1\" class=\"dataframe\">\n",
              "  <thead>\n",
              "    <tr style=\"text-align: right;\">\n",
              "      <th></th>\n",
              "      <th>patient_id</th>\n",
              "      <th>thal</th>\n",
              "      <th>resting_blood_pressure</th>\n",
              "      <th>sex</th>\n",
              "      <th>age</th>\n",
              "      <th>max_heart_rate_achieved</th>\n",
              "      <th>slope_type</th>\n",
              "      <th>chest_pain</th>\n",
              "      <th>vessel_type</th>\n",
              "      <th>blood_sugar</th>\n",
              "      <th>ekg</th>\n",
              "      <th>chest_pain_with_exercise</th>\n",
              "      <th>oldpeak_eq_st_depression_y</th>\n",
              "      <th>serum_cholesterol_mg_per_dl_y</th>\n",
              "    </tr>\n",
              "  </thead>\n",
              "  <tbody>\n",
              "    <tr>\n",
              "      <th>0</th>\n",
              "      <td>0z64un</td>\n",
              "      <td>normal</td>\n",
              "      <td>128</td>\n",
              "      <td>male</td>\n",
              "      <td>45</td>\n",
              "      <td>170</td>\n",
              "      <td>Upslope</td>\n",
              "      <td>atypical angina</td>\n",
              "      <td>Color 0</td>\n",
              "      <td>Under 120mg</td>\n",
              "      <td>hypertrophy</td>\n",
              "      <td>None</td>\n",
              "      <td>low</td>\n",
              "      <td>high</td>\n",
              "    </tr>\n",
              "    <tr>\n",
              "      <th>1</th>\n",
              "      <td>ryoo3j</td>\n",
              "      <td>normal</td>\n",
              "      <td>110</td>\n",
              "      <td>female</td>\n",
              "      <td>54</td>\n",
              "      <td>158</td>\n",
              "      <td>Flat</td>\n",
              "      <td>non-anginal angina</td>\n",
              "      <td>Color 0</td>\n",
              "      <td>Under 120mg</td>\n",
              "      <td>normal</td>\n",
              "      <td>None</td>\n",
              "      <td>high</td>\n",
              "      <td>mid-low</td>\n",
              "    </tr>\n",
              "    <tr>\n",
              "      <th>2</th>\n",
              "      <td>yt1s1x</td>\n",
              "      <td>normal</td>\n",
              "      <td>125</td>\n",
              "      <td>male</td>\n",
              "      <td>77</td>\n",
              "      <td>162</td>\n",
              "      <td>Upslope</td>\n",
              "      <td>asymptomatic</td>\n",
              "      <td>Color 3</td>\n",
              "      <td>Under 120mg</td>\n",
              "      <td>hypertrophy</td>\n",
              "      <td>Exist</td>\n",
              "      <td>low</td>\n",
              "      <td>high</td>\n",
              "    </tr>\n",
              "    <tr>\n",
              "      <th>3</th>\n",
              "      <td>l2xjde</td>\n",
              "      <td>reversible_defect</td>\n",
              "      <td>152</td>\n",
              "      <td>male</td>\n",
              "      <td>40</td>\n",
              "      <td>181</td>\n",
              "      <td>Upslope</td>\n",
              "      <td>asymptomatic</td>\n",
              "      <td>Color 0</td>\n",
              "      <td>Under 120mg</td>\n",
              "      <td>normal</td>\n",
              "      <td>None</td>\n",
              "      <td>low</td>\n",
              "      <td>mid-low</td>\n",
              "    </tr>\n",
              "    <tr>\n",
              "      <th>4</th>\n",
              "      <td>oyt4ek</td>\n",
              "      <td>reversible_defect</td>\n",
              "      <td>178</td>\n",
              "      <td>male</td>\n",
              "      <td>59</td>\n",
              "      <td>145</td>\n",
              "      <td>Downslope</td>\n",
              "      <td>typical angina</td>\n",
              "      <td>Color 0</td>\n",
              "      <td>Under 120mg</td>\n",
              "      <td>hypertrophy</td>\n",
              "      <td>None</td>\n",
              "      <td>high</td>\n",
              "      <td>mid-high</td>\n",
              "    </tr>\n",
              "  </tbody>\n",
              "</table>\n",
              "</div>"
            ],
            "text/plain": [
              "  patient_id  ... serum_cholesterol_mg_per_dl_y\n",
              "0     0z64un  ...                          high\n",
              "1     ryoo3j  ...                       mid-low\n",
              "2     yt1s1x  ...                          high\n",
              "3     l2xjde  ...                       mid-low\n",
              "4     oyt4ek  ...                      mid-high\n",
              "\n",
              "[5 rows x 14 columns]"
            ]
          },
          "metadata": {
            "tags": []
          },
          "execution_count": 36
        }
      ]
    },
    {
      "cell_type": "code",
      "metadata": {
        "id": "tonCAuu8YkBQ",
        "colab_type": "code",
        "colab": {}
      },
      "source": [
        "dum = 'thal sex slope_type chest_pain vessel_type blood_sugar ekg chest_pain_with_exercise oldpeak_eq_st_depression_y serum_cholesterol_mg_per_dl_y'.split()\n",
        "\n",
        "train_dum = pd.get_dummies(data = train_clean, drop_first = True, prefix_sep = '|', columns = dum)"
      ],
      "execution_count": 0,
      "outputs": []
    },
    {
      "cell_type": "code",
      "metadata": {
        "id": "ysVo2_7f6XQP",
        "colab_type": "code",
        "outputId": "25fc312a-c6f5-4b9c-aca2-edecaa602962",
        "colab": {
          "base_uri": "https://localhost:8080/",
          "height": 235
        }
      },
      "source": [
        "train_dum.head()"
      ],
      "execution_count": 0,
      "outputs": [
        {
          "output_type": "execute_result",
          "data": {
            "text/html": [
              "<div>\n",
              "<style scoped>\n",
              "    .dataframe tbody tr th:only-of-type {\n",
              "        vertical-align: middle;\n",
              "    }\n",
              "\n",
              "    .dataframe tbody tr th {\n",
              "        vertical-align: top;\n",
              "    }\n",
              "\n",
              "    .dataframe thead th {\n",
              "        text-align: right;\n",
              "    }\n",
              "</style>\n",
              "<table border=\"1\" class=\"dataframe\">\n",
              "  <thead>\n",
              "    <tr style=\"text-align: right;\">\n",
              "      <th></th>\n",
              "      <th>patient_id</th>\n",
              "      <th>resting_blood_pressure</th>\n",
              "      <th>age</th>\n",
              "      <th>max_heart_rate_achieved</th>\n",
              "      <th>thal|normal</th>\n",
              "      <th>thal|reversible_defect</th>\n",
              "      <th>sex|male</th>\n",
              "      <th>slope_type|Flat</th>\n",
              "      <th>slope_type|Upslope</th>\n",
              "      <th>chest_pain|atypical angina</th>\n",
              "      <th>chest_pain|non-anginal angina</th>\n",
              "      <th>chest_pain|typical angina</th>\n",
              "      <th>vessel_type|Color 1</th>\n",
              "      <th>vessel_type|Color 2</th>\n",
              "      <th>vessel_type|Color 3</th>\n",
              "      <th>blood_sugar|Under 120mg</th>\n",
              "      <th>ekg|hypertrophy</th>\n",
              "      <th>ekg|normal</th>\n",
              "      <th>chest_pain_with_exercise|None</th>\n",
              "      <th>oldpeak_eq_st_depression_y|mid</th>\n",
              "      <th>oldpeak_eq_st_depression_y|high</th>\n",
              "      <th>serum_cholesterol_mg_per_dl_y|mid-low</th>\n",
              "      <th>serum_cholesterol_mg_per_dl_y|mid-high</th>\n",
              "      <th>serum_cholesterol_mg_per_dl_y|high</th>\n",
              "    </tr>\n",
              "  </thead>\n",
              "  <tbody>\n",
              "    <tr>\n",
              "      <th>0</th>\n",
              "      <td>0z64un</td>\n",
              "      <td>128</td>\n",
              "      <td>45</td>\n",
              "      <td>170</td>\n",
              "      <td>1</td>\n",
              "      <td>0</td>\n",
              "      <td>1</td>\n",
              "      <td>0</td>\n",
              "      <td>1</td>\n",
              "      <td>1</td>\n",
              "      <td>0</td>\n",
              "      <td>0</td>\n",
              "      <td>0</td>\n",
              "      <td>0</td>\n",
              "      <td>0</td>\n",
              "      <td>1</td>\n",
              "      <td>1</td>\n",
              "      <td>0</td>\n",
              "      <td>1</td>\n",
              "      <td>0</td>\n",
              "      <td>0</td>\n",
              "      <td>0</td>\n",
              "      <td>0</td>\n",
              "      <td>1</td>\n",
              "    </tr>\n",
              "    <tr>\n",
              "      <th>1</th>\n",
              "      <td>ryoo3j</td>\n",
              "      <td>110</td>\n",
              "      <td>54</td>\n",
              "      <td>158</td>\n",
              "      <td>1</td>\n",
              "      <td>0</td>\n",
              "      <td>0</td>\n",
              "      <td>1</td>\n",
              "      <td>0</td>\n",
              "      <td>0</td>\n",
              "      <td>1</td>\n",
              "      <td>0</td>\n",
              "      <td>0</td>\n",
              "      <td>0</td>\n",
              "      <td>0</td>\n",
              "      <td>1</td>\n",
              "      <td>0</td>\n",
              "      <td>1</td>\n",
              "      <td>1</td>\n",
              "      <td>0</td>\n",
              "      <td>1</td>\n",
              "      <td>1</td>\n",
              "      <td>0</td>\n",
              "      <td>0</td>\n",
              "    </tr>\n",
              "    <tr>\n",
              "      <th>2</th>\n",
              "      <td>yt1s1x</td>\n",
              "      <td>125</td>\n",
              "      <td>77</td>\n",
              "      <td>162</td>\n",
              "      <td>1</td>\n",
              "      <td>0</td>\n",
              "      <td>1</td>\n",
              "      <td>0</td>\n",
              "      <td>1</td>\n",
              "      <td>0</td>\n",
              "      <td>0</td>\n",
              "      <td>0</td>\n",
              "      <td>0</td>\n",
              "      <td>0</td>\n",
              "      <td>1</td>\n",
              "      <td>1</td>\n",
              "      <td>1</td>\n",
              "      <td>0</td>\n",
              "      <td>0</td>\n",
              "      <td>0</td>\n",
              "      <td>0</td>\n",
              "      <td>0</td>\n",
              "      <td>0</td>\n",
              "      <td>1</td>\n",
              "    </tr>\n",
              "    <tr>\n",
              "      <th>3</th>\n",
              "      <td>l2xjde</td>\n",
              "      <td>152</td>\n",
              "      <td>40</td>\n",
              "      <td>181</td>\n",
              "      <td>0</td>\n",
              "      <td>1</td>\n",
              "      <td>1</td>\n",
              "      <td>0</td>\n",
              "      <td>1</td>\n",
              "      <td>0</td>\n",
              "      <td>0</td>\n",
              "      <td>0</td>\n",
              "      <td>0</td>\n",
              "      <td>0</td>\n",
              "      <td>0</td>\n",
              "      <td>1</td>\n",
              "      <td>0</td>\n",
              "      <td>1</td>\n",
              "      <td>1</td>\n",
              "      <td>0</td>\n",
              "      <td>0</td>\n",
              "      <td>1</td>\n",
              "      <td>0</td>\n",
              "      <td>0</td>\n",
              "    </tr>\n",
              "    <tr>\n",
              "      <th>4</th>\n",
              "      <td>oyt4ek</td>\n",
              "      <td>178</td>\n",
              "      <td>59</td>\n",
              "      <td>145</td>\n",
              "      <td>0</td>\n",
              "      <td>1</td>\n",
              "      <td>1</td>\n",
              "      <td>0</td>\n",
              "      <td>0</td>\n",
              "      <td>0</td>\n",
              "      <td>0</td>\n",
              "      <td>1</td>\n",
              "      <td>0</td>\n",
              "      <td>0</td>\n",
              "      <td>0</td>\n",
              "      <td>1</td>\n",
              "      <td>1</td>\n",
              "      <td>0</td>\n",
              "      <td>1</td>\n",
              "      <td>0</td>\n",
              "      <td>1</td>\n",
              "      <td>0</td>\n",
              "      <td>1</td>\n",
              "      <td>0</td>\n",
              "    </tr>\n",
              "  </tbody>\n",
              "</table>\n",
              "</div>"
            ],
            "text/plain": [
              "  patient_id  ...  serum_cholesterol_mg_per_dl_y|high\n",
              "0     0z64un  ...                                   1\n",
              "1     ryoo3j  ...                                   0\n",
              "2     yt1s1x  ...                                   1\n",
              "3     l2xjde  ...                                   0\n",
              "4     oyt4ek  ...                                   0\n",
              "\n",
              "[5 rows x 24 columns]"
            ]
          },
          "metadata": {
            "tags": []
          },
          "execution_count": 38
        }
      ]
    },
    {
      "cell_type": "code",
      "metadata": {
        "id": "MWa4mmvYZtAA",
        "colab_type": "code",
        "colab": {}
      },
      "source": [
        "ssx = MinMaxScaler()"
      ],
      "execution_count": 0,
      "outputs": []
    },
    {
      "cell_type": "code",
      "metadata": {
        "id": "oGGzXC8_aNFe",
        "colab_type": "code",
        "outputId": "2606248d-b8b6-4d53-834e-23376d81f31c",
        "colab": {
          "base_uri": "https://localhost:8080/",
          "height": 145
        }
      },
      "source": [
        "x_train2 = train_dum.drop(labels = 'patient_id', axis = 1).values\n",
        "x_train2"
      ],
      "execution_count": 0,
      "outputs": [
        {
          "output_type": "execute_result",
          "data": {
            "text/plain": [
              "array([[128,  45, 170, ...,   0,   0,   1],\n",
              "       [110,  54, 158, ...,   1,   0,   0],\n",
              "       [125,  77, 162, ...,   0,   0,   1],\n",
              "       ...,\n",
              "       [125,  64, 131, ...,   0,   0,   1],\n",
              "       [124,  48, 175, ...,   0,   1,   0],\n",
              "       [160,  54, 163, ...,   0,   0,   0]])"
            ]
          },
          "metadata": {
            "tags": []
          },
          "execution_count": 40
        }
      ]
    },
    {
      "cell_type": "code",
      "metadata": {
        "id": "PlCg_SE3aWPP",
        "colab_type": "code",
        "colab": {}
      },
      "source": [
        "\n",
        "scaled_x_train2 = ssx.fit_transform(x_train2)"
      ],
      "execution_count": 0,
      "outputs": []
    },
    {
      "cell_type": "code",
      "metadata": {
        "id": "CFnYWRVbaq5F",
        "colab_type": "code",
        "outputId": "02d77000-a36a-4d6f-9207-7928546c7557",
        "colab": {
          "base_uri": "https://localhost:8080/",
          "height": 181
        }
      },
      "source": [
        "y_train2 = train_lab['heart_disease_present'].values\n",
        "y_train2"
      ],
      "execution_count": 0,
      "outputs": [
        {
          "output_type": "execute_result",
          "data": {
            "text/plain": [
              "array([0, 0, 1, 1, 0, 0, 1, 1, 1, 0, 0, 0, 1, 0, 1, 1, 0, 1, 0, 1, 0, 0,\n",
              "       0, 0, 0, 0, 0, 0, 1, 0, 0, 1, 1, 0, 1, 0, 0, 0, 0, 1, 0, 0, 0, 0,\n",
              "       0, 1, 0, 0, 1, 0, 1, 0, 1, 1, 1, 0, 1, 1, 0, 1, 0, 1, 1, 0, 0, 1,\n",
              "       1, 0, 0, 1, 0, 0, 0, 0, 1, 1, 0, 1, 1, 1, 0, 1, 1, 1, 0, 1, 0, 1,\n",
              "       0, 0, 0, 1, 0, 1, 0, 0, 1, 0, 0, 0, 0, 0, 1, 0, 0, 0, 0, 1, 0, 1,\n",
              "       0, 0, 1, 1, 0, 0, 0, 1, 1, 1, 1, 0, 0, 0, 1, 0, 0, 0, 1, 1, 0, 0,\n",
              "       0, 1, 1, 0, 1, 1, 0, 0, 1, 0, 0, 1, 1, 0, 0, 1, 1, 1, 0, 0, 1, 1,\n",
              "       1, 1, 0, 0, 0, 1, 0, 1, 1, 1, 0, 0, 0, 1, 0, 0, 1, 1, 1, 1, 0, 1,\n",
              "       1, 1, 0, 0])"
            ]
          },
          "metadata": {
            "tags": []
          },
          "execution_count": 47
        }
      ]
    },
    {
      "cell_type": "code",
      "metadata": {
        "id": "qUo84pah7H6d",
        "colab_type": "code",
        "colab": {}
      },
      "source": [
        "from xgboost import XGBClassifier"
      ],
      "execution_count": 0,
      "outputs": []
    },
    {
      "cell_type": "code",
      "metadata": {
        "id": "sIYldeBRbkNN",
        "colab_type": "code",
        "outputId": "c3cb5717-1cbc-4537-c3de-c73bb239672a",
        "colab": {
          "base_uri": "https://localhost:8080/",
          "height": 363
        }
      },
      "source": [
        "xgb_clf2 = XGBClassifier(objective='binary:logistic', \n",
        "                        verbosity = 0, \n",
        "                        n_jobs=-1, \n",
        "                        random_state = 0)\n",
        "\n",
        "\n",
        "params2 = {\n",
        "        'min_child_weight': [1, 5, 10],\n",
        "        'gamma': [0.5, 1, 1.5, 2, 5],\n",
        "        'subsample': [0.6, 0.8, 1.0],\n",
        "        'colsample_bytree': [0.6, 0.8, 1.0],\n",
        "        'max_depth': [2, 3, 4],\n",
        "        'n_estimators': list(range(100,300,30)),\n",
        "        'learning_rate' [0.0001, 0.001, 0.01, 0.1]\n",
        "}\n",
        "\n",
        "gs_xgb2 = GridSearchCV(xgb_clf2, \n",
        "                      n_jobs = -1, \n",
        "                      cv = 10, \n",
        "                      verbose = 0, \n",
        "                      param_grid = params2)\n",
        "\n",
        "gs_xgb2.fit(scaled_x_train2, y_train2)"
      ],
      "execution_count": 0,
      "outputs": [
        {
          "output_type": "execute_result",
          "data": {
            "text/plain": [
              "GridSearchCV(cv=10, error_score='raise-deprecating',\n",
              "             estimator=XGBClassifier(base_score=0.5, booster='gbtree',\n",
              "                                     colsample_bylevel=1, colsample_bynode=1,\n",
              "                                     colsample_bytree=1, gamma=0,\n",
              "                                     learning_rate=0.1, max_delta_step=0,\n",
              "                                     max_depth=3, min_child_weight=1,\n",
              "                                     missing=None, n_estimators=100, n_jobs=-1,\n",
              "                                     nthread=None, objective='binary:logistic',\n",
              "                                     random_state=0, reg_alpha=0, reg...\n",
              "                                     subsample=1, verbosity=0),\n",
              "             iid='warn', n_jobs=-1,\n",
              "             param_grid={'colsample_bytree': [0.6, 0.8, 1.0],\n",
              "                         'gamma': [0.5, 1, 1.5, 2, 5],\n",
              "                         'learning_rate': [0.01, 0.1, 0.2, 0.3],\n",
              "                         'max_depth': [2, 3, 4], 'min_child_weight': [1, 5, 10],\n",
              "                         'n_estimators': [100, 130, 160, 190, 220, 250, 280],\n",
              "                         'subsample': [0.6, 0.8, 1.0]},\n",
              "             pre_dispatch='2*n_jobs', refit=True, return_train_score=False,\n",
              "             scoring=None, verbose=0)"
            ]
          },
          "metadata": {
            "tags": []
          },
          "execution_count": 46
        }
      ]
    },
    {
      "cell_type": "code",
      "metadata": {
        "id": "-0GOGrQ2H6F_",
        "colab_type": "code",
        "outputId": "cdccc27b-d307-4ece-d8f3-1d065670bdde",
        "colab": {
          "base_uri": "https://localhost:8080/",
          "height": 145
        }
      },
      "source": [
        "gs_xgb2.best_estimator_"
      ],
      "execution_count": 0,
      "outputs": [
        {
          "output_type": "execute_result",
          "data": {
            "text/plain": [
              "XGBClassifier(base_score=0.5, booster='gbtree', colsample_bylevel=1,\n",
              "              colsample_bynode=1, colsample_bytree=0.6, gamma=0.5,\n",
              "              learning_rate=0.2, max_delta_step=0, max_depth=2,\n",
              "              min_child_weight=1, missing=None, n_estimators=190, n_jobs=-1,\n",
              "              nthread=None, objective='binary:logistic', random_state=0,\n",
              "              reg_alpha=0, reg_lambda=1, scale_pos_weight=1, seed=None,\n",
              "              silent=None, subsample=0.6, verbosity=0)"
            ]
          },
          "metadata": {
            "tags": []
          },
          "execution_count": 101
        }
      ]
    },
    {
      "cell_type": "code",
      "metadata": {
        "id": "O99-8Av7H6XA",
        "colab_type": "code",
        "colab": {}
      },
      "source": [
        "xgb_opt2 = gs_xgb2.best_estimator_"
      ],
      "execution_count": 0,
      "outputs": []
    },
    {
      "cell_type": "code",
      "metadata": {
        "id": "po7qvLPBI5jP",
        "colab_type": "code",
        "colab": {}
      },
      "source": [
        "y_pred = xgb_opt2.predict(scaled_x_train2)"
      ],
      "execution_count": 0,
      "outputs": []
    },
    {
      "cell_type": "code",
      "metadata": {
        "id": "89OoqvA_JAar",
        "colab_type": "code",
        "outputId": "b89ee9b4-66ec-4e8c-852f-28bd6de156f9",
        "colab": {
          "base_uri": "https://localhost:8080/",
          "height": 181
        }
      },
      "source": [
        "print(classification_report(y_train2, y_pred))"
      ],
      "execution_count": 0,
      "outputs": [
        {
          "output_type": "stream",
          "text": [
            "              precision    recall  f1-score   support\n",
            "\n",
            "           0       0.96      0.97      0.97       100\n",
            "           1       0.96      0.95      0.96        80\n",
            "\n",
            "    accuracy                           0.96       180\n",
            "   macro avg       0.96      0.96      0.96       180\n",
            "weighted avg       0.96      0.96      0.96       180\n",
            "\n"
          ],
          "name": "stdout"
        }
      ]
    },
    {
      "cell_type": "code",
      "metadata": {
        "id": "O68lXnlLJFLe",
        "colab_type": "code",
        "outputId": "dd32d7bf-31e0-40f8-e7d4-efa2fcdc4d9e",
        "colab": {
          "base_uri": "https://localhost:8080/",
          "height": 235
        }
      },
      "source": [
        "test_clean.head()"
      ],
      "execution_count": 0,
      "outputs": [
        {
          "output_type": "execute_result",
          "data": {
            "text/html": [
              "<div>\n",
              "<style scoped>\n",
              "    .dataframe tbody tr th:only-of-type {\n",
              "        vertical-align: middle;\n",
              "    }\n",
              "\n",
              "    .dataframe tbody tr th {\n",
              "        vertical-align: top;\n",
              "    }\n",
              "\n",
              "    .dataframe thead th {\n",
              "        text-align: right;\n",
              "    }\n",
              "</style>\n",
              "<table border=\"1\" class=\"dataframe\">\n",
              "  <thead>\n",
              "    <tr style=\"text-align: right;\">\n",
              "      <th></th>\n",
              "      <th>patient_id</th>\n",
              "      <th>thal</th>\n",
              "      <th>resting_blood_pressure</th>\n",
              "      <th>serum_cholesterol_mg_per_dl</th>\n",
              "      <th>oldpeak_eq_st_depression</th>\n",
              "      <th>sex</th>\n",
              "      <th>age</th>\n",
              "      <th>max_heart_rate_achieved</th>\n",
              "      <th>slope_type</th>\n",
              "      <th>chest_pain</th>\n",
              "      <th>vessel_type</th>\n",
              "      <th>blood_sugar</th>\n",
              "      <th>ekg</th>\n",
              "      <th>chest_pain_with_exercise</th>\n",
              "    </tr>\n",
              "  </thead>\n",
              "  <tbody>\n",
              "    <tr>\n",
              "      <th>0</th>\n",
              "      <td>olalu7</td>\n",
              "      <td>reversible_defect</td>\n",
              "      <td>170</td>\n",
              "      <td>288</td>\n",
              "      <td>0.2</td>\n",
              "      <td>male</td>\n",
              "      <td>59</td>\n",
              "      <td>159</td>\n",
              "      <td>Flat</td>\n",
              "      <td>typical angina</td>\n",
              "      <td>Color 0</td>\n",
              "      <td>Under 120mg</td>\n",
              "      <td>hypertrophy</td>\n",
              "      <td>None</td>\n",
              "    </tr>\n",
              "    <tr>\n",
              "      <th>1</th>\n",
              "      <td>z9n6mx</td>\n",
              "      <td>normal</td>\n",
              "      <td>138</td>\n",
              "      <td>183</td>\n",
              "      <td>1.4</td>\n",
              "      <td>female</td>\n",
              "      <td>35</td>\n",
              "      <td>182</td>\n",
              "      <td>Upslope</td>\n",
              "      <td>asymptomatic</td>\n",
              "      <td>Color 0</td>\n",
              "      <td>Under 120mg</td>\n",
              "      <td>normal</td>\n",
              "      <td>None</td>\n",
              "    </tr>\n",
              "    <tr>\n",
              "      <th>2</th>\n",
              "      <td>5k4413</td>\n",
              "      <td>reversible_defect</td>\n",
              "      <td>120</td>\n",
              "      <td>177</td>\n",
              "      <td>2.5</td>\n",
              "      <td>male</td>\n",
              "      <td>43</td>\n",
              "      <td>120</td>\n",
              "      <td>Flat</td>\n",
              "      <td>asymptomatic</td>\n",
              "      <td>Color 0</td>\n",
              "      <td>Under 120mg</td>\n",
              "      <td>hypertrophy</td>\n",
              "      <td>Exist</td>\n",
              "    </tr>\n",
              "    <tr>\n",
              "      <th>3</th>\n",
              "      <td>mrg7q5</td>\n",
              "      <td>normal</td>\n",
              "      <td>102</td>\n",
              "      <td>318</td>\n",
              "      <td>0.0</td>\n",
              "      <td>female</td>\n",
              "      <td>60</td>\n",
              "      <td>160</td>\n",
              "      <td>Upslope</td>\n",
              "      <td>non-anginal angina</td>\n",
              "      <td>Color 1</td>\n",
              "      <td>Under 120mg</td>\n",
              "      <td>normal</td>\n",
              "      <td>None</td>\n",
              "    </tr>\n",
              "    <tr>\n",
              "      <th>4</th>\n",
              "      <td>uki4do</td>\n",
              "      <td>normal</td>\n",
              "      <td>138</td>\n",
              "      <td>166</td>\n",
              "      <td>3.6</td>\n",
              "      <td>male</td>\n",
              "      <td>61</td>\n",
              "      <td>125</td>\n",
              "      <td>Flat</td>\n",
              "      <td>asymptomatic</td>\n",
              "      <td>Color 1</td>\n",
              "      <td>Under 120mg</td>\n",
              "      <td>hypertrophy</td>\n",
              "      <td>Exist</td>\n",
              "    </tr>\n",
              "  </tbody>\n",
              "</table>\n",
              "</div>"
            ],
            "text/plain": [
              "  patient_id               thal  ...          ekg  chest_pain_with_exercise\n",
              "0     olalu7  reversible_defect  ...  hypertrophy                      None\n",
              "1     z9n6mx             normal  ...       normal                      None\n",
              "2     5k4413  reversible_defect  ...  hypertrophy                     Exist\n",
              "3     mrg7q5             normal  ...       normal                      None\n",
              "4     uki4do             normal  ...  hypertrophy                     Exist\n",
              "\n",
              "[5 rows x 14 columns]"
            ]
          },
          "metadata": {
            "tags": []
          },
          "execution_count": 55
        }
      ]
    },
    {
      "cell_type": "code",
      "metadata": {
        "id": "hNeZYXjYJv2g",
        "colab_type": "code",
        "outputId": "3dd1342e-6d52-4055-bdf7-cb376bb9f758",
        "colab": {
          "base_uri": "https://localhost:8080/",
          "height": 253
        }
      },
      "source": [
        "train_clean.head()"
      ],
      "execution_count": 0,
      "outputs": [
        {
          "output_type": "execute_result",
          "data": {
            "text/html": [
              "<div>\n",
              "<style scoped>\n",
              "    .dataframe tbody tr th:only-of-type {\n",
              "        vertical-align: middle;\n",
              "    }\n",
              "\n",
              "    .dataframe tbody tr th {\n",
              "        vertical-align: top;\n",
              "    }\n",
              "\n",
              "    .dataframe thead th {\n",
              "        text-align: right;\n",
              "    }\n",
              "</style>\n",
              "<table border=\"1\" class=\"dataframe\">\n",
              "  <thead>\n",
              "    <tr style=\"text-align: right;\">\n",
              "      <th></th>\n",
              "      <th>patient_id</th>\n",
              "      <th>thal</th>\n",
              "      <th>resting_blood_pressure</th>\n",
              "      <th>sex</th>\n",
              "      <th>age</th>\n",
              "      <th>max_heart_rate_achieved</th>\n",
              "      <th>slope_type</th>\n",
              "      <th>chest_pain</th>\n",
              "      <th>vessel_type</th>\n",
              "      <th>blood_sugar</th>\n",
              "      <th>ekg</th>\n",
              "      <th>chest_pain_with_exercise</th>\n",
              "      <th>oldpeak_eq_st_depression_y</th>\n",
              "      <th>serum_cholesterol_mg_per_dl_y</th>\n",
              "    </tr>\n",
              "  </thead>\n",
              "  <tbody>\n",
              "    <tr>\n",
              "      <th>0</th>\n",
              "      <td>0z64un</td>\n",
              "      <td>normal</td>\n",
              "      <td>128</td>\n",
              "      <td>male</td>\n",
              "      <td>45</td>\n",
              "      <td>170</td>\n",
              "      <td>Upslope</td>\n",
              "      <td>atypical angina</td>\n",
              "      <td>Color 0</td>\n",
              "      <td>Under 120mg</td>\n",
              "      <td>hypertrophy</td>\n",
              "      <td>None</td>\n",
              "      <td>low</td>\n",
              "      <td>high</td>\n",
              "    </tr>\n",
              "    <tr>\n",
              "      <th>1</th>\n",
              "      <td>ryoo3j</td>\n",
              "      <td>normal</td>\n",
              "      <td>110</td>\n",
              "      <td>female</td>\n",
              "      <td>54</td>\n",
              "      <td>158</td>\n",
              "      <td>Flat</td>\n",
              "      <td>non-anginal angina</td>\n",
              "      <td>Color 0</td>\n",
              "      <td>Under 120mg</td>\n",
              "      <td>normal</td>\n",
              "      <td>None</td>\n",
              "      <td>high</td>\n",
              "      <td>mid-low</td>\n",
              "    </tr>\n",
              "    <tr>\n",
              "      <th>2</th>\n",
              "      <td>yt1s1x</td>\n",
              "      <td>normal</td>\n",
              "      <td>125</td>\n",
              "      <td>male</td>\n",
              "      <td>77</td>\n",
              "      <td>162</td>\n",
              "      <td>Upslope</td>\n",
              "      <td>asymptomatic</td>\n",
              "      <td>Color 3</td>\n",
              "      <td>Under 120mg</td>\n",
              "      <td>hypertrophy</td>\n",
              "      <td>Exist</td>\n",
              "      <td>low</td>\n",
              "      <td>high</td>\n",
              "    </tr>\n",
              "    <tr>\n",
              "      <th>3</th>\n",
              "      <td>l2xjde</td>\n",
              "      <td>reversible_defect</td>\n",
              "      <td>152</td>\n",
              "      <td>male</td>\n",
              "      <td>40</td>\n",
              "      <td>181</td>\n",
              "      <td>Upslope</td>\n",
              "      <td>asymptomatic</td>\n",
              "      <td>Color 0</td>\n",
              "      <td>Under 120mg</td>\n",
              "      <td>normal</td>\n",
              "      <td>None</td>\n",
              "      <td>low</td>\n",
              "      <td>mid-low</td>\n",
              "    </tr>\n",
              "    <tr>\n",
              "      <th>4</th>\n",
              "      <td>oyt4ek</td>\n",
              "      <td>reversible_defect</td>\n",
              "      <td>178</td>\n",
              "      <td>male</td>\n",
              "      <td>59</td>\n",
              "      <td>145</td>\n",
              "      <td>Downslope</td>\n",
              "      <td>typical angina</td>\n",
              "      <td>Color 0</td>\n",
              "      <td>Under 120mg</td>\n",
              "      <td>hypertrophy</td>\n",
              "      <td>None</td>\n",
              "      <td>high</td>\n",
              "      <td>mid-high</td>\n",
              "    </tr>\n",
              "  </tbody>\n",
              "</table>\n",
              "</div>"
            ],
            "text/plain": [
              "  patient_id  ... serum_cholesterol_mg_per_dl_y\n",
              "0     0z64un  ...                          high\n",
              "1     ryoo3j  ...                       mid-low\n",
              "2     yt1s1x  ...                          high\n",
              "3     l2xjde  ...                       mid-low\n",
              "4     oyt4ek  ...                      mid-high\n",
              "\n",
              "[5 rows x 14 columns]"
            ]
          },
          "metadata": {
            "tags": []
          },
          "execution_count": 56
        }
      ]
    },
    {
      "cell_type": "code",
      "metadata": {
        "id": "1UmT8MOpJ3XL",
        "colab_type": "code",
        "colab": {}
      },
      "source": [
        "# serum_bin = pd.qcut(x = train_clean['serum_cholesterol_mg_per_dl'], q = 4, labels = ['low', 'mid-low', 'mid-high', 'high'])\n",
        "test_clean = pd.merge(left = train_clean, right = serum_bin, left_index = True, right_index = True)\n",
        "train_clean.drop(labels = 'serum_cholesterol_mg_per_dl_x', axis = 1, inplace = True)\n",
        "train_clean.head()"
      ],
      "execution_count": 0,
      "outputs": []
    },
    {
      "cell_type": "code",
      "metadata": {
        "id": "QDQjHuxDJ8v3",
        "colab_type": "code",
        "outputId": "70dd4eb9-84f8-4731-c9db-1b22658718e3",
        "colab": {
          "base_uri": "https://localhost:8080/",
          "height": 163
        }
      },
      "source": [
        "train_val.head()\n",
        "\n",
        "pd.qcut(x = train_val['serum_cholesterol_mg_per_dl'], q = 4)."
      ],
      "execution_count": 0,
      "outputs": [
        {
          "output_type": "execute_result",
          "data": {
            "text/plain": [
              "0    (281.25, 564.0]\n",
              "1    (213.75, 245.5]\n",
              "2    (281.25, 564.0]\n",
              "3    (213.75, 245.5]\n",
              "4    (245.5, 281.25]\n",
              "Name: serum_cholesterol_mg_per_dl, dtype: category\n",
              "Categories (4, interval[float64]): [(125.999, 213.75] < (213.75, 245.5] < (245.5, 281.25] <\n",
              "                                    (281.25, 564.0]]"
            ]
          },
          "metadata": {
            "tags": []
          },
          "execution_count": 61
        }
      ]
    },
    {
      "cell_type": "code",
      "metadata": {
        "id": "8PByRJq6Kt_n",
        "colab_type": "code",
        "outputId": "24527281-78f5-450d-b28f-14debe40e879",
        "colab": {
          "base_uri": "https://localhost:8080/",
          "height": 181
        }
      },
      "source": [
        "train_val['serum_cholesterol_mg_per_dl'].describe()"
      ],
      "execution_count": 0,
      "outputs": [
        {
          "output_type": "execute_result",
          "data": {
            "text/plain": [
              "count    180.000000\n",
              "mean     249.211111\n",
              "std       52.717969\n",
              "min      126.000000\n",
              "25%      213.750000\n",
              "50%      245.500000\n",
              "75%      281.250000\n",
              "max      564.000000\n",
              "Name: serum_cholesterol_mg_per_dl, dtype: float64"
            ]
          },
          "metadata": {
            "tags": []
          },
          "execution_count": 62
        }
      ]
    },
    {
      "cell_type": "code",
      "metadata": {
        "id": "ENfzgNbULBcL",
        "colab_type": "code",
        "colab": {}
      },
      "source": [
        "ser, bins = pd.qcut(x = train_val['serum_cholesterol_mg_per_dl'], q = 4, retbins = True)\n",
        "\n",
        "# pd.cut(x = test_val['serum_cholesterol_mg_per_dl'], bins = )"
      ],
      "execution_count": 0,
      "outputs": []
    },
    {
      "cell_type": "code",
      "metadata": {
        "id": "Z24a5YLmLjE8",
        "colab_type": "code",
        "colab": {}
      },
      "source": [
        "labels2 = ['low', 'mid-low', 'mid-high', 'high']\n",
        "\n",
        "serum_test_cat = pd.cut(x = test_val['serum_cholesterol_mg_per_dl'], bins = bins, labels = labels2, include_lowest = True)"
      ],
      "execution_count": 0,
      "outputs": []
    },
    {
      "cell_type": "code",
      "metadata": {
        "id": "37q-3qdlMByu",
        "colab_type": "code",
        "colab": {}
      },
      "source": [
        "ser2, bins2 = pd.qcut(x = train_val['oldpeak_eq_st_depression'], q = 3, labels = ['low', 'mid', 'high'], retbins = True)"
      ],
      "execution_count": 0,
      "outputs": []
    },
    {
      "cell_type": "code",
      "metadata": {
        "id": "RY9m9RlfMM-K",
        "colab_type": "code",
        "colab": {}
      },
      "source": [
        "labels3 = ['low', 'mid', 'high']\n",
        "\n",
        "st_depre_cat = pd.cut(x = test_val['oldpeak_eq_st_depression'], bins = bins2, labels = labels3, include_lowest = True)"
      ],
      "execution_count": 0,
      "outputs": []
    },
    {
      "cell_type": "code",
      "metadata": {
        "id": "PSPdkai-MHSk",
        "colab_type": "code",
        "colab": {}
      },
      "source": [
        "test_clean = pd.merge(left = test_clean, right = serum_test_cat, left_index = True, right_index = True)"
      ],
      "execution_count": 0,
      "outputs": []
    },
    {
      "cell_type": "code",
      "metadata": {
        "id": "wS3awDlMNAWn",
        "colab_type": "code",
        "colab": {}
      },
      "source": [
        "test_clean = pd.merge(left = test_clean, right = st_depre_cat, left_index = True, right_index = True)"
      ],
      "execution_count": 0,
      "outputs": []
    },
    {
      "cell_type": "code",
      "metadata": {
        "id": "hX5iBWL5MwIz",
        "colab_type": "code",
        "colab": {}
      },
      "source": [
        "test_clean.drop(labels = ['serum_cholesterol_mg_per_dl_x', 'oldpeak_eq_st_depression_x'], axis = 1, inplace = True)"
      ],
      "execution_count": 0,
      "outputs": []
    },
    {
      "cell_type": "code",
      "metadata": {
        "id": "Q11Aug6GNPYU",
        "colab_type": "code",
        "outputId": "380ca1c1-90a6-4d52-f26b-f83afbe5a3eb",
        "colab": {
          "base_uri": "https://localhost:8080/",
          "height": 235
        }
      },
      "source": [
        "test_clean.head()"
      ],
      "execution_count": 0,
      "outputs": [
        {
          "output_type": "execute_result",
          "data": {
            "text/html": [
              "<div>\n",
              "<style scoped>\n",
              "    .dataframe tbody tr th:only-of-type {\n",
              "        vertical-align: middle;\n",
              "    }\n",
              "\n",
              "    .dataframe tbody tr th {\n",
              "        vertical-align: top;\n",
              "    }\n",
              "\n",
              "    .dataframe thead th {\n",
              "        text-align: right;\n",
              "    }\n",
              "</style>\n",
              "<table border=\"1\" class=\"dataframe\">\n",
              "  <thead>\n",
              "    <tr style=\"text-align: right;\">\n",
              "      <th></th>\n",
              "      <th>patient_id</th>\n",
              "      <th>thal</th>\n",
              "      <th>resting_blood_pressure</th>\n",
              "      <th>sex</th>\n",
              "      <th>age</th>\n",
              "      <th>max_heart_rate_achieved</th>\n",
              "      <th>slope_type</th>\n",
              "      <th>chest_pain</th>\n",
              "      <th>vessel_type</th>\n",
              "      <th>blood_sugar</th>\n",
              "      <th>ekg</th>\n",
              "      <th>chest_pain_with_exercise</th>\n",
              "      <th>serum_cholesterol_mg_per_dl_y</th>\n",
              "      <th>oldpeak_eq_st_depression_y</th>\n",
              "    </tr>\n",
              "  </thead>\n",
              "  <tbody>\n",
              "    <tr>\n",
              "      <th>0</th>\n",
              "      <td>olalu7</td>\n",
              "      <td>reversible_defect</td>\n",
              "      <td>170</td>\n",
              "      <td>male</td>\n",
              "      <td>59</td>\n",
              "      <td>159</td>\n",
              "      <td>Flat</td>\n",
              "      <td>typical angina</td>\n",
              "      <td>Color 0</td>\n",
              "      <td>Under 120mg</td>\n",
              "      <td>hypertrophy</td>\n",
              "      <td>None</td>\n",
              "      <td>high</td>\n",
              "      <td>mid</td>\n",
              "    </tr>\n",
              "    <tr>\n",
              "      <th>1</th>\n",
              "      <td>z9n6mx</td>\n",
              "      <td>normal</td>\n",
              "      <td>138</td>\n",
              "      <td>female</td>\n",
              "      <td>35</td>\n",
              "      <td>182</td>\n",
              "      <td>Upslope</td>\n",
              "      <td>asymptomatic</td>\n",
              "      <td>Color 0</td>\n",
              "      <td>Under 120mg</td>\n",
              "      <td>normal</td>\n",
              "      <td>None</td>\n",
              "      <td>low</td>\n",
              "      <td>mid</td>\n",
              "    </tr>\n",
              "    <tr>\n",
              "      <th>2</th>\n",
              "      <td>5k4413</td>\n",
              "      <td>reversible_defect</td>\n",
              "      <td>120</td>\n",
              "      <td>male</td>\n",
              "      <td>43</td>\n",
              "      <td>120</td>\n",
              "      <td>Flat</td>\n",
              "      <td>asymptomatic</td>\n",
              "      <td>Color 0</td>\n",
              "      <td>Under 120mg</td>\n",
              "      <td>hypertrophy</td>\n",
              "      <td>Exist</td>\n",
              "      <td>low</td>\n",
              "      <td>high</td>\n",
              "    </tr>\n",
              "    <tr>\n",
              "      <th>3</th>\n",
              "      <td>mrg7q5</td>\n",
              "      <td>normal</td>\n",
              "      <td>102</td>\n",
              "      <td>female</td>\n",
              "      <td>60</td>\n",
              "      <td>160</td>\n",
              "      <td>Upslope</td>\n",
              "      <td>non-anginal angina</td>\n",
              "      <td>Color 1</td>\n",
              "      <td>Under 120mg</td>\n",
              "      <td>normal</td>\n",
              "      <td>None</td>\n",
              "      <td>high</td>\n",
              "      <td>low</td>\n",
              "    </tr>\n",
              "    <tr>\n",
              "      <th>4</th>\n",
              "      <td>uki4do</td>\n",
              "      <td>normal</td>\n",
              "      <td>138</td>\n",
              "      <td>male</td>\n",
              "      <td>61</td>\n",
              "      <td>125</td>\n",
              "      <td>Flat</td>\n",
              "      <td>asymptomatic</td>\n",
              "      <td>Color 1</td>\n",
              "      <td>Under 120mg</td>\n",
              "      <td>hypertrophy</td>\n",
              "      <td>Exist</td>\n",
              "      <td>low</td>\n",
              "      <td>high</td>\n",
              "    </tr>\n",
              "  </tbody>\n",
              "</table>\n",
              "</div>"
            ],
            "text/plain": [
              "  patient_id  ... oldpeak_eq_st_depression_y\n",
              "0     olalu7  ...                        mid\n",
              "1     z9n6mx  ...                        mid\n",
              "2     5k4413  ...                       high\n",
              "3     mrg7q5  ...                        low\n",
              "4     uki4do  ...                       high\n",
              "\n",
              "[5 rows x 14 columns]"
            ]
          },
          "metadata": {
            "tags": []
          },
          "execution_count": 83
        }
      ]
    },
    {
      "cell_type": "code",
      "metadata": {
        "id": "3BvpYAamNQ6k",
        "colab_type": "code",
        "outputId": "3d75df6b-c80a-4b45-b174-1669186e9ba5",
        "colab": {
          "base_uri": "https://localhost:8080/",
          "height": 235
        }
      },
      "source": [
        "dum2 = 'thal sex slope_type chest_pain vessel_type blood_sugar ekg chest_pain_with_exercise oldpeak_eq_st_depression_y serum_cholesterol_mg_per_dl_y'.split()\n",
        "\n",
        "test_dum = pd.get_dummies(data = test_clean, drop_first = True, prefix_sep = '|', columns = dum2)\n",
        "test_dum.head()"
      ],
      "execution_count": 0,
      "outputs": [
        {
          "output_type": "execute_result",
          "data": {
            "text/html": [
              "<div>\n",
              "<style scoped>\n",
              "    .dataframe tbody tr th:only-of-type {\n",
              "        vertical-align: middle;\n",
              "    }\n",
              "\n",
              "    .dataframe tbody tr th {\n",
              "        vertical-align: top;\n",
              "    }\n",
              "\n",
              "    .dataframe thead th {\n",
              "        text-align: right;\n",
              "    }\n",
              "</style>\n",
              "<table border=\"1\" class=\"dataframe\">\n",
              "  <thead>\n",
              "    <tr style=\"text-align: right;\">\n",
              "      <th></th>\n",
              "      <th>patient_id</th>\n",
              "      <th>resting_blood_pressure</th>\n",
              "      <th>age</th>\n",
              "      <th>max_heart_rate_achieved</th>\n",
              "      <th>thal|normal</th>\n",
              "      <th>thal|reversible_defect</th>\n",
              "      <th>sex|male</th>\n",
              "      <th>slope_type|Flat</th>\n",
              "      <th>slope_type|Upslope</th>\n",
              "      <th>chest_pain|atypical angina</th>\n",
              "      <th>chest_pain|non-anginal angina</th>\n",
              "      <th>chest_pain|typical angina</th>\n",
              "      <th>vessel_type|Color 1</th>\n",
              "      <th>vessel_type|Color 2</th>\n",
              "      <th>vessel_type|Color 3</th>\n",
              "      <th>blood_sugar|Under 120mg</th>\n",
              "      <th>ekg|hypertrophy</th>\n",
              "      <th>ekg|normal</th>\n",
              "      <th>chest_pain_with_exercise|None</th>\n",
              "      <th>oldpeak_eq_st_depression_y|mid</th>\n",
              "      <th>oldpeak_eq_st_depression_y|high</th>\n",
              "      <th>serum_cholesterol_mg_per_dl_y|mid-low</th>\n",
              "      <th>serum_cholesterol_mg_per_dl_y|mid-high</th>\n",
              "      <th>serum_cholesterol_mg_per_dl_y|high</th>\n",
              "    </tr>\n",
              "  </thead>\n",
              "  <tbody>\n",
              "    <tr>\n",
              "      <th>0</th>\n",
              "      <td>olalu7</td>\n",
              "      <td>170</td>\n",
              "      <td>59</td>\n",
              "      <td>159</td>\n",
              "      <td>0</td>\n",
              "      <td>1</td>\n",
              "      <td>1</td>\n",
              "      <td>1</td>\n",
              "      <td>0</td>\n",
              "      <td>0</td>\n",
              "      <td>0</td>\n",
              "      <td>1</td>\n",
              "      <td>0</td>\n",
              "      <td>0</td>\n",
              "      <td>0</td>\n",
              "      <td>1</td>\n",
              "      <td>1</td>\n",
              "      <td>0</td>\n",
              "      <td>1</td>\n",
              "      <td>1</td>\n",
              "      <td>0</td>\n",
              "      <td>0</td>\n",
              "      <td>0</td>\n",
              "      <td>1</td>\n",
              "    </tr>\n",
              "    <tr>\n",
              "      <th>1</th>\n",
              "      <td>z9n6mx</td>\n",
              "      <td>138</td>\n",
              "      <td>35</td>\n",
              "      <td>182</td>\n",
              "      <td>1</td>\n",
              "      <td>0</td>\n",
              "      <td>0</td>\n",
              "      <td>0</td>\n",
              "      <td>1</td>\n",
              "      <td>0</td>\n",
              "      <td>0</td>\n",
              "      <td>0</td>\n",
              "      <td>0</td>\n",
              "      <td>0</td>\n",
              "      <td>0</td>\n",
              "      <td>1</td>\n",
              "      <td>0</td>\n",
              "      <td>1</td>\n",
              "      <td>1</td>\n",
              "      <td>1</td>\n",
              "      <td>0</td>\n",
              "      <td>0</td>\n",
              "      <td>0</td>\n",
              "      <td>0</td>\n",
              "    </tr>\n",
              "    <tr>\n",
              "      <th>2</th>\n",
              "      <td>5k4413</td>\n",
              "      <td>120</td>\n",
              "      <td>43</td>\n",
              "      <td>120</td>\n",
              "      <td>0</td>\n",
              "      <td>1</td>\n",
              "      <td>1</td>\n",
              "      <td>1</td>\n",
              "      <td>0</td>\n",
              "      <td>0</td>\n",
              "      <td>0</td>\n",
              "      <td>0</td>\n",
              "      <td>0</td>\n",
              "      <td>0</td>\n",
              "      <td>0</td>\n",
              "      <td>1</td>\n",
              "      <td>1</td>\n",
              "      <td>0</td>\n",
              "      <td>0</td>\n",
              "      <td>0</td>\n",
              "      <td>1</td>\n",
              "      <td>0</td>\n",
              "      <td>0</td>\n",
              "      <td>0</td>\n",
              "    </tr>\n",
              "    <tr>\n",
              "      <th>3</th>\n",
              "      <td>mrg7q5</td>\n",
              "      <td>102</td>\n",
              "      <td>60</td>\n",
              "      <td>160</td>\n",
              "      <td>1</td>\n",
              "      <td>0</td>\n",
              "      <td>0</td>\n",
              "      <td>0</td>\n",
              "      <td>1</td>\n",
              "      <td>0</td>\n",
              "      <td>1</td>\n",
              "      <td>0</td>\n",
              "      <td>1</td>\n",
              "      <td>0</td>\n",
              "      <td>0</td>\n",
              "      <td>1</td>\n",
              "      <td>0</td>\n",
              "      <td>1</td>\n",
              "      <td>1</td>\n",
              "      <td>0</td>\n",
              "      <td>0</td>\n",
              "      <td>0</td>\n",
              "      <td>0</td>\n",
              "      <td>1</td>\n",
              "    </tr>\n",
              "    <tr>\n",
              "      <th>4</th>\n",
              "      <td>uki4do</td>\n",
              "      <td>138</td>\n",
              "      <td>61</td>\n",
              "      <td>125</td>\n",
              "      <td>1</td>\n",
              "      <td>0</td>\n",
              "      <td>1</td>\n",
              "      <td>1</td>\n",
              "      <td>0</td>\n",
              "      <td>0</td>\n",
              "      <td>0</td>\n",
              "      <td>0</td>\n",
              "      <td>1</td>\n",
              "      <td>0</td>\n",
              "      <td>0</td>\n",
              "      <td>1</td>\n",
              "      <td>1</td>\n",
              "      <td>0</td>\n",
              "      <td>0</td>\n",
              "      <td>0</td>\n",
              "      <td>1</td>\n",
              "      <td>0</td>\n",
              "      <td>0</td>\n",
              "      <td>0</td>\n",
              "    </tr>\n",
              "  </tbody>\n",
              "</table>\n",
              "</div>"
            ],
            "text/plain": [
              "  patient_id  ...  serum_cholesterol_mg_per_dl_y|high\n",
              "0     olalu7  ...                                   1\n",
              "1     z9n6mx  ...                                   0\n",
              "2     5k4413  ...                                   0\n",
              "3     mrg7q5  ...                                   1\n",
              "4     uki4do  ...                                   0\n",
              "\n",
              "[5 rows x 24 columns]"
            ]
          },
          "metadata": {
            "tags": []
          },
          "execution_count": 84
        }
      ]
    },
    {
      "cell_type": "code",
      "metadata": {
        "id": "K0nJY1A6OFo0",
        "colab_type": "code",
        "outputId": "d5b90192-2c19-4155-f0c8-4c10316d6e3f",
        "colab": {
          "base_uri": "https://localhost:8080/",
          "height": 145
        }
      },
      "source": [
        "x_test2 = test_dum.drop(labels = 'patient_id', axis = 1).values\n",
        "x_test2"
      ],
      "execution_count": 0,
      "outputs": [
        {
          "output_type": "execute_result",
          "data": {
            "text/plain": [
              "array([[170,  59, 159, ...,   0,   0,   1],\n",
              "       [138,  35, 182, ...,   0,   0,   0],\n",
              "       [120,  43, 120, ...,   0,   0,   0],\n",
              "       ...,\n",
              "       [148,  42, 178, ...,   1,   0,   0],\n",
              "       [138,  46, 152, ...,   1,   0,   0],\n",
              "       [150,  43, 171, ...,   0,   1,   0]])"
            ]
          },
          "metadata": {
            "tags": []
          },
          "execution_count": 87
        }
      ]
    },
    {
      "cell_type": "code",
      "metadata": {
        "id": "YollJAdTOOyH",
        "colab_type": "code",
        "colab": {}
      },
      "source": [
        "scaled_x_test2 = ssx.transform(x_test2)"
      ],
      "execution_count": 0,
      "outputs": []
    },
    {
      "cell_type": "code",
      "metadata": {
        "id": "2OB9uEcYOUdJ",
        "colab_type": "code",
        "outputId": "95d33de1-1ff5-441e-fd2a-d4a83730235f",
        "colab": {
          "base_uri": "https://localhost:8080/",
          "height": 254
        }
      },
      "source": [
        "scaled_x_test2"
      ],
      "execution_count": 0,
      "outputs": [
        {
          "output_type": "execute_result",
          "data": {
            "text/plain": [
              "array([[0.88372093, 0.625     , 0.59433962, ..., 0.        , 0.        ,\n",
              "        1.        ],\n",
              "       [0.51162791, 0.125     , 0.81132075, ..., 0.        , 0.        ,\n",
              "        0.        ],\n",
              "       [0.30232558, 0.29166667, 0.22641509, ..., 0.        , 0.        ,\n",
              "        0.        ],\n",
              "       ...,\n",
              "       [0.62790698, 0.27083333, 0.77358491, ..., 1.        , 0.        ,\n",
              "        0.        ],\n",
              "       [0.51162791, 0.35416667, 0.52830189, ..., 1.        , 0.        ,\n",
              "        0.        ],\n",
              "       [0.65116279, 0.29166667, 0.70754717, ..., 0.        , 1.        ,\n",
              "        0.        ]])"
            ]
          },
          "metadata": {
            "tags": []
          },
          "execution_count": 89
        }
      ]
    },
    {
      "cell_type": "code",
      "metadata": {
        "id": "mf4WVdnpObmH",
        "colab_type": "code",
        "colab": {}
      },
      "source": [
        "xgb_opt_preds = xgb_opt2.predict_proba(scaled_x_test2)"
      ],
      "execution_count": 0,
      "outputs": []
    },
    {
      "cell_type": "code",
      "metadata": {
        "id": "uEabufNMOhVi",
        "colab_type": "code",
        "colab": {}
      },
      "source": [
        "# pd.DataFrame(xgb_opt_preds)\n",
        "\n",
        "opt_pred = pd.merge(left = test_clean[['patient_id']], right = pd.DataFrame(xgb_opt_preds), left_index = True, right_index = True)\n",
        "opt_pred"
      ],
      "execution_count": 0,
      "outputs": []
    },
    {
      "cell_type": "code",
      "metadata": {
        "id": "XfjYFOmlO4l9",
        "colab_type": "code",
        "colab": {}
      },
      "source": [
        "opt_pred.drop(labels = 0, axis = 1, inplace = True)"
      ],
      "execution_count": 0,
      "outputs": []
    },
    {
      "cell_type": "code",
      "metadata": {
        "id": "qgrEC8mGO_gF",
        "colab_type": "code",
        "outputId": "8d6c27f7-7f26-408f-9b74-3767b1500118",
        "colab": {
          "base_uri": "https://localhost:8080/",
          "height": 228
        }
      },
      "source": [
        "opt_pred.rename({1:'heart_disease_present'}, axis = 1, inplace = True)\n",
        "opt_pred.set_index('patient_id', inplace = True)\n",
        "opt_pred.head()"
      ],
      "execution_count": 0,
      "outputs": [
        {
          "output_type": "execute_result",
          "data": {
            "text/html": [
              "<div>\n",
              "<style scoped>\n",
              "    .dataframe tbody tr th:only-of-type {\n",
              "        vertical-align: middle;\n",
              "    }\n",
              "\n",
              "    .dataframe tbody tr th {\n",
              "        vertical-align: top;\n",
              "    }\n",
              "\n",
              "    .dataframe thead th {\n",
              "        text-align: right;\n",
              "    }\n",
              "</style>\n",
              "<table border=\"1\" class=\"dataframe\">\n",
              "  <thead>\n",
              "    <tr style=\"text-align: right;\">\n",
              "      <th></th>\n",
              "      <th>heart_disease_present</th>\n",
              "    </tr>\n",
              "    <tr>\n",
              "      <th>patient_id</th>\n",
              "      <th></th>\n",
              "    </tr>\n",
              "  </thead>\n",
              "  <tbody>\n",
              "    <tr>\n",
              "      <th>olalu7</th>\n",
              "      <td>0.948657</td>\n",
              "    </tr>\n",
              "    <tr>\n",
              "      <th>z9n6mx</th>\n",
              "      <td>0.005841</td>\n",
              "    </tr>\n",
              "    <tr>\n",
              "      <th>5k4413</th>\n",
              "      <td>0.977811</td>\n",
              "    </tr>\n",
              "    <tr>\n",
              "      <th>mrg7q5</th>\n",
              "      <td>0.227358</td>\n",
              "    </tr>\n",
              "    <tr>\n",
              "      <th>uki4do</th>\n",
              "      <td>0.997536</td>\n",
              "    </tr>\n",
              "  </tbody>\n",
              "</table>\n",
              "</div>"
            ],
            "text/plain": [
              "            heart_disease_present\n",
              "patient_id                       \n",
              "olalu7                   0.948657\n",
              "z9n6mx                   0.005841\n",
              "5k4413                   0.977811\n",
              "mrg7q5                   0.227358\n",
              "uki4do                   0.997536"
            ]
          },
          "metadata": {
            "tags": []
          },
          "execution_count": 98
        }
      ]
    },
    {
      "cell_type": "code",
      "metadata": {
        "id": "1wV2aFotPRAx",
        "colab_type": "code",
        "outputId": "3a5c93f4-b5ae-42f8-e001-7de5b252d591",
        "colab": {
          "base_uri": "https://localhost:8080/",
          "height": 35
        }
      },
      "source": [
        "opt_pred.shape"
      ],
      "execution_count": 0,
      "outputs": [
        {
          "output_type": "execute_result",
          "data": {
            "text/plain": [
              "(90, 1)"
            ]
          },
          "metadata": {
            "tags": []
          },
          "execution_count": 99
        }
      ]
    },
    {
      "cell_type": "code",
      "metadata": {
        "id": "VeKWgpyFPSb7",
        "colab_type": "code",
        "colab": {}
      },
      "source": [
        "opt_pred.to_csv('XGB_Acc_96.csv')"
      ],
      "execution_count": 0,
      "outputs": []
    },
    {
      "cell_type": "code",
      "metadata": {
        "id": "6GrilfT4RXlg",
        "colab_type": "code",
        "colab": {}
      },
      "source": [
        "# xgb_clf3 = XGBClassifier(min_child_weight = 1, \n",
        "#                          learning_rate=0.2,\n",
        "#                          objective='binary:logistic', \n",
        "#                         verbosity = 0, \n",
        "#                         n_jobs=-1, \n",
        "#                         random_state = 0,\n",
        "#                         max_depth = 2)\n",
        "\n",
        "\n",
        "# params3 = {\n",
        "#         'gamma': [0.01, 0.1, 0.2],\n",
        "#         'subsample': [0.75, 0.8, 0.85],\n",
        "#         'colsample_bytree': [0.01, 0.1, 0.2],\n",
        "#         'n_estimators': list(range(150,210,20))\n",
        "# }\n",
        "\n",
        "# gs_xgb3 = GridSearchCV(xgb_clf3, \n",
        "#                       n_jobs = -1, \n",
        "#                       cv = 10, \n",
        "#                       verbose = 0, \n",
        "#                       param_grid = params3)\n",
        "\n",
        "# gs_xgb3.fit(scaled_x_train2, y_train2)\n",
        "\n",
        "from sklearn.ensemble import RandomForestClassifier"
      ],
      "execution_count": 0,
      "outputs": []
    },
    {
      "cell_type": "code",
      "metadata": {
        "id": "Tg7xAflpSMEs",
        "colab_type": "code",
        "outputId": "b490540a-19c7-4d6e-e29b-90fd1fee870e",
        "colab": {
          "base_uri": "https://localhost:8080/",
          "height": 181
        }
      },
      "source": [
        "y_pred3 = gs_xgb3.predict(scaled_x_train2)\n",
        "print(classification_report(y_train2, y_pred3))"
      ],
      "execution_count": 0,
      "outputs": [
        {
          "output_type": "stream",
          "text": [
            "              precision    recall  f1-score   support\n",
            "\n",
            "           0       0.94      0.96      0.95       100\n",
            "           1       0.95      0.93      0.94        80\n",
            "\n",
            "    accuracy                           0.94       180\n",
            "   macro avg       0.94      0.94      0.94       180\n",
            "weighted avg       0.94      0.94      0.94       180\n",
            "\n"
          ],
          "name": "stdout"
        }
      ]
    }
  ]
}